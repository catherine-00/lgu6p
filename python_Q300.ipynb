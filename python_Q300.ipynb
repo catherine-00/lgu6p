{
 "cells": [
  {
   "cell_type": "markdown",
   "metadata": {
    "id": "ctZCqAGgh07_"
   },
   "source": [
    "# **초보자를 위한 파이썬 300제**"
   ]
  },
  {
   "cell_type": "markdown",
   "metadata": {
    "id": "_QVGGOa9h-Bj"
   },
   "source": [
    "#01. 파이썬 시작하기"
   ]
  },
  {
   "cell_type": "markdown",
   "metadata": {
    "id": "sj7Go_1oiMVr"
   },
   "source": [
    "## print 기초"
   ]
  },
  {
   "cell_type": "markdown",
   "metadata": {
    "id": "5CcIyxZzWafx"
   },
   "source": [
    "문자열을 출력할 때는 다음으로 문자를 감싸서 출력.\n",
    "\"\" , ''"
   ]
  },
  {
   "cell_type": "code",
   "execution_count": null,
   "metadata": {
    "colab": {
     "base_uri": "https://localhost:8080/"
    },
    "executionInfo": {
     "elapsed": 39,
     "status": "ok",
     "timestamp": 1743212286341,
     "user": {
      "displayName": "_biz catherine",
      "userId": "04404804885371645787"
     },
     "user_tz": -540
    },
    "id": "W7C9zBYcigOX",
    "outputId": "b0337a08-c9f8-4494-d77f-e837cde84e53"
   },
   "outputs": [
    {
     "name": "stdout",
     "output_type": "stream",
     "text": [
      "Hello world\n"
     ]
    }
   ],
   "source": [
    "# 001 화면에 Hello World 문자열을 출력하세요.\n",
    "\n",
    "print(\"Hello world\")"
   ]
  },
  {
   "cell_type": "code",
   "execution_count": null,
   "metadata": {
    "colab": {
     "base_uri": "https://localhost:8080/"
    },
    "executionInfo": {
     "elapsed": 26,
     "status": "ok",
     "timestamp": 1743212346658,
     "user": {
      "displayName": "_biz catherine",
      "userId": "04404804885371645787"
     },
     "user_tz": -540
    },
    "id": "rUFP4OtkjL1n",
    "outputId": "95659ca1-5992-459f-b8f2-237fa993e3d4"
   },
   "outputs": [
    {
     "name": "stdout",
     "output_type": "stream",
     "text": [
      "Mary's cosmetics\n"
     ]
    }
   ],
   "source": [
    "#002 화면에 Mary's cosmetics을 출력하세요. (중간에 '가 있음에 주의하세요)\n",
    "\n",
    "print(\"Mary's cosmetics\")\n"
   ]
  },
  {
   "cell_type": "code",
   "execution_count": null,
   "metadata": {
    "colab": {
     "base_uri": "https://localhost:8080/"
    },
    "executionInfo": {
     "elapsed": 36,
     "status": "ok",
     "timestamp": 1743212416623,
     "user": {
      "displayName": "_biz catherine",
      "userId": "04404804885371645787"
     },
     "user_tz": -540
    },
    "id": "uAiG1GHFjbhF",
    "outputId": "775326a7-204c-4128-b8c4-f2568da9038d"
   },
   "outputs": [
    {
     "name": "stdout",
     "output_type": "stream",
     "text": [
      "신씨가 소리질렀다. \"도둑이야\"\n"
     ]
    }
   ],
   "source": [
    "#003 화면에 아래 문장을 출력하세요. (중간에 \"가 있음에 주의하세요.)\n",
    "# 신씨가 소리질렀다. \"도둑이야\".\n",
    "\n",
    "print('신씨가 소리질렀다. \"도둑이야\"')"
   ]
  },
  {
   "cell_type": "code",
   "execution_count": null,
   "metadata": {
    "colab": {
     "base_uri": "https://localhost:8080/"
    },
    "executionInfo": {
     "elapsed": 27,
     "status": "ok",
     "timestamp": 1743212543937,
     "user": {
      "displayName": "_biz catherine",
      "userId": "04404804885371645787"
     },
     "user_tz": -540
    },
    "id": "03FLGqHTjrWM",
    "outputId": "63409232-f80a-4ac9-c9d7-ebcc6de5913d"
   },
   "outputs": [
    {
     "name": "stdout",
     "output_type": "stream",
     "text": [
      "C:\\windows\n"
     ]
    }
   ],
   "source": [
    "# 004 화면에 C:\\Windows를 출력하세요.\n",
    "\n",
    "print(\"C:\\windows\")"
   ]
  },
  {
   "cell_type": "markdown",
   "metadata": {
    "id": "miFNXtDMWrkf"
   },
   "source": [
    "## '\\t', '\\n'\n",
    "\n",
    "'\\t' : 탭(=스페이스 4개)\n",
    "'\\n' : 엔터"
   ]
  },
  {
   "cell_type": "code",
   "execution_count": null,
   "metadata": {
    "colab": {
     "base_uri": "https://localhost:8080/"
    },
    "executionInfo": {
     "elapsed": 42,
     "status": "ok",
     "timestamp": 1743242660612,
     "user": {
      "displayName": "_biz catherine",
      "userId": "04404804885371645787"
     },
     "user_tz": -540
    },
    "id": "Aybl6GFzkOqF",
    "outputId": "52033b7c-8a78-4ce6-be2e-7669c9696a09"
   },
   "outputs": [
    {
     "name": "stdout",
     "output_type": "stream",
     "text": [
      "안녕하세요.\n",
      "만나서\t\t반갑습니다.\n"
     ]
    }
   ],
   "source": [
    "#005 다음 코드를 실행해보고 \\t와 \\n의 역할을 설명해보세요.\n",
    "print(\"안녕하세요.\\n만나서\\t\\t반갑습니다.\")"
   ]
  },
  {
   "cell_type": "code",
   "execution_count": null,
   "metadata": {
    "colab": {
     "base_uri": "https://localhost:8080/"
    },
    "executionInfo": {
     "elapsed": 19,
     "status": "ok",
     "timestamp": 1743242712837,
     "user": {
      "displayName": "_biz catherine",
      "userId": "04404804885371645787"
     },
     "user_tz": -540
    },
    "id": "jhwRVEP1XGiK",
    "outputId": "7b52737a-cbeb-4f6f-ae3c-feb87b7e7218"
   },
   "outputs": [
    {
     "name": "stdout",
     "output_type": "stream",
     "text": [
      "오늘은 일요일\n"
     ]
    }
   ],
   "source": [
    "# 006 print 여러 데이터 출력 : 쉼표로 구분하면 공백이 생긴 뒤에 다음 문자가 온다.\n",
    "print (\"오늘은\", \"일요일\")"
   ]
  },
  {
   "cell_type": "markdown",
   "metadata": {
    "id": "1Zm9h1GHYUvx"
   },
   "source": [
    "## sep = \" \" 인자 활용\n",
    "\n",
    "print()문에서 쉼표(,)는 기본적으로 공백으로 출력된다.\n",
    "이 공백을 다른 문자로 대체하고 싶을 때 sep=\"문자\"를 사용한다."
   ]
  },
  {
   "cell_type": "code",
   "execution_count": null,
   "metadata": {
    "colab": {
     "base_uri": "https://localhost:8080/"
    },
    "executionInfo": {
     "elapsed": 17,
     "status": "ok",
     "timestamp": 1743243151248,
     "user": {
      "displayName": "_biz catherine",
      "userId": "04404804885371645787"
     },
     "user_tz": -540
    },
    "id": "mYkq2pLeXUuH",
    "outputId": "fd878a0c-020d-4758-d0db-da7ee8c5f7b9"
   },
   "outputs": [
    {
     "name": "stdout",
     "output_type": "stream",
     "text": [
      "naver;kakao;sk;samsung\n"
     ]
    }
   ],
   "source": [
    "#007 print() 함수를 사용하여 다음과 같이 출력하세요.\n",
    "#naver;kakao;sk;samsung\n",
    "\n",
    "print('naver','kakao', 'sk', 'samsung', sep =';')"
   ]
  },
  {
   "cell_type": "code",
   "execution_count": null,
   "metadata": {
    "colab": {
     "base_uri": "https://localhost:8080/"
    },
    "executionInfo": {
     "elapsed": 12,
     "status": "ok",
     "timestamp": 1743243227104,
     "user": {
      "displayName": "_biz catherine",
      "userId": "04404804885371645787"
     },
     "user_tz": -540
    },
    "id": "pd3yQQJCZA9C",
    "outputId": "b091cbca-7935-45a5-edc7-0227bbe26a24"
   },
   "outputs": [
    {
     "name": "stdout",
     "output_type": "stream",
     "text": [
      "naver/kakao/sk/samsung\n"
     ]
    }
   ],
   "source": [
    "#008 print() 함수를 사용하여 다음과 같이 출력하세요.\n",
    "# naver/kakao/sk/samsung\n",
    "\n",
    "print('naver','kakao', 'sk', 'samsung', sep = '/')"
   ]
  },
  {
   "cell_type": "markdown",
   "metadata": {
    "id": "Z5vHcc-gZUS0"
   },
   "source": [
    "## end = ' ' 인자 활용\n",
    "\n",
    "print()문은 괄호 안 문자를 출력한 후 기본적으로 줄바꿈을 실행한다. 줄바꿈을 실행하고 싶지 않을 때 end=''를 사용한다."
   ]
  },
  {
   "cell_type": "code",
   "execution_count": null,
   "metadata": {
    "colab": {
     "base_uri": "https://localhost:8080/"
    },
    "executionInfo": {
     "elapsed": 29,
     "status": "ok",
     "timestamp": 1743243385822,
     "user": {
      "displayName": "_biz catherine",
      "userId": "04404804885371645787"
     },
     "user_tz": -540
    },
    "id": "ze-jf2QRZN3l",
    "outputId": "2683cf1c-dda5-4864-fd15-751c24c04cdf"
   },
   "outputs": [
    {
     "name": "stdout",
     "output_type": "stream",
     "text": [
      "first\n",
      "second\n",
      "firstsecond\n"
     ]
    }
   ],
   "source": [
    "#009 다음 코드를 수정하여 줄바꿈이 없이 출력하세요. (힌트: end='')\n",
    "# print 함수는 두 번 사용합니다.\n",
    "# 세미콜론 (;)은 한줄에 여러 개의 명령을 작성하기 위해 사용합니다.\n",
    "# print(\"first\");print(\"second\")\n",
    "\n",
    "print(\"first\");print(\"second\")\n",
    "print(\"first\",end='');print(\"second\")\n",
    "\n"
   ]
  },
  {
   "cell_type": "code",
   "execution_count": null,
   "metadata": {
    "colab": {
     "base_uri": "https://localhost:8080/"
    },
    "executionInfo": {
     "elapsed": 16,
     "status": "ok",
     "timestamp": 1743243538523,
     "user": {
      "displayName": "_biz catherine",
      "userId": "04404804885371645787"
     },
     "user_tz": -540
    },
    "id": "IZcsIlIvaQ1H",
    "outputId": "453621c2-c116-46c2-f0f7-46f87a95a3f5"
   },
   "outputs": [
    {
     "name": "stdout",
     "output_type": "stream",
     "text": [
      "1.6666666666666667\n"
     ]
    }
   ],
   "source": [
    "#010 5/3의 결과를 화면에 출력하세요.\n",
    "print(5/3)"
   ]
  },
  {
   "cell_type": "code",
   "execution_count": null,
   "metadata": {
    "id": "eMGSZv6abJ9b"
   },
   "outputs": [],
   "source": []
  },
  {
   "cell_type": "markdown",
   "metadata": {
    "id": "O3dc-QytbYtT"
   },
   "source": [
    "# 02. 파이썬 변수"
   ]
  },
  {
   "cell_type": "code",
   "execution_count": null,
   "metadata": {
    "colab": {
     "base_uri": "https://localhost:8080/"
    },
    "executionInfo": {
     "elapsed": 28,
     "status": "ok",
     "timestamp": 1743244045474,
     "user": {
      "displayName": "_biz catherine",
      "userId": "04404804885371645787"
     },
     "user_tz": -540
    },
    "id": "G2nBEArqb4jp",
    "outputId": "b602e7a7-2d50-4ffc-91a1-d45098f7ebda"
   },
   "outputs": [
    {
     "name": "stdout",
     "output_type": "stream",
     "text": [
      "총 평가금액 500000\n"
     ]
    }
   ],
   "source": [
    "#011 변수 사용하기\n",
    "# 삼성전자라는 변수로 50,000원을 바인딩해보세요.\n",
    "#삼성전자 주식 10주를 보유하고 있을 때 총 평가금액을 출력하세요.\n",
    "\n",
    "삼성전자 = 50000\n",
    "보유량 = 10\n",
    "print(\"총 평가금액\", 삼성전자*보유량)\n"
   ]
  },
  {
   "cell_type": "code",
   "execution_count": null,
   "metadata": {
    "id": "niHVEuhucU-P"
   },
   "outputs": [],
   "source": [
    "#012 다음 표는 삼성전자의 일부 투자정보입니다.\n",
    "#변수를 사용해서 시가총액, 현재가, PER 등을 바인딩해보세요.\n"
   ]
  },
  {
   "cell_type": "markdown",
   "metadata": {
    "id": "nNVrfE0xdTgs"
   },
   "source": [
    "## 문자열은 +로 연결할 수 있다."
   ]
  },
  {
   "cell_type": "code",
   "execution_count": null,
   "metadata": {
    "colab": {
     "base_uri": "https://localhost:8080/"
    },
    "executionInfo": {
     "elapsed": 100,
     "status": "ok",
     "timestamp": 1743244431197,
     "user": {
      "displayName": "_biz catherine",
      "userId": "04404804885371645787"
     },
     "user_tz": -540
    },
    "id": "yjPnteuKctP6",
    "outputId": "19acf34a-75db-4bdd-bbbd-b7b8d0763185"
   },
   "outputs": [
    {
     "name": "stdout",
     "output_type": "stream",
     "text": [
      "hello! python\n",
      "hello! python\n"
     ]
    }
   ],
   "source": [
    "#013 문자열 출력\n",
    "# 변수 s와 t에는 각각 문자열이 바인딩 되어있습니다.\n",
    "s = \"hello\"\n",
    "t = \"python\"\n",
    "# 두 변수를 이용하여 아래와 같이 출력해보세요.\n",
    "#실행 예:hello! python\n",
    "\n",
    "print(s+\"!\",t)\n",
    "print(s,t,sep=\"! \")"
   ]
  },
  {
   "cell_type": "code",
   "execution_count": null,
   "metadata": {
    "colab": {
     "base_uri": "https://localhost:8080/"
    },
    "executionInfo": {
     "elapsed": 34,
     "status": "ok",
     "timestamp": 1743244474502,
     "user": {
      "displayName": "_biz catherine",
      "userId": "04404804885371645787"
     },
     "user_tz": -540
    },
    "id": "WVnfzhnEdcq9",
    "outputId": "1e8f9552-9abd-4030-c1d2-93bf569cc754"
   },
   "outputs": [
    {
     "name": "stdout",
     "output_type": "stream",
     "text": [
      "8\n"
     ]
    }
   ],
   "source": [
    "# 014 파이썬을 이용한 값 계산\n",
    "# 아래 코드의 실행 결과를 예상해보세요.\n",
    "# 2 + 2 * 3\n",
    "\n",
    "print(2+2*3)\n",
    "\n",
    "#곱하기가 먼저 계산된다!!"
   ]
  },
  {
   "cell_type": "markdown",
   "metadata": {
    "id": "1_0xnvPDeXQv"
   },
   "source": [
    "## type() 함수\n",
    "\n",
    "type() 함수는 데이터 타입을 판별한다."
   ]
  },
  {
   "cell_type": "code",
   "execution_count": null,
   "metadata": {
    "colab": {
     "base_uri": "https://localhost:8080/"
    },
    "executionInfo": {
     "elapsed": 23,
     "status": "ok",
     "timestamp": 1743244572729,
     "user": {
      "displayName": "_biz catherine",
      "userId": "04404804885371645787"
     },
     "user_tz": -540
    },
    "id": "c5kG2gyveBTb",
    "outputId": "10fe85aa-1a87-4ddd-9a09-f8fa8c2c3a84"
   },
   "outputs": [
    {
     "name": "stdout",
     "output_type": "stream",
     "text": [
      "132 <class 'str'>\n"
     ]
    }
   ],
   "source": [
    "# 015 type 함수\n",
    "#type() 함수는 데이터 타입을 판별합니다.\n",
    "#변수 a에는 128 숫자가 바인딩돼 있어 type 함수가 int (정수)형임을 알려줍니다.\n",
    "#아래 변수에 바인딩된 값의 타입을 판별해보세요.\n",
    "a = \"132\"\n",
    "print(a, type(a))"
   ]
  },
  {
   "cell_type": "markdown",
   "metadata": {
    "id": "bJs078YwfnTu"
   },
   "source": [
    "## 타입 변환"
   ]
  },
  {
   "cell_type": "code",
   "execution_count": null,
   "metadata": {
    "colab": {
     "base_uri": "https://localhost:8080/"
    },
    "executionInfo": {
     "elapsed": 44,
     "status": "ok",
     "timestamp": 1743244705935,
     "user": {
      "displayName": "_biz catherine",
      "userId": "04404804885371645787"
     },
     "user_tz": -540
    },
    "id": "-CyE9nfWef8M",
    "outputId": "6093608d-d23a-4231-898b-ef6616d7e5eb"
   },
   "outputs": [
    {
     "name": "stdout",
     "output_type": "stream",
     "text": [
      "720 <class 'int'>\n"
     ]
    }
   ],
   "source": [
    "# 016 문자열을 정수로 변환\n",
    "num_str = \"720\"\n",
    "num_str = int(num_str)\n",
    "print(num_str, type(num_str))"
   ]
  },
  {
   "cell_type": "code",
   "execution_count": null,
   "metadata": {
    "colab": {
     "base_uri": "https://localhost:8080/"
    },
    "executionInfo": {
     "elapsed": 36,
     "status": "ok",
     "timestamp": 1743244893713,
     "user": {
      "displayName": "_biz catherine",
      "userId": "04404804885371645787"
     },
     "user_tz": -540
    },
    "id": "cYh0b33bfX1b",
    "outputId": "a89cd8b9-8520-409c-a2cc-a2778ed24910"
   },
   "outputs": [
    {
     "name": "stdout",
     "output_type": "stream",
     "text": [
      "100 <class 'str'>\n"
     ]
    }
   ],
   "source": [
    "# 017 정수를 문자열 100으로 변환\n",
    "num = 100\n",
    "num = str(num)\n",
    "print(num, type(num))"
   ]
  },
  {
   "cell_type": "code",
   "execution_count": null,
   "metadata": {
    "colab": {
     "base_uri": "https://localhost:8080/"
    },
    "executionInfo": {
     "elapsed": 29,
     "status": "ok",
     "timestamp": 1743244985612,
     "user": {
      "displayName": "_biz catherine",
      "userId": "04404804885371645787"
     },
     "user_tz": -540
    },
    "id": "FhlQiDsaflKa",
    "outputId": "60a70b91-603d-40f5-af20-fed47407175b"
   },
   "outputs": [
    {
     "name": "stdout",
     "output_type": "stream",
     "text": [
      "15.79 <class 'float'>\n"
     ]
    }
   ],
   "source": [
    "# 018 문자열을 실수로 변환\n",
    "num = \"15.79\"\n",
    "num = float(num)\n",
    "print(num, type(num))"
   ]
  },
  {
   "cell_type": "code",
   "execution_count": null,
   "metadata": {
    "colab": {
     "base_uri": "https://localhost:8080/"
    },
    "executionInfo": {
     "elapsed": 52,
     "status": "ok",
     "timestamp": 1743246984197,
     "user": {
      "displayName": "_biz catherine",
      "userId": "04404804885371645787"
     },
     "user_tz": -540
    },
    "id": "8VrvhH_vf7tH",
    "outputId": "68508e6c-0281-46c5-fce9-55ebec1ed641"
   },
   "outputs": [
    {
     "name": "stdout",
     "output_type": "stream",
     "text": [
      "2019\n",
      "2020\n",
      "2021\n"
     ]
    }
   ],
   "source": [
    "# 019 문자열을 정수로 변환\n",
    "year = \"2020\"\n",
    "\n",
    "year = int(year)\n",
    "print(year-1)\n",
    "print(year)\n",
    "print(year+1)"
   ]
  },
  {
   "cell_type": "code",
   "execution_count": null,
   "metadata": {
    "colab": {
     "base_uri": "https://localhost:8080/"
    },
    "executionInfo": {
     "elapsed": 35,
     "status": "ok",
     "timestamp": 1743247047430,
     "user": {
      "displayName": "_biz catherine",
      "userId": "04404804885371645787"
     },
     "user_tz": -540
    },
    "id": "l81I8YehngKX",
    "outputId": "25a34941-0999-48cd-c7b7-19b1796408d3"
   },
   "outputs": [
    {
     "name": "stdout",
     "output_type": "stream",
     "text": [
      "1749024\n"
     ]
    }
   ],
   "source": [
    "# 020 파이썬 계산\n",
    "month = 48584\n",
    "total = month*36\n",
    "print(total)"
   ]
  },
  {
   "cell_type": "markdown",
   "metadata": {
    "id": "nNQWyb2RnzsB"
   },
   "source": [
    "# 03. 파이썬 문자열"
   ]
  },
  {
   "cell_type": "markdown",
   "metadata": {
    "id": "4rKFvvOXoAfW"
   },
   "source": [
    "## 문자열 인덱싱\n",
    "\n",
    "\n",
    "\n",
    "*   문자열은 for문을 돌리지 않고도 인덱싱이 가능하다.\n",
    "*   문자열[start:end:stride]\n",
    "\n"
   ]
  },
  {
   "cell_type": "markdown",
   "metadata": {
    "id": "nY9FA4cTqUPE"
   },
   "source": [
    "문자열은 인덱스가 있다."
   ]
  },
  {
   "cell_type": "code",
   "execution_count": null,
   "metadata": {
    "colab": {
     "base_uri": "https://localhost:8080/"
    },
    "executionInfo": {
     "elapsed": 26,
     "status": "ok",
     "timestamp": 1743247235831,
     "user": {
      "displayName": "_biz catherine",
      "userId": "04404804885371645787"
     },
     "user_tz": -540
    },
    "id": "Ms4BJepbn7XQ",
    "outputId": "a55554c1-3486-427b-f8fa-2123b7fc7d4d"
   },
   "outputs": [
    {
     "name": "stdout",
     "output_type": "stream",
     "text": [
      "p y\n"
     ]
    }
   ],
   "source": [
    "# 021 문자열 인덱싱\n",
    "# letters가 바인딩하는 문자열에서 첫번째와 세번째 문자를 출력하세요.\n",
    "letters = 'python'\n",
    "\n",
    "print(letters[0], letters[1])"
   ]
  },
  {
   "cell_type": "markdown",
   "metadata": {
    "id": "Mt-WXpy2qhE_"
   },
   "source": [
    "슬라이싱 [start:end:strid]"
   ]
  },
  {
   "cell_type": "code",
   "execution_count": null,
   "metadata": {
    "colab": {
     "base_uri": "https://localhost:8080/"
    },
    "executionInfo": {
     "elapsed": 17,
     "status": "ok",
     "timestamp": 1743247366822,
     "user": {
      "displayName": "_biz catherine",
      "userId": "04404804885371645787"
     },
     "user_tz": -540
    },
    "id": "RYcVwC9ioeLy",
    "outputId": "81ba0e17-fa6e-41d9-9346-ac7c866d0bf8"
   },
   "outputs": [
    {
     "name": "stdout",
     "output_type": "stream",
     "text": [
      "2210\n"
     ]
    }
   ],
   "source": [
    "# 022 문자열 슬라이싱\n",
    "# 자동차 번호가 다음과 같을 때 뒤에 4자리만 출력하세요.\n",
    "license_plate = \"24가 2210\"\n",
    "\n",
    "print(license_plate[-4:])"
   ]
  },
  {
   "cell_type": "code",
   "execution_count": null,
   "metadata": {
    "colab": {
     "base_uri": "https://localhost:8080/"
    },
    "executionInfo": {
     "elapsed": 23,
     "status": "ok",
     "timestamp": 1743247590486,
     "user": {
      "displayName": "_biz catherine",
      "userId": "04404804885371645787"
     },
     "user_tz": -540
    },
    "id": "789g9l-OpEtO",
    "outputId": "81d1ff50-c98d-4054-93f7-2ece8caece20"
   },
   "outputs": [
    {
     "name": "stdout",
     "output_type": "stream",
     "text": [
      "홀홀홀\n"
     ]
    }
   ],
   "source": [
    "# 023 문자열 인덱싱\n",
    "# 아래의 문자열에서 '홀' 만 출력하세요.\n",
    "string = \"홀짝홀짝홀짝\"\n",
    "print(string[::2])\n"
   ]
  },
  {
   "cell_type": "code",
   "execution_count": null,
   "metadata": {
    "colab": {
     "base_uri": "https://localhost:8080/"
    },
    "executionInfo": {
     "elapsed": 20,
     "status": "ok",
     "timestamp": 1743247624435,
     "user": {
      "displayName": "_biz catherine",
      "userId": "04404804885371645787"
     },
     "user_tz": -540
    },
    "id": "xhWSYS91p18f",
    "outputId": "0417a93b-cbe8-4db3-c109-95c88e5c7b41"
   },
   "outputs": [
    {
     "name": "stdout",
     "output_type": "stream",
     "text": [
      "NOHTYP\n"
     ]
    }
   ],
   "source": [
    "# 024 문자열 슬라이싱\n",
    "# 문자열을 거꾸로 뒤집어 출력하세요.\n",
    "string = \"PYTHON\"\n",
    "print(string[::-1])\n"
   ]
  },
  {
   "cell_type": "markdown",
   "metadata": {
    "id": "Tv17LHE3qmLk"
   },
   "source": [
    "문자열 치환 : replace.('치환될 문자','치환할 문자')"
   ]
  },
  {
   "cell_type": "code",
   "execution_count": null,
   "metadata": {
    "colab": {
     "base_uri": "https://localhost:8080/"
    },
    "executionInfo": {
     "elapsed": 17,
     "status": "ok",
     "timestamp": 1743247706922,
     "user": {
      "displayName": "_biz catherine",
      "userId": "04404804885371645787"
     },
     "user_tz": -540
    },
    "id": "ucLWbKYJqAQ0",
    "outputId": "85fce60f-ad8c-47da-81a4-4b1a5a78db93"
   },
   "outputs": [
    {
     "name": "stdout",
     "output_type": "stream",
     "text": [
      "010 1111 2222\n"
     ]
    }
   ],
   "source": [
    "# 025 문자열 치환\n",
    "# 아래의 전화번호에서 하이푼 ('-')을 제거하고 출력하세요.\n",
    "phone_number = \"010-1111-2222\"\n",
    "\n",
    "print(phone_number.replace(\"-\",\" \"))"
   ]
  },
  {
   "cell_type": "code",
   "execution_count": null,
   "metadata": {
    "colab": {
     "base_uri": "https://localhost:8080/"
    },
    "executionInfo": {
     "elapsed": 49,
     "status": "ok",
     "timestamp": 1743247910418,
     "user": {
      "displayName": "_biz catherine",
      "userId": "04404804885371645787"
     },
     "user_tz": -540
    },
    "id": "GuRl-Deqq8Rr",
    "outputId": "5a280d2a-3d9b-4d56-c9c9-26d7a97f0f8f"
   },
   "outputs": [
    {
     "name": "stdout",
     "output_type": "stream",
     "text": [
      "01011112222\n"
     ]
    }
   ],
   "source": [
    "# 026 문자열 다루기\n",
    "# 25번 문제의 전화번호를 아래와 같이 모두 붙여 출력하세요.\n",
    "phone_number = \"010-1111-2222\"\n",
    "\n",
    "print(phone_number.replace(\"-\",\"\"))"
   ]
  },
  {
   "cell_type": "markdown",
   "metadata": {
    "id": "Kgsml7rmrM-t"
   },
   "source": [
    "문자열은 인덱스가 있지만 직접 수정할 수 없다.\n",
    "replace() 메서드 써야 한다.\n",
    "그렇다고 직접 수정되는 것은 아니다.\n",
    "원본은 남겨두고, replace()를 적용한 결과만 화면에 출력한다."
   ]
  },
  {
   "cell_type": "code",
   "execution_count": null,
   "metadata": {
    "colab": {
     "base_uri": "https://localhost:8080/",
     "height": 218
    },
    "executionInfo": {
     "elapsed": 130,
     "status": "error",
     "timestamp": 1743247988182,
     "user": {
      "displayName": "_biz catherine",
      "userId": "04404804885371645787"
     },
     "user_tz": -540
    },
    "id": "72764VPIrE1j",
    "outputId": "ca22a6b2-bb3e-405d-f1a5-7f4d2da38d79"
   },
   "outputs": [
    {
     "ename": "TypeError",
     "evalue": "'str' object does not support item assignment",
     "output_type": "error",
     "traceback": [
      "\u001b[0;31m---------------------------------------------------------------------------\u001b[0m",
      "\u001b[0;31mTypeError\u001b[0m                                 Traceback (most recent call last)",
      "\u001b[0;32m<ipython-input-31-de622cfe8a64>\u001b[0m in \u001b[0;36m<cell line: 0>\u001b[0;34m()\u001b[0m\n\u001b[1;32m      2\u001b[0m \u001b[0;31m# 아래 코드의 실행 결과를 예상해보세요.\u001b[0m\u001b[0;34m\u001b[0m\u001b[0;34m\u001b[0m\u001b[0m\n\u001b[1;32m      3\u001b[0m \u001b[0mlang\u001b[0m \u001b[0;34m=\u001b[0m \u001b[0;34m'python'\u001b[0m\u001b[0;34m\u001b[0m\u001b[0;34m\u001b[0m\u001b[0m\n\u001b[0;32m----> 4\u001b[0;31m \u001b[0mlang\u001b[0m\u001b[0;34m[\u001b[0m\u001b[0;36m0\u001b[0m\u001b[0;34m]\u001b[0m \u001b[0;34m=\u001b[0m \u001b[0;34m'P'\u001b[0m\u001b[0;34m\u001b[0m\u001b[0;34m\u001b[0m\u001b[0m\n\u001b[0m\u001b[1;32m      5\u001b[0m \u001b[0mprint\u001b[0m\u001b[0;34m(\u001b[0m\u001b[0mlang\u001b[0m\u001b[0;34m)\u001b[0m\u001b[0;34m\u001b[0m\u001b[0;34m\u001b[0m\u001b[0m\n\u001b[1;32m      6\u001b[0m \u001b[0;34m\u001b[0m\u001b[0m\n",
      "\u001b[0;31mTypeError\u001b[0m: 'str' object does not support item assignment"
     ]
    }
   ],
   "source": [
    "# 028 문자열은 immutable\n",
    "# 아래 코드의 실행 결과를 예상해보세요.\n",
    "lang = 'python'\n",
    "lang[0] = 'P'\n",
    "print(lang)\n",
    "\n",
    "\n"
   ]
  },
  {
   "cell_type": "code",
   "execution_count": null,
   "metadata": {
    "colab": {
     "base_uri": "https://localhost:8080/"
    },
    "executionInfo": {
     "elapsed": 33,
     "status": "ok",
     "timestamp": 1743248035393,
     "user": {
      "displayName": "_biz catherine",
      "userId": "04404804885371645787"
     },
     "user_tz": -540
    },
    "id": "ETwFomp7rWdg",
    "outputId": "91ee2977-a215-4376-f1fb-6cbdf675059d"
   },
   "outputs": [
    {
     "name": "stdout",
     "output_type": "stream",
     "text": [
      "Abcdfe2A354A32A\n"
     ]
    }
   ],
   "source": [
    "# 029 replace 메서드\n",
    "# 아래 문자열에서 소문자 'a'를 대문자 'A'로 변경하세요.\n",
    "string = 'abcdfe2a354a32a'\n",
    "print(string.replace(\"a\",\"A\"))"
   ]
  },
  {
   "cell_type": "code",
   "execution_count": null,
   "metadata": {
    "colab": {
     "base_uri": "https://localhost:8080/"
    },
    "executionInfo": {
     "elapsed": 65,
     "status": "ok",
     "timestamp": 1743248075580,
     "user": {
      "displayName": "_biz catherine",
      "userId": "04404804885371645787"
     },
     "user_tz": -540
    },
    "id": "3oBoWbMlrjRt",
    "outputId": "ba550215-0e88-4419-bbe0-28b5687510ab"
   },
   "outputs": [
    {
     "name": "stdout",
     "output_type": "stream",
     "text": [
      "abcd\n"
     ]
    }
   ],
   "source": [
    "# 030 replace 메서드\n",
    "# 아래 코드의 실행 결과를 예상해보세요.\n",
    "string = 'abcd'\n",
    "string.replace('b', 'B')\n",
    "print(string)\n",
    "\n"
   ]
  },
  {
   "cell_type": "markdown",
   "metadata": {
    "id": "Dd-gN3bysRlO"
   },
   "source": [
    "\n",
    "\n",
    "*   문자열은 +로 이어 붙일 수 있다.\n",
    "*   문자열은 *로 반복해서 쓸 수 있다.\n",
    "\n",
    "\n",
    "\n",
    "\n",
    "\n",
    "\n"
   ]
  },
  {
   "cell_type": "code",
   "execution_count": null,
   "metadata": {
    "colab": {
     "base_uri": "https://localhost:8080/"
    },
    "executionInfo": {
     "elapsed": 61,
     "status": "ok",
     "timestamp": 1743248229341,
     "user": {
      "displayName": "_biz catherine",
      "userId": "04404804885371645787"
     },
     "user_tz": -540
    },
    "id": "xNtATMzGr-tK",
    "outputId": "305272b4-8f08-4a75-bc9a-b2c5aec854b9"
   },
   "outputs": [
    {
     "name": "stdout",
     "output_type": "stream",
     "text": [
      "34\n"
     ]
    }
   ],
   "source": [
    "# 031 문자열 합치기\n",
    "# 아래 코드의 실행 결과를 예상해보세요.\n",
    "a = \"3\"\n",
    "b = \"4\"\n",
    "print(a + b)\n",
    "\n"
   ]
  },
  {
   "cell_type": "code",
   "execution_count": null,
   "metadata": {
    "colab": {
     "base_uri": "https://localhost:8080/"
    },
    "executionInfo": {
     "elapsed": 63,
     "status": "ok",
     "timestamp": 1743248306758,
     "user": {
      "displayName": "_biz catherine",
      "userId": "04404804885371645787"
     },
     "user_tz": -540
    },
    "id": "GipDAIqdsWFZ",
    "outputId": "1b150605-9997-43ab-e807-545d3f4538dd"
   },
   "outputs": [
    {
     "name": "stdout",
     "output_type": "stream",
     "text": [
      "HiHiHi\n"
     ]
    }
   ],
   "source": [
    "# 032 문자열 곱하기\n",
    "# 아래 코드의 실행 결과를 예상해보세요.\n",
    "print(\"Hi\" * 3)\n"
   ]
  },
  {
   "cell_type": "code",
   "execution_count": null,
   "metadata": {
    "colab": {
     "base_uri": "https://localhost:8080/"
    },
    "executionInfo": {
     "elapsed": 52,
     "status": "ok",
     "timestamp": 1743248353980,
     "user": {
      "displayName": "_biz catherine",
      "userId": "04404804885371645787"
     },
     "user_tz": -540
    },
    "id": "AE05dr5esg-3",
    "outputId": "6dfc721c-7b18-4677-e79d-15920646133b"
   },
   "outputs": [
    {
     "name": "stdout",
     "output_type": "stream",
     "text": [
      "--------------------------------------------------------------------------------\n"
     ]
    }
   ],
   "source": [
    "# 033 문자열 곱하기\n",
    "# 화면에 '-'를 80개 출력하세요.\n",
    "print('-'*80)"
   ]
  },
  {
   "cell_type": "code",
   "execution_count": null,
   "metadata": {
    "colab": {
     "base_uri": "https://localhost:8080/"
    },
    "executionInfo": {
     "elapsed": 19,
     "status": "ok",
     "timestamp": 1743248515452,
     "user": {
      "displayName": "_biz catherine",
      "userId": "04404804885371645787"
     },
     "user_tz": -540
    },
    "id": "Ze5WG5jDswOD",
    "outputId": "d42ec5cf-ec99-4250-df31-6202ce1eff20"
   },
   "outputs": [
    {
     "name": "stdout",
     "output_type": "stream",
     "text": [
      "python java python java python java \n"
     ]
    }
   ],
   "source": [
    "# 034 문자열 곱하기\n",
    "# 변수에 다음과 같은 문자열이 바인딩되어 있습니다.\n",
    "\n",
    "t1 = 'python'\n",
    "t2 = 'java'\n",
    "# 변수에 문자열 더하기와 문자열 곱하기를 사용해서 아래와 같이 출력해보세요.\n",
    "\n",
    "# 실행 예:\n",
    "# python java python java python java python java\n",
    "\n",
    "t3 = t1 + ' ' + t2 + ' '\n",
    "print(t3*3)"
   ]
  },
  {
   "cell_type": "markdown",
   "metadata": {
    "id": "BaYPGzHktfl8"
   },
   "source": [
    "%formatting\n",
    "\n",
    "\n",
    "*   f-string : print(f\"{변수 이름} 문자 어쩌구\")\n",
    "*   format()메서드 : print(\"문자문자 {} 문자문자\".format(변수이름))\n",
    "*   %formatting : print(\"문자문자 %__ 문자문자\" %(변수이름))\n",
    "\n",
    "%s : 문자열 데이터\n",
    "%d : 정수형 데이터\n",
    "\n"
   ]
  },
  {
   "cell_type": "code",
   "execution_count": null,
   "metadata": {
    "colab": {
     "base_uri": "https://localhost:8080/"
    },
    "executionInfo": {
     "elapsed": 44,
     "status": "ok",
     "timestamp": 1743248701473,
     "user": {
      "displayName": "_biz catherine",
      "userId": "04404804885371645787"
     },
     "user_tz": -540
    },
    "id": "p-CnfzRQtXNs",
    "outputId": "396ee23f-9db5-434c-ba7f-81966a188153"
   },
   "outputs": [
    {
     "name": "stdout",
     "output_type": "stream",
     "text": [
      "이름 : 김민수  나이 : 10\n",
      "이름 : 이철희  나이 : 13\n"
     ]
    }
   ],
   "source": [
    "# 035 문자열 출력\n",
    "# 변수에 다음과 같이 문자열과 정수가 바인딩되어 있을 때 % formatting을 사용해서 다음과 같이 출력해보세요.\n",
    "name1 = \"김민수\"\n",
    "age1 = 10\n",
    "name2 = \"이철희\"\n",
    "age2 = 13\n",
    "\n",
    "# 이름: 김민수 나이: 10\n",
    "# 이름: 이철희 나이: 13\n",
    "\n",
    "print(f\"이름 : {name1}  나이 : {age1}\")\n",
    "print(\"이름 : {}  나이 : {}\".format(name2,age2))"
   ]
  },
  {
   "cell_type": "code",
   "execution_count": null,
   "metadata": {
    "id": "9WmJq0hCujQQ"
   },
   "outputs": [],
   "source": [
    "# 036 문자열 출력\n",
    "# 문자열의 format( ) 메서드를 사용해서 035번 문제를 다시 풀어보세요."
   ]
  },
  {
   "cell_type": "code",
   "execution_count": null,
   "metadata": {
    "id": "3JTOQ79YuoA6"
   },
   "outputs": [],
   "source": [
    "# 037 문자열 출력\n",
    "# 파이썬 3.6부터 지원하는 f-string을 사용해서 035번 문제를 다시 풀어보세요."
   ]
  },
  {
   "cell_type": "code",
   "execution_count": null,
   "metadata": {
    "colab": {
     "base_uri": "https://localhost:8080/"
    },
    "executionInfo": {
     "elapsed": 47,
     "status": "ok",
     "timestamp": 1743248985377,
     "user": {
      "displayName": "_biz catherine",
      "userId": "04404804885371645787"
     },
     "user_tz": -540
    },
    "id": "xKmaJvQ7u4Mg",
    "outputId": "a5584d68-2a88-4452-9e43-62899e9cdd50"
   },
   "outputs": [
    {
     "name": "stdout",
     "output_type": "stream",
     "text": [
      "5969782550\n"
     ]
    }
   ],
   "source": [
    "# 038 컴마 제거하기\n",
    "# 삼성전자의 상장주식수가 다음과 같습니다. 컴마를 제거한 후 이를 정수 타입으로 변환해보세요.\n",
    "상장주식수 = \"5,969,782,550\"\n",
    "상장주식수 = int(상장주식수.replace(\",\",''))\n",
    "print(상장주식수)"
   ]
  },
  {
   "cell_type": "code",
   "execution_count": null,
   "metadata": {
    "colab": {
     "base_uri": "https://localhost:8080/"
    },
    "executionInfo": {
     "elapsed": 33,
     "status": "ok",
     "timestamp": 1743249058519,
     "user": {
      "displayName": "_biz catherine",
      "userId": "04404804885371645787"
     },
     "user_tz": -540
    },
    "id": "dsZEW6fZvMV8",
    "outputId": "67526168-8504-4548-9e86-57ddb2e7f2d3"
   },
   "outputs": [
    {
     "name": "stdout",
     "output_type": "stream",
     "text": [
      "2020/03\n"
     ]
    }
   ],
   "source": [
    "# 039 문자열 슬라이싱\n",
    "# 다음과 같은 문자열에서 '2020/03'만 출력하세요.\n",
    "분기 = \"2020/03(E) (IFRS연결)\"\n",
    "print(분기[:7])"
   ]
  },
  {
   "cell_type": "markdown",
   "metadata": {
    "id": "MYplj0uVvo42"
   },
   "source": [
    "strip(\"__\") : 특정 문자를 제거하고 싶을 때."
   ]
  },
  {
   "cell_type": "code",
   "execution_count": null,
   "metadata": {
    "colab": {
     "base_uri": "https://localhost:8080/"
    },
    "executionInfo": {
     "elapsed": 41,
     "status": "ok",
     "timestamp": 1743249096019,
     "user": {
      "displayName": "_biz catherine",
      "userId": "04404804885371645787"
     },
     "user_tz": -540
    },
    "id": "8t9eBbMdvcSR",
    "outputId": "5d17365a-2081-44dc-cd2f-286f39125390"
   },
   "outputs": [
    {
     "name": "stdout",
     "output_type": "stream",
     "text": [
      "삼성전자\n"
     ]
    }
   ],
   "source": [
    "# 040 strip 메서드\n",
    "# 문자열의 좌우의 공백이 있을 때 이를 제거해보세요.\n",
    "data = \"   삼성전자    \"\n",
    "data =data.strip(\" \")\n",
    "print(data)"
   ]
  },
  {
   "cell_type": "markdown",
   "metadata": {
    "id": "8LFguyT5vx-B"
   },
   "source": [
    "upper(), lower(), capitalize(), endswith(), startswith(), split(), rstrip(), lstrip()"
   ]
  },
  {
   "cell_type": "code",
   "execution_count": null,
   "metadata": {
    "colab": {
     "base_uri": "https://localhost:8080/"
    },
    "executionInfo": {
     "elapsed": 61,
     "status": "ok",
     "timestamp": 1743249236961,
     "user": {
      "displayName": "_biz catherine",
      "userId": "04404804885371645787"
     },
     "user_tz": -540
    },
    "id": "yjkXh2bCv0wn",
    "outputId": "69ddb995-6ca4-4aa1-c27c-47df91fc835e"
   },
   "outputs": [
    {
     "name": "stdout",
     "output_type": "stream",
     "text": [
      "BTC_KRW\n"
     ]
    }
   ],
   "source": [
    "# 041 upper 메서드\n",
    "# 다음과 같은 문자열이 있을 때 이를 대문자 BTC_KRW로 변경하세요.\n",
    "\n",
    "ticker = \"btc_krw\"\n",
    "print(ticker.upper())"
   ]
  },
  {
   "cell_type": "code",
   "execution_count": null,
   "metadata": {
    "colab": {
     "base_uri": "https://localhost:8080/"
    },
    "executionInfo": {
     "elapsed": 23,
     "status": "ok",
     "timestamp": 1743249269623,
     "user": {
      "displayName": "_biz catherine",
      "userId": "04404804885371645787"
     },
     "user_tz": -540
    },
    "id": "g0_gBxzswIgf",
    "outputId": "e5088a6f-3a4b-40f2-b725-7e8460bd8ee3"
   },
   "outputs": [
    {
     "name": "stdout",
     "output_type": "stream",
     "text": [
      "btc_krw\n"
     ]
    }
   ],
   "source": [
    "# 042 lower 메서드\n",
    "# 다음과 같은 문자열이 있을 때 이를 소문자 btc_krw로 변경하세요.\n",
    "ticker = \"BTC_KRW\"\n",
    "print(ticker.lower())"
   ]
  },
  {
   "cell_type": "code",
   "execution_count": null,
   "metadata": {
    "colab": {
     "base_uri": "https://localhost:8080/"
    },
    "executionInfo": {
     "elapsed": 69,
     "status": "ok",
     "timestamp": 1743249349398,
     "user": {
      "displayName": "_biz catherine",
      "userId": "04404804885371645787"
     },
     "user_tz": -540
    },
    "id": "v5FmMrlIwYH1",
    "outputId": "2a167a61-2028-40f5-b088-56870b2a0848"
   },
   "outputs": [
    {
     "name": "stdout",
     "output_type": "stream",
     "text": [
      "Hello\n"
     ]
    }
   ],
   "source": [
    "# 043 capitalize 메서드\n",
    "# 문자열 'hello'가 있을 때 이를 'Hello'로 변경해보세요.\n",
    "string = \"hello\"\n",
    "print(string.capitalize())"
   ]
  },
  {
   "cell_type": "code",
   "execution_count": null,
   "metadata": {
    "colab": {
     "base_uri": "https://localhost:8080/"
    },
    "executionInfo": {
     "elapsed": 61,
     "status": "ok",
     "timestamp": 1743249425188,
     "user": {
      "displayName": "_biz catherine",
      "userId": "04404804885371645787"
     },
     "user_tz": -540
    },
    "id": "dArf2H57woPj",
    "outputId": "288d26d7-2534-4def-abe8-8f2beb902328"
   },
   "outputs": [
    {
     "data": {
      "text/plain": [
       "True"
      ]
     },
     "execution_count": 53,
     "metadata": {},
     "output_type": "execute_result"
    }
   ],
   "source": [
    "# 044 endswith 메서드\n",
    "# 파일 이름이 문자열로 저장되어 있을 때 endswith 메서드를 사용해서 파일 이름이 'xlsx'로 끝나는지 확인해보세요.\n",
    "\n",
    "file_name = \"보고서.xlsx\"\n",
    "\n",
    "file_name.endswith(\"xlsx\")"
   ]
  },
  {
   "cell_type": "code",
   "execution_count": null,
   "metadata": {
    "colab": {
     "base_uri": "https://localhost:8080/"
    },
    "executionInfo": {
     "elapsed": 24,
     "status": "ok",
     "timestamp": 1743249521891,
     "user": {
      "displayName": "_biz catherine",
      "userId": "04404804885371645787"
     },
     "user_tz": -540
    },
    "id": "q9cdIgliw-Tr",
    "outputId": "23dd6e0c-e6e6-4cda-e7f3-8f5f679066f4"
   },
   "outputs": [
    {
     "data": {
      "text/plain": [
       "True"
      ]
     },
     "execution_count": 55,
     "metadata": {},
     "output_type": "execute_result"
    }
   ],
   "source": [
    "# 045 endswith 메서드\n",
    "# 파일 이름이 문자열로 저장되어 있을 때\n",
    "#endswith 메서드를 사용해서 파일 이름이 'xlsx' 또는 'xls'로 끝나는지 확인해보세요.\n",
    "\n",
    "file_name = \"보고서.xlsx\"\n",
    "\n",
    "file_name.endswith((\"xlsx\",'xls'))"
   ]
  },
  {
   "cell_type": "code",
   "execution_count": null,
   "metadata": {
    "colab": {
     "base_uri": "https://localhost:8080/"
    },
    "executionInfo": {
     "elapsed": 9,
     "status": "ok",
     "timestamp": 1743304635010,
     "user": {
      "displayName": "_biz catherine",
      "userId": "04404804885371645787"
     },
     "user_tz": -540
    },
    "id": "I9DXSlJCDORg",
    "outputId": "8dbcd894-86e6-49d3-d6fa-4443fe49b649"
   },
   "outputs": [
    {
     "data": {
      "text/plain": [
       "True"
      ]
     },
     "execution_count": 2,
     "metadata": {},
     "output_type": "execute_result"
    }
   ],
   "source": [
    "# 046 startswith 메서드\n",
    "# 파일 이름이 문자열로 저장되어 있을 때\n",
    "# startswith 메서드를 사용해서 파일 이름이 '2020'로 시작하는지 확인해보세요.\n",
    "file_name = \"2020_보고서.xlsx\"\n",
    "file_name.startswith(\"2020\")"
   ]
  },
  {
   "cell_type": "code",
   "execution_count": null,
   "metadata": {
    "colab": {
     "base_uri": "https://localhost:8080/"
    },
    "executionInfo": {
     "elapsed": 23,
     "status": "ok",
     "timestamp": 1743304688805,
     "user": {
      "displayName": "_biz catherine",
      "userId": "04404804885371645787"
     },
     "user_tz": -540
    },
    "id": "EIa86IoWDc42",
    "outputId": "2022fb3a-9008-4914-a79e-3df95b82112f"
   },
   "outputs": [
    {
     "data": {
      "text/plain": [
       "['hello', 'world']"
      ]
     },
     "execution_count": 3,
     "metadata": {},
     "output_type": "execute_result"
    }
   ],
   "source": [
    "# 047 split 메서드\n",
    "# 다음과 같은 문자열이 있을 때 공백을 기준으로 문자열을 나눠보세요.\n",
    "a = \"hello world\"\n",
    "a.split(\" \")\n",
    "\n",
    "#나누고 리스트에 저장함"
   ]
  },
  {
   "cell_type": "code",
   "execution_count": null,
   "metadata": {
    "colab": {
     "base_uri": "https://localhost:8080/"
    },
    "executionInfo": {
     "elapsed": 24,
     "status": "ok",
     "timestamp": 1743304762601,
     "user": {
      "displayName": "_biz catherine",
      "userId": "04404804885371645787"
     },
     "user_tz": -540
    },
    "id": "13-tnpzvDurZ",
    "outputId": "2ceef76f-10c7-4908-c1e3-c72b6c76f911"
   },
   "outputs": [
    {
     "data": {
      "text/plain": [
       "['btc', 'krw']"
      ]
     },
     "execution_count": 4,
     "metadata": {},
     "output_type": "execute_result"
    }
   ],
   "source": [
    "# 048 split 메서드\n",
    "# 다음과 같이 문자열이 있을 때 btc와 krw로 나눠보세요.\n",
    "ticker = \"btc_krw\"\n",
    "\n",
    "ticker.split(\"_\")\n"
   ]
  },
  {
   "cell_type": "code",
   "execution_count": null,
   "metadata": {
    "colab": {
     "base_uri": "https://localhost:8080/"
    },
    "executionInfo": {
     "elapsed": 24,
     "status": "ok",
     "timestamp": 1743304797019,
     "user": {
      "displayName": "_biz catherine",
      "userId": "04404804885371645787"
     },
     "user_tz": -540
    },
    "id": "b09EcXU4D8bI",
    "outputId": "1eb30b7c-ef01-4576-a0c8-482bd59b7035"
   },
   "outputs": [
    {
     "data": {
      "text/plain": [
       "['2020', '05', '01']"
      ]
     },
     "execution_count": 5,
     "metadata": {},
     "output_type": "execute_result"
    }
   ],
   "source": [
    "# 049 split 메서드\n",
    "# 다음과 같이 날짜를 표현하는 문자열이 있을 때 연도, 월, 일로 나눠보세요.\n",
    "date = \"2020-05-01\"\n",
    "\n",
    "date.split(\"-\")"
   ]
  },
  {
   "cell_type": "code",
   "execution_count": null,
   "metadata": {
    "colab": {
     "base_uri": "https://localhost:8080/",
     "height": 35
    },
    "executionInfo": {
     "elapsed": 20,
     "status": "ok",
     "timestamp": 1743304832162,
     "user": {
      "displayName": "_biz catherine",
      "userId": "04404804885371645787"
     },
     "user_tz": -540
    },
    "id": "X2tHWlVGED4A",
    "outputId": "4ea77fcd-5aed-4410-ba26-7aeca8e59764"
   },
   "outputs": [
    {
     "data": {
      "application/vnd.google.colaboratory.intrinsic+json": {
       "type": "string"
      },
      "text/plain": [
       "'039490'"
      ]
     },
     "execution_count": 6,
     "metadata": {},
     "output_type": "execute_result"
    }
   ],
   "source": [
    "# 050 rstrip 메서드\n",
    "# 문자열의 오른쪽에 공백이 있을 때 이를 제거해보세요.\n",
    "data = \"039490     \"\n",
    "data.rstrip(\" \")"
   ]
  },
  {
   "cell_type": "markdown",
   "metadata": {
    "id": "GWCSlSEbFehB"
   },
   "source": [
    "# 04. 파이썬 리스트"
   ]
  },
  {
   "cell_type": "code",
   "execution_count": null,
   "metadata": {
    "colab": {
     "base_uri": "https://localhost:8080/"
    },
    "executionInfo": {
     "elapsed": 14,
     "status": "ok",
     "timestamp": 1743305349338,
     "user": {
      "displayName": "_biz catherine",
      "userId": "04404804885371645787"
     },
     "user_tz": -540
    },
    "id": "rgH3mrfZFoiU",
    "outputId": "09a0aaa7-c7e5-40ed-ba51-379e0a087662"
   },
   "outputs": [
    {
     "name": "stdout",
     "output_type": "stream",
     "text": [
      "['닥터 스트레인지', '스플릿', '럭키']\n"
     ]
    }
   ],
   "source": [
    "# 051 리스트 생성\n",
    "# 2016년 11월 영화 예매 순위 기준 top3는 다음과 같습니다.\n",
    "# 영화 제목을 movie_rank 이름의 리스트에 저장해보세요. (순위 정보는 저장하지 않습니다.)\n",
    "movie_rank = [\"닥터 스트레인지\",\"스플릿\",\"럭키\"]\n",
    "print(movie_rank)"
   ]
  },
  {
   "cell_type": "markdown",
   "metadata": {
    "id": "Jc8ZkF1YGVTM"
   },
   "source": [
    "## append() : 리스트 원소 추가"
   ]
  },
  {
   "cell_type": "code",
   "execution_count": null,
   "metadata": {
    "colab": {
     "base_uri": "https://localhost:8080/"
    },
    "executionInfo": {
     "elapsed": 10,
     "status": "ok",
     "timestamp": 1743305392112,
     "user": {
      "displayName": "_biz catherine",
      "userId": "04404804885371645787"
     },
     "user_tz": -540
    },
    "id": "MoibEaOoGM86",
    "outputId": "774a9001-b2e9-4b59-9c21-0dd68ecd4b01"
   },
   "outputs": [
    {
     "name": "stdout",
     "output_type": "stream",
     "text": [
      "['닥터 스트레인지', '스플릿', '럭키', '배트맨']\n"
     ]
    }
   ],
   "source": [
    "# 052 리스트에 원소 추가\n",
    "# 051의 movie_rank 리스트에 \"배트맨\"을 추가하라.\n",
    "movie_rank = [\"닥터 스트레인지\",\"스플릿\",\"럭키\"]\n",
    "movie_rank.append(\"배트맨\")\n",
    "print(movie_rank)"
   ]
  },
  {
   "cell_type": "markdown",
   "metadata": {
    "id": "zJ319pAfGovC"
   },
   "source": [
    "## insert(인덱스, 원소) : 특정 위치에 값을 끼어넣기"
   ]
  },
  {
   "cell_type": "code",
   "execution_count": null,
   "metadata": {
    "colab": {
     "base_uri": "https://localhost:8080/"
    },
    "executionInfo": {
     "elapsed": 23,
     "status": "ok",
     "timestamp": 1743305527829,
     "user": {
      "displayName": "_biz catherine",
      "userId": "04404804885371645787"
     },
     "user_tz": -540
    },
    "id": "dQNa2nnWGc_t",
    "outputId": "15775bb4-d9c8-4d27-dc48-d8cb4d1b5ef9"
   },
   "outputs": [
    {
     "name": "stdout",
     "output_type": "stream",
     "text": [
      "['닥터 스트레인지', '슈퍼맨', '스플릿', '럭키', '배트맨']\n"
     ]
    }
   ],
   "source": [
    "# 053\n",
    "# movie_rank 리스트에는 아래와 같이 네 개의 영화 제목이 바인딩되어 있다.\n",
    "#\"슈퍼맨\"을 \"닥터 스트레인지\"와 \"스플릿\" 사이에 추가하라.\n",
    "movie_rank = ['닥터 스트레인지', '스플릿', '럭키', '배트맨']\n",
    "movie_rank.insert(1,\"슈퍼맨\")\n",
    "print(movie_rank)"
   ]
  },
  {
   "cell_type": "markdown",
   "metadata": {
    "id": "d0uLxGueHFv8"
   },
   "source": [
    "## del 변수[인덱스] , remove() : 리스트 원소 삭제"
   ]
  },
  {
   "cell_type": "code",
   "execution_count": null,
   "metadata": {
    "colab": {
     "base_uri": "https://localhost:8080/"
    },
    "executionInfo": {
     "elapsed": 17,
     "status": "ok",
     "timestamp": 1743305739272,
     "user": {
      "displayName": "_biz catherine",
      "userId": "04404804885371645787"
     },
     "user_tz": -540
    },
    "id": "cqgqIN0KG31k",
    "outputId": "0f448125-c9d4-44f4-8c45-eea5c6dfb74d"
   },
   "outputs": [
    {
     "name": "stdout",
     "output_type": "stream",
     "text": [
      "['닥터 스트레인지', '슈퍼맨', '스플릿', '배트맨']\n"
     ]
    }
   ],
   "source": [
    "# 054\n",
    "# movie_rank 리스트에서 '럭키'를 삭제하라.\n",
    "movie_rank = ['닥터 스트레인지', '슈퍼맨', '스플릿', '럭키', '배트맨']\n",
    "# movie_rank.remove('럭키')\n",
    "del movie_rank[3]\n",
    "print(movie_rank)"
   ]
  },
  {
   "cell_type": "code",
   "execution_count": null,
   "metadata": {
    "colab": {
     "base_uri": "https://localhost:8080/"
    },
    "executionInfo": {
     "elapsed": 17,
     "status": "ok",
     "timestamp": 1743305807291,
     "user": {
      "displayName": "_biz catherine",
      "userId": "04404804885371645787"
     },
     "user_tz": -540
    },
    "id": "wf_JOf6xHrkl",
    "outputId": "193eb773-79bc-472a-9ed6-1d779028647c"
   },
   "outputs": [
    {
     "name": "stdout",
     "output_type": "stream",
     "text": [
      "['닥터 스트레인지', '슈퍼맨']\n"
     ]
    }
   ],
   "source": [
    "# 055\n",
    "# movie_rank 리스트에서 '스플릿' 과 '배트맨'을 를 삭제하라.\n",
    "movie_rank = ['닥터 스트레인지', '슈퍼맨', '스플릿', '배트맨']\n",
    "del movie_rank[2]\n",
    "del movie_rank[2]\n",
    "print(movie_rank)"
   ]
  },
  {
   "cell_type": "markdown",
   "metadata": {
    "id": "tnLLR5ruII1A"
   },
   "source": [
    "## 리스트끼리 +를 하면 하나로 합쳐진다."
   ]
  },
  {
   "cell_type": "code",
   "execution_count": null,
   "metadata": {
    "colab": {
     "base_uri": "https://localhost:8080/"
    },
    "executionInfo": {
     "elapsed": 56,
     "status": "ok",
     "timestamp": 1743305917961,
     "user": {
      "displayName": "_biz catherine",
      "userId": "04404804885371645787"
     },
     "user_tz": -540
    },
    "id": "nkmdUX7tH8lV",
    "outputId": "dc854621-13d7-4350-cd38-88ed3d13fa22"
   },
   "outputs": [
    {
     "name": "stdout",
     "output_type": "stream",
     "text": [
      "['C', 'C++', 'JAVA', 'Python', 'Go', 'C#']\n"
     ]
    }
   ],
   "source": [
    "# 056\n",
    "# lang1과 lang2 리스트가 있을 때 lang1과 lang2의 원소를 모두 갖고 있는 langs 리스트를 만들어라.\n",
    "lang1 = [\"C\", \"C++\", \"JAVA\"]\n",
    "lang2 = [\"Python\", \"Go\", \"C#\"]\n",
    "\n",
    "langs = lang1 + lang2\n",
    "print(langs)"
   ]
  },
  {
   "cell_type": "markdown",
   "metadata": {
    "id": "t2be7oe5Idae"
   },
   "source": [
    "## min(), max() : 최솟값과 최댓값을 찾는 함수"
   ]
  },
  {
   "cell_type": "code",
   "execution_count": null,
   "metadata": {
    "colab": {
     "base_uri": "https://localhost:8080/"
    },
    "executionInfo": {
     "elapsed": 25,
     "status": "ok",
     "timestamp": 1743306019968,
     "user": {
      "displayName": "_biz catherine",
      "userId": "04404804885371645787"
     },
     "user_tz": -540
    },
    "id": "giboG2OUIW5x",
    "outputId": "063e543b-e335-4a9c-a32f-7e5f37473db8"
   },
   "outputs": [
    {
     "name": "stdout",
     "output_type": "stream",
     "text": [
      "max : 7\n",
      "min : 1\n"
     ]
    }
   ],
   "source": [
    "# 057\n",
    "# 다음 리스트에서 최댓값과 최솟값을 출력하라. (힌트: min(), max() 함수 사용)\n",
    "nums = [1, 2, 3, 4, 5, 6, 7]\n",
    "\n",
    "print(\"max :\", max(nums))\n",
    "print(\"min :\", min(nums))"
   ]
  },
  {
   "cell_type": "markdown",
   "metadata": {
    "id": "rl6uIF68IzSF"
   },
   "source": [
    "## sum() : 총합을 계산하는 함수"
   ]
  },
  {
   "cell_type": "code",
   "execution_count": null,
   "metadata": {
    "colab": {
     "base_uri": "https://localhost:8080/"
    },
    "executionInfo": {
     "elapsed": 17,
     "status": "ok",
     "timestamp": 1743306090083,
     "user": {
      "displayName": "_biz catherine",
      "userId": "04404804885371645787"
     },
     "user_tz": -540
    },
    "id": "CEbQRR1qIvON",
    "outputId": "7ff05fae-3575-4f8c-c0d3-ad45aa2f91d9"
   },
   "outputs": [
    {
     "name": "stdout",
     "output_type": "stream",
     "text": [
      "15\n"
     ]
    }
   ],
   "source": [
    "# 058\n",
    "# 다음 리스트의 합을 출력하라.\n",
    "nums = [1, 2, 3, 4, 5]\n",
    "print(sum(nums))"
   ]
  },
  {
   "cell_type": "markdown",
   "metadata": {
    "id": "U-ddvnrrJH_k"
   },
   "source": [
    "## len() : 원소의 개수를 출력하는 함수"
   ]
  },
  {
   "cell_type": "code",
   "execution_count": null,
   "metadata": {
    "colab": {
     "base_uri": "https://localhost:8080/"
    },
    "executionInfo": {
     "elapsed": 23,
     "status": "ok",
     "timestamp": 1743306125782,
     "user": {
      "displayName": "_biz catherine",
      "userId": "04404804885371645787"
     },
     "user_tz": -540
    },
    "id": "Txo3cG1nJAWz",
    "outputId": "8eeb9135-f32f-458a-f1bd-3b825f0b8d32"
   },
   "outputs": [
    {
     "name": "stdout",
     "output_type": "stream",
     "text": [
      "12\n"
     ]
    }
   ],
   "source": [
    "# 059\n",
    "# 다음 리스트에 저장된 데이터의 개수를 화면에 구하하라.\n",
    "cook = [\"피자\", \"김밥\", \"만두\", \"양념치킨\", \"족발\", \"피자\", \"김치만두\", \"쫄면\", \"소시지\", \"라면\", \"팥빙수\", \"김치전\"]\n",
    "print(len(cook))"
   ]
  },
  {
   "cell_type": "code",
   "execution_count": null,
   "metadata": {
    "colab": {
     "base_uri": "https://localhost:8080/"
    },
    "executionInfo": {
     "elapsed": 15,
     "status": "ok",
     "timestamp": 1743306198373,
     "user": {
      "displayName": "_biz catherine",
      "userId": "04404804885371645787"
     },
     "user_tz": -540
    },
    "id": "cTpW7L--JOHy",
    "outputId": "28069809-b028-466d-b1cd-144379c70bb6"
   },
   "outputs": [
    {
     "name": "stdout",
     "output_type": "stream",
     "text": [
      "3.0\n"
     ]
    }
   ],
   "source": [
    "# 060\n",
    "# 다음 리스트의 평균을 출력하라.\n",
    "nums = [1, 2, 3, 4, 5]\n",
    "mean = sum(nums) / len(nums)\n",
    "print(mean)"
   ]
  },
  {
   "cell_type": "code",
   "execution_count": null,
   "metadata": {
    "colab": {
     "base_uri": "https://localhost:8080/"
    },
    "executionInfo": {
     "elapsed": 21,
     "status": "ok",
     "timestamp": 1743306284473,
     "user": {
      "displayName": "_biz catherine",
      "userId": "04404804885371645787"
     },
     "user_tz": -540
    },
    "id": "hVLd0okfJjHw",
    "outputId": "38cf63f4-323e-44db-dea2-4ede84fd2667"
   },
   "outputs": [
    {
     "name": "stdout",
     "output_type": "stream",
     "text": [
      "[100, 130, 140, 150, 160, 170]\n"
     ]
    }
   ],
   "source": [
    "# 061\n",
    "# price 변수에는 날짜와 종가 정보가 저장돼 있다.\n",
    "# 날짜 정보를 제외하고 가격 정보만을 출력하라. (힌트 : 슬라이싱)\n",
    "price = ['20180728', 100, 130, 140, 150, 160, 170]\n",
    "print(price[1:])"
   ]
  },
  {
   "cell_type": "code",
   "execution_count": null,
   "metadata": {
    "colab": {
     "base_uri": "https://localhost:8080/"
    },
    "executionInfo": {
     "elapsed": 17,
     "status": "ok",
     "timestamp": 1743306320211,
     "user": {
      "displayName": "_biz catherine",
      "userId": "04404804885371645787"
     },
     "user_tz": -540
    },
    "id": "Pan1I0oSJwpw",
    "outputId": "eec46596-e207-4d6a-a202-0e331c7c386f"
   },
   "outputs": [
    {
     "name": "stdout",
     "output_type": "stream",
     "text": [
      "[1, 3, 5, 7, 9]\n"
     ]
    }
   ],
   "source": [
    "# 062\n",
    "# 슬라이싱을 사용해서 홀수만 출력하라.\n",
    "nums = [1, 2, 3, 4, 5, 6, 7, 8, 9, 10]\n",
    "print(nums[::2])"
   ]
  },
  {
   "cell_type": "code",
   "execution_count": null,
   "metadata": {
    "colab": {
     "base_uri": "https://localhost:8080/"
    },
    "executionInfo": {
     "elapsed": 14,
     "status": "ok",
     "timestamp": 1743306357640,
     "user": {
      "displayName": "_biz catherine",
      "userId": "04404804885371645787"
     },
     "user_tz": -540
    },
    "id": "kXFKKPDwJ4FQ",
    "outputId": "d98ff4bb-03ab-47c7-c8a8-f946a821a5d1"
   },
   "outputs": [
    {
     "name": "stdout",
     "output_type": "stream",
     "text": [
      "[2, 4, 6, 8, 10]\n"
     ]
    }
   ],
   "source": [
    "# 063\n",
    "# 슬라이싱을 사용해서 짝수만 출력하라.\n",
    "nums = [1, 2, 3, 4, 5, 6, 7, 8, 9, 10]\n",
    "print(nums[1::2])"
   ]
  },
  {
   "cell_type": "code",
   "execution_count": null,
   "metadata": {
    "colab": {
     "base_uri": "https://localhost:8080/"
    },
    "executionInfo": {
     "elapsed": 10,
     "status": "ok",
     "timestamp": 1743306389506,
     "user": {
      "displayName": "_biz catherine",
      "userId": "04404804885371645787"
     },
     "user_tz": -540
    },
    "id": "2PdB6oCFKA-q",
    "outputId": "af7e19db-dd26-440b-a9a7-792e183f75db"
   },
   "outputs": [
    {
     "name": "stdout",
     "output_type": "stream",
     "text": [
      "[5, 4, 3, 2, 1]\n"
     ]
    }
   ],
   "source": [
    "# 064\n",
    "# 슬라이싱을 사용해서 리스트의 숫자를 역 방향으로 출력하라.\n",
    "nums = [1, 2, 3, 4, 5]\n",
    "print(nums[::-1])"
   ]
  },
  {
   "cell_type": "code",
   "execution_count": null,
   "metadata": {
    "colab": {
     "base_uri": "https://localhost:8080/"
    },
    "executionInfo": {
     "elapsed": 33,
     "status": "ok",
     "timestamp": 1743306489734,
     "user": {
      "displayName": "_biz catherine",
      "userId": "04404804885371645787"
     },
     "user_tz": -540
    },
    "id": "lV1Kny6pKIhG",
    "outputId": "e4a3a202-103d-4432-f296-907e1795c968"
   },
   "outputs": [
    {
     "name": "stdout",
     "output_type": "stream",
     "text": [
      "삼성전자 Naver\n"
     ]
    }
   ],
   "source": [
    "# 065\n",
    "# interest 리스트에는 아래의 데이터가 바인딩되어 있다.\n",
    "interest = ['삼성전자', 'LG전자', 'Naver']\n",
    "\n",
    "# interest 리스트를 사용하여 아래와 같이 화면에 출력하라.\n",
    "\n",
    "# 출력 예시:\n",
    "# 삼성전자 Naver\n",
    "\n",
    "print(interest[0],interest[2])"
   ]
  },
  {
   "cell_type": "markdown",
   "metadata": {
    "id": "r1ttvXzFKyxU"
   },
   "source": [
    "## \"쉼표를 대체하고 싶은 문자\".join(리스트 이름)"
   ]
  },
  {
   "cell_type": "code",
   "execution_count": null,
   "metadata": {
    "colab": {
     "base_uri": "https://localhost:8080/"
    },
    "executionInfo": {
     "elapsed": 21,
     "status": "ok",
     "timestamp": 1743306561373,
     "user": {
      "displayName": "_biz catherine",
      "userId": "04404804885371645787"
     },
     "user_tz": -540
    },
    "id": "sWI2PJHmKOMp",
    "outputId": "1c10c61f-bfbe-4a86-9c1b-4e7e90a91c3d"
   },
   "outputs": [
    {
     "name": "stdout",
     "output_type": "stream",
     "text": [
      "삼성전자 LG전자 Naver SK하이닉스 미래에셋대우\n"
     ]
    }
   ],
   "source": [
    "# 066 join 메서드\n",
    "# interest 리스트에는 아래의 데이터가 바인딩되어 있다.\n",
    "interest = ['삼성전자', 'LG전자', 'Naver', 'SK하이닉스', '미래에셋대우']\n",
    "\n",
    "# interest 리스트를 사용하여 아래와 같이 화면에 출력하라.\n",
    "\n",
    "# 출력 예시:\n",
    "# 삼성전자 LG전자 Naver SK하이닉스 미래에셋대우\n",
    "\n",
    "print(\" \".join(interest))"
   ]
  },
  {
   "cell_type": "code",
   "execution_count": null,
   "metadata": {
    "colab": {
     "base_uri": "https://localhost:8080/"
    },
    "executionInfo": {
     "elapsed": 25,
     "status": "ok",
     "timestamp": 1743306656149,
     "user": {
      "displayName": "_biz catherine",
      "userId": "04404804885371645787"
     },
     "user_tz": -540
    },
    "id": "VW9QI01FK9cA",
    "outputId": "53f4c2b0-ecf3-4ed4-9818-9a004aa3fecb"
   },
   "outputs": [
    {
     "name": "stdout",
     "output_type": "stream",
     "text": [
      "삼성전자/LG전자/Naver/SK하이닉스/미래에셋대우\n"
     ]
    }
   ],
   "source": [
    "# 067 join 메서드\n",
    "# interest 리스트에는 아래의 데이터가 바인딩되어 있다.\n",
    "interest = ['삼성전자', 'LG전자', 'Naver', 'SK하이닉스', '미래에셋대우']\n",
    "\n",
    "# interest 리스트를 사용하여 아래와 같이 화면에 출력하라.\n",
    "\n",
    "# 출력 예시:\n",
    "# 삼성전자/LG전자/Naver/SK하이닉스/미래에셋대우\n",
    "\n",
    "print(\"/\".join(interest))"
   ]
  },
  {
   "cell_type": "code",
   "execution_count": null,
   "metadata": {
    "colab": {
     "base_uri": "https://localhost:8080/"
    },
    "executionInfo": {
     "elapsed": 26,
     "status": "ok",
     "timestamp": 1743306711023,
     "user": {
      "displayName": "_biz catherine",
      "userId": "04404804885371645787"
     },
     "user_tz": -540
    },
    "id": "zVqk__BtLKle",
    "outputId": "1b3c2ee0-30bb-4e55-e3bc-e762c5cd1cab"
   },
   "outputs": [
    {
     "name": "stdout",
     "output_type": "stream",
     "text": [
      "삼성전자\n",
      "LG전자\n",
      "Naver\n",
      "SK하이닉스\n",
      "미래에셋대우\n"
     ]
    }
   ],
   "source": [
    "# 068 join 메서드\n",
    "# interest 리스트에는 아래의 데이터가 바인딩되어 있다.\n",
    "\n",
    "interest = ['삼성전자', 'LG전자', 'Naver', 'SK하이닉스', '미래에셋대우']\n",
    "\n",
    "# join() 메서드를 사용해서 interest 리스트를 아래와 같이 화면에 출력하라.\n",
    "\n",
    "# 출력 예시:\n",
    "# 삼성전자\n",
    "# LG전자\n",
    "# Naver\n",
    "# SK하이닉스\n",
    "# 미래에셋대우\n",
    "\n",
    "print(\"\\n\".join(interest))"
   ]
  },
  {
   "cell_type": "code",
   "execution_count": null,
   "metadata": {
    "colab": {
     "base_uri": "https://localhost:8080/"
    },
    "executionInfo": {
     "elapsed": 17,
     "status": "ok",
     "timestamp": 1743306799718,
     "user": {
      "displayName": "_biz catherine",
      "userId": "04404804885371645787"
     },
     "user_tz": -540
    },
    "id": "jlmfV27vLYEP",
    "outputId": "362e97a2-5e70-4c8f-feaa-819399ace0fd"
   },
   "outputs": [
    {
     "name": "stdout",
     "output_type": "stream",
     "text": [
      "['삼성전자', 'LG전자', 'Naver']\n"
     ]
    }
   ],
   "source": [
    "# 069 문자열 split 메서드\n",
    "# 회사 이름이 슬래시 ('/')로 구분되어 하나의 문자열로 저장되어 있다.\n",
    "\n",
    "string = \"삼성전자/LG전자/Naver\"\n",
    "# 이를 interest 이름의 리스트로 분리 저장하라.\n",
    "\n",
    "# 실행 예시\n",
    "# >> print(interest)\n",
    "# ['삼성전자', 'LG전자', 'Naver']\n",
    "\n",
    "interest = string.split(\"/\")\n",
    "print(interest)"
   ]
  },
  {
   "cell_type": "markdown",
   "metadata": {
    "id": "KWS6HDl5L2Fy"
   },
   "source": [
    "## sort(), sorted()\n",
    "\n",
    "sort() : 원본을 오름차순으로 정렬\n",
    "sorted() : 오름차순으로 정렬한 것을 출력(원본 변경x)"
   ]
  },
  {
   "cell_type": "code",
   "execution_count": null,
   "metadata": {
    "colab": {
     "base_uri": "https://localhost:8080/"
    },
    "executionInfo": {
     "elapsed": 49,
     "status": "ok",
     "timestamp": 1743306944978,
     "user": {
      "displayName": "_biz catherine",
      "userId": "04404804885371645787"
     },
     "user_tz": -540
    },
    "id": "u30ZShCXLv_M",
    "outputId": "6deaba96-0755-4b49-a8c8-8971ad228b9c"
   },
   "outputs": [
    {
     "name": "stdout",
     "output_type": "stream",
     "text": [
      "[1, 2, 3, 4, 5, 9, 10]\n",
      "[1, 2, 3, 4, 5, 9, 10]\n"
     ]
    }
   ],
   "source": [
    "# 070 리스트 정렬\n",
    "# 리스트에 있는 값을 오름차순으로 정렬하세요.\n",
    "\n",
    "data = [2, 4, 3, 1, 5, 10, 9]\n",
    "data.sort()\n",
    "print(data)\n",
    "\n",
    "data2 = sorted(data)\n",
    "print(data2)"
   ]
  },
  {
   "cell_type": "markdown",
   "metadata": {
    "id": "ySLvq9pqMUoY"
   },
   "source": [
    "# 05. 파이썬 튜플"
   ]
  },
  {
   "cell_type": "code",
   "execution_count": null,
   "metadata": {
    "colab": {
     "base_uri": "https://localhost:8080/"
    },
    "executionInfo": {
     "elapsed": 35,
     "status": "ok",
     "timestamp": 1743307082001,
     "user": {
      "displayName": "_biz catherine",
      "userId": "04404804885371645787"
     },
     "user_tz": -540
    },
    "id": "WTRq3QDcMaQB",
    "outputId": "40ac912c-6615-4171-ffb3-7ecee6a4d4fc"
   },
   "outputs": [
    {
     "name": "stdout",
     "output_type": "stream",
     "text": [
      "<class 'tuple'>\n"
     ]
    }
   ],
   "source": [
    "# 071\n",
    "# my_variable 이름의 비어있는 튜플을 만들라.\n",
    "\n",
    "my_variable =()\n",
    "print(type(my_variable))"
   ]
  },
  {
   "cell_type": "code",
   "execution_count": null,
   "metadata": {
    "colab": {
     "base_uri": "https://localhost:8080/"
    },
    "executionInfo": {
     "elapsed": 20,
     "status": "ok",
     "timestamp": 1743307200263,
     "user": {
      "displayName": "_biz catherine",
      "userId": "04404804885371645787"
     },
     "user_tz": -540
    },
    "id": "KnBmzvnhMx7M",
    "outputId": "7f3efa37-fc9f-4b9e-deec-4dc5490394ab"
   },
   "outputs": [
    {
     "name": "stdout",
     "output_type": "stream",
     "text": [
      "('닥터 스트레인지', '스플릿', '럭키')\n"
     ]
    }
   ],
   "source": [
    "# 072\n",
    "# 2016년 11월 영화 예매 순위 기준 top3는 다음과 같다.\n",
    "# 영화 제목을 movie_rank 이름의 튜플에 저장하라. (순위 정보는 저장하지 않는다.)\n",
    "\n",
    "movie_rank= (\"닥터 스트레인지\",\"스플릿\",\"럭키\")\n",
    "print(movie_rank)"
   ]
  },
  {
   "cell_type": "markdown",
   "metadata": {
    "id": "BD4qf3ecNYBl"
   },
   "source": [
    "## 숫자 하나를 튜플에 저장할 때 : (1, )"
   ]
  },
  {
   "cell_type": "code",
   "execution_count": null,
   "metadata": {
    "colab": {
     "base_uri": "https://localhost:8080/"
    },
    "executionInfo": {
     "elapsed": 17,
     "status": "ok",
     "timestamp": 1743307295223,
     "user": {
      "displayName": "_biz catherine",
      "userId": "04404804885371645787"
     },
     "user_tz": -540
    },
    "id": "ypIMaWgUNPMg",
    "outputId": "31df7762-0aab-4ff9-b014-b8381c712a7e"
   },
   "outputs": [
    {
     "name": "stdout",
     "output_type": "stream",
     "text": [
      "<class 'tuple'>\n"
     ]
    }
   ],
   "source": [
    "# 073\n",
    "# 숫자 1 이 저장된 튜플을 생성하라.\n",
    "\n",
    "num = (1,)\n",
    "print(type(num))"
   ]
  },
  {
   "cell_type": "code",
   "execution_count": null,
   "metadata": {
    "colab": {
     "base_uri": "https://localhost:8080/",
     "height": 182
    },
    "executionInfo": {
     "elapsed": 66,
     "status": "error",
     "timestamp": 1743307324693,
     "user": {
      "displayName": "_biz catherine",
      "userId": "04404804885371645787"
     },
     "user_tz": -540
    },
    "id": "mUf-E_ipNmnc",
    "outputId": "8f28aabb-dde7-4827-91ff-87b5156ee70a"
   },
   "outputs": [
    {
     "ename": "TypeError",
     "evalue": "'tuple' object does not support item assignment",
     "output_type": "error",
     "traceback": [
      "\u001b[0;31m---------------------------------------------------------------------------\u001b[0m",
      "\u001b[0;31mTypeError\u001b[0m                                 Traceback (most recent call last)",
      "\u001b[0;32m<ipython-input-46-a22350185fa9>\u001b[0m in \u001b[0;36m<cell line: 0>\u001b[0;34m()\u001b[0m\n\u001b[1;32m      3\u001b[0m \u001b[0;34m\u001b[0m\u001b[0m\n\u001b[1;32m      4\u001b[0m \u001b[0mt\u001b[0m \u001b[0;34m=\u001b[0m \u001b[0;34m(\u001b[0m\u001b[0;36m1\u001b[0m\u001b[0;34m,\u001b[0m \u001b[0;36m2\u001b[0m\u001b[0;34m,\u001b[0m \u001b[0;36m3\u001b[0m\u001b[0;34m)\u001b[0m\u001b[0;34m\u001b[0m\u001b[0;34m\u001b[0m\u001b[0m\n\u001b[0;32m----> 5\u001b[0;31m \u001b[0mt\u001b[0m\u001b[0;34m[\u001b[0m\u001b[0;36m0\u001b[0m\u001b[0;34m]\u001b[0m \u001b[0;34m=\u001b[0m \u001b[0;34m'a'\u001b[0m\u001b[0;34m\u001b[0m\u001b[0;34m\u001b[0m\u001b[0m\n\u001b[0m",
      "\u001b[0;31mTypeError\u001b[0m: 'tuple' object does not support item assignment"
     ]
    }
   ],
   "source": [
    "# 074\n",
    "# 다음 코드를 실행해보고 오류가 발생하는 원인을 설명하라.\n",
    "\n",
    "t = (1, 2, 3)\n",
    "t[0] = 'a'"
   ]
  },
  {
   "cell_type": "markdown",
   "metadata": {
    "id": "lk3nML0tN0GE"
   },
   "source": [
    "## 튜플은 괄호 없이도 동작한다.\n",
    "\n",
    "사용자 편의를 위해"
   ]
  },
  {
   "cell_type": "code",
   "execution_count": null,
   "metadata": {
    "colab": {
     "base_uri": "https://localhost:8080/"
    },
    "executionInfo": {
     "elapsed": 19,
     "status": "ok",
     "timestamp": 1743307390649,
     "user": {
      "displayName": "_biz catherine",
      "userId": "04404804885371645787"
     },
     "user_tz": -540
    },
    "id": "6bdwob1HNu68",
    "outputId": "2de7ed7d-6621-4b14-a431-bd95903f9adc"
   },
   "outputs": [
    {
     "name": "stdout",
     "output_type": "stream",
     "text": [
      "<class 'tuple'>\n"
     ]
    }
   ],
   "source": [
    "# 075\n",
    "# 아래와 같이 t에는 1, 2, 3, 4 데이터가 바인딩되어 있다. t가 바인딩하는 데이터 타입은 무엇인가?\n",
    "\n",
    "t = 1, 2, 3, 4\n",
    "print(type(t))"
   ]
  },
  {
   "cell_type": "code",
   "execution_count": null,
   "metadata": {
    "colab": {
     "base_uri": "https://localhost:8080/"
    },
    "executionInfo": {
     "elapsed": 65,
     "status": "ok",
     "timestamp": 1743307447019,
     "user": {
      "displayName": "_biz catherine",
      "userId": "04404804885371645787"
     },
     "user_tz": -540
    },
    "id": "hifo6Q4UN89M",
    "outputId": "930d0315-f667-4724-e99a-a810a6fd64ec"
   },
   "outputs": [
    {
     "name": "stdout",
     "output_type": "stream",
     "text": [
      "('A', 'b,', 'c')\n"
     ]
    }
   ],
   "source": [
    "# 076\n",
    "# 변수 t에는 아래와 같은 값이 저장되어 있다. 변수 t가 ('A', 'b', 'c') 튜플을 가리키도록 수정 하라.\n",
    "\n",
    "t = ('a', 'b', 'c')\n",
    "t = ('A', 'b,', 'c')\n",
    "print(t)"
   ]
  },
  {
   "cell_type": "markdown",
   "metadata": {
    "id": "4EgKZ7r-OcDk"
   },
   "source": [
    "## list()로 타입을 리스트로 변경 가능."
   ]
  },
  {
   "cell_type": "code",
   "execution_count": null,
   "metadata": {
    "colab": {
     "base_uri": "https://localhost:8080/"
    },
    "executionInfo": {
     "elapsed": 17,
     "status": "ok",
     "timestamp": 1743307519938,
     "user": {
      "displayName": "_biz catherine",
      "userId": "04404804885371645787"
     },
     "user_tz": -540
    },
    "id": "5WVHlm3YOLiW",
    "outputId": "a3037182-6df6-4352-d733-3fa930895ebd"
   },
   "outputs": [
    {
     "name": "stdout",
     "output_type": "stream",
     "text": [
      "['삼성전자', 'LG전자', 'SK Hynix']\n"
     ]
    }
   ],
   "source": [
    "# 077\n",
    "# 다음 튜플을 리스트로 변환하라.\n",
    "\n",
    "interest = ('삼성전자', 'LG전자', 'SK Hynix')\n",
    "data = list(interest)\n",
    "print(data)"
   ]
  },
  {
   "cell_type": "markdown",
   "metadata": {
    "id": "M1GSCdySOnmu"
   },
   "source": [
    "## tuple()로 타입을 튜플로 변경 가능"
   ]
  },
  {
   "cell_type": "code",
   "execution_count": null,
   "metadata": {
    "colab": {
     "base_uri": "https://localhost:8080/"
    },
    "executionInfo": {
     "elapsed": 23,
     "status": "ok",
     "timestamp": 1743307567794,
     "user": {
      "displayName": "_biz catherine",
      "userId": "04404804885371645787"
     },
     "user_tz": -540
    },
    "id": "FOB2e_TdOgaM",
    "outputId": "b523f48d-0c79-4e17-cce4-ff77bbda5e10"
   },
   "outputs": [
    {
     "name": "stdout",
     "output_type": "stream",
     "text": [
      "('삼성전자', 'LG전자', 'SK Hynix')\n"
     ]
    }
   ],
   "source": [
    "# 078\n",
    "# 다음 리스트를 튜플로 변경하라.\n",
    "\n",
    "interest = ['삼성전자', 'LG전자', 'SK Hynix']\n",
    "data = tuple(interest)\n",
    "print(data)"
   ]
  },
  {
   "cell_type": "markdown",
   "metadata": {
    "id": "CnBLpH78OzxR"
   },
   "source": [
    "## 튜플 언팩킹\n",
    "\n",
    "변수들에 튜플을 하나씩 지정 가능.\n",
    "\n",
    "변수1, 변수2, 변수3 = 튜플 이름"
   ]
  },
  {
   "cell_type": "code",
   "execution_count": null,
   "metadata": {
    "colab": {
     "base_uri": "https://localhost:8080/"
    },
    "executionInfo": {
     "elapsed": 64,
     "status": "ok",
     "timestamp": 1743307614174,
     "user": {
      "displayName": "_biz catherine",
      "userId": "04404804885371645787"
     },
     "user_tz": -540
    },
    "id": "VuFvY5WaOtZ5",
    "outputId": "d914a0dc-6113-4220-f89d-28e3ddf47b02"
   },
   "outputs": [
    {
     "name": "stdout",
     "output_type": "stream",
     "text": [
      "apple banana cake\n"
     ]
    }
   ],
   "source": [
    "# 079 튜플 언팩킹\n",
    "# 다음 코드의 실행 결과를 예상하라.\n",
    "\n",
    "temp = ('apple', 'banana', 'cake')\n",
    "a, b, c = temp\n",
    "print(a, b, c)"
   ]
  },
  {
   "cell_type": "markdown",
   "metadata": {
    "id": "4tWtWj44PR7Y"
   },
   "source": [
    "## range(start,end,stride) 가능."
   ]
  },
  {
   "cell_type": "code",
   "execution_count": null,
   "metadata": {
    "colab": {
     "base_uri": "https://localhost:8080/"
    },
    "executionInfo": {
     "elapsed": 16,
     "status": "ok",
     "timestamp": 1743307764445,
     "user": {
      "displayName": "_biz catherine",
      "userId": "04404804885371645787"
     },
     "user_tz": -540
    },
    "id": "XBYTgUGdO_3j",
    "outputId": "76fc92ee-83be-4661-e19c-ead9a88db823"
   },
   "outputs": [
    {
     "name": "stdout",
     "output_type": "stream",
     "text": [
      "(2, 4, 6, 8, 10, 12, 14, 16, 18, 20, 22, 24, 26, 28, 30, 32, 34, 36, 38, 40, 42, 44, 46, 48, 50, 52, 54, 56, 58, 60, 62, 64, 66, 68, 70, 72, 74, 76, 78, 80, 82, 84, 86, 88, 90, 92, 94, 96, 98)\n"
     ]
    }
   ],
   "source": [
    "# 080 range 함수\n",
    "# 1 부터 99까지의 정수 중 짝수만 저장된 튜플을 생성하라.\n",
    "\n",
    "# (2, 4, 6, 8 ... 98)\n",
    "\n",
    "data = tuple(range(2,100,2))\n",
    "print(data)"
   ]
  },
  {
   "cell_type": "markdown",
   "metadata": {
    "id": "OqhUA29GPZGm"
   },
   "source": [
    "# 06. 파이썬 딕셔너리"
   ]
  },
  {
   "cell_type": "markdown",
   "metadata": {
    "id": "vi5bu0jmTR_b"
   },
   "source": [
    "## star expression : *변수\n",
    "\n",
    "star expression을 이용하면 언패킹 할 때 한 번에 넣을 수 있다."
   ]
  },
  {
   "cell_type": "code",
   "execution_count": null,
   "metadata": {
    "colab": {
     "base_uri": "https://localhost:8080/"
    },
    "executionInfo": {
     "elapsed": 37,
     "status": "ok",
     "timestamp": 1743308775389,
     "user": {
      "displayName": "_biz catherine",
      "userId": "04404804885371645787"
     },
     "user_tz": -540
    },
    "id": "u0QX4bKMPePh",
    "outputId": "729115dd-1a00-44ef-b292-dbca87ff42d8"
   },
   "outputs": [
    {
     "name": "stdout",
     "output_type": "stream",
     "text": [
      "[8.8, 8.9, 8.7, 9.2, 9.3, 9.7, 9.9, 9.5]\n"
     ]
    }
   ],
   "source": [
    "# 081 별 표현식\n",
    "'''기본적으로 데이터 언패킹은 좌변의 변수와 우변 데이터 개수가 같아야 합니다.\n",
    "하지만 star expression을 사용하면 변수의 개수가 달라도 데이터 언패킹을 할 수 있습니다.\n",
    "튜플에 저장된 데이터 중에서 앞에 있는 두 개의 데이터만 필요할 경우\n",
    "나머지 데이터의 언패킹 코드를 작성할 필요가 없습니다.'''\n",
    "\n",
    "# >> a, b, *c = (0, 1, 2, 3, 4, 5)\n",
    "# >> a\n",
    "# 0\n",
    "# >> b\n",
    "# 1\n",
    "# >> c\n",
    "# [2, 3, 4, 5]\n",
    "\n",
    "# 다음과 같이 10개의 값이 저장된 scores 리스트가 있을 때,\n",
    "# start expression을 사용하여 좌측 8개의 값을 valid_score 변수에 바인딩하여라.\n",
    "\n",
    "scores = [8.8, 8.9, 8.7, 9.2, 9.3, 9.7, 9.9, 9.5, 7.8, 9.4]\n",
    "\n",
    "*valid_score,a,b = scores\n",
    "\n",
    "print(valid_score)\n"
   ]
  },
  {
   "cell_type": "code",
   "execution_count": null,
   "metadata": {
    "colab": {
     "base_uri": "https://localhost:8080/"
    },
    "executionInfo": {
     "elapsed": 15,
     "status": "ok",
     "timestamp": 1743308915619,
     "user": {
      "displayName": "_biz catherine",
      "userId": "04404804885371645787"
     },
     "user_tz": -540
    },
    "id": "Xj2vvMhbTedV",
    "outputId": "91845063-6f1c-49d3-8940-7b26daa755aa"
   },
   "outputs": [
    {
     "name": "stdout",
     "output_type": "stream",
     "text": [
      "[8.7, 9.2, 9.3, 9.7, 9.9, 9.5, 7.8, 9.4]\n"
     ]
    }
   ],
   "source": [
    "# 082\n",
    "# 다음과 같이 10개의 값이 저장된 scores 리스트가 있을 때,\n",
    "#start expression을 사용하여 우측 8개의 값을 valid_score 변수에 바인딩하여라.\n",
    "\n",
    "scores = [8.8, 8.9, 8.7, 9.2, 9.3, 9.7, 9.9, 9.5, 7.8, 9.4]\n",
    "_,_,*valid_score = scores\n",
    "print(valid_score)"
   ]
  },
  {
   "cell_type": "code",
   "execution_count": null,
   "metadata": {
    "colab": {
     "base_uri": "https://localhost:8080/"
    },
    "executionInfo": {
     "elapsed": 17,
     "status": "ok",
     "timestamp": 1743309048236,
     "user": {
      "displayName": "_biz catherine",
      "userId": "04404804885371645787"
     },
     "user_tz": -540
    },
    "id": "70Gagam2TxdU",
    "outputId": "ac1c123f-a855-4c7a-ee9f-01d9bde4063c"
   },
   "outputs": [
    {
     "name": "stdout",
     "output_type": "stream",
     "text": [
      "[8.9, 8.7, 9.2, 9.3, 9.7, 9.9, 9.5, 7.8]\n"
     ]
    }
   ],
   "source": [
    "# 083\n",
    "# 다음과 같이 10개의 값이 저장된 scores 리스트가 있을 때,\n",
    "# start expression을 사용하여 가운데 있는 8개의 값을 valid_score 변수에 바인딩하여라.\n",
    "scores = [8.8, 8.9, 8.7, 9.2, 9.3, 9.7, 9.9, 9.5, 7.8, 9.4]\n",
    "\n",
    "a,*valid_score,b = scores\n",
    "print(valid_score)"
   ]
  },
  {
   "cell_type": "markdown",
   "metadata": {
    "id": "1QR5Z4gxUZIw"
   },
   "source": [
    "## 딕셔너리 = {}"
   ]
  },
  {
   "cell_type": "code",
   "execution_count": null,
   "metadata": {
    "colab": {
     "base_uri": "https://localhost:8080/"
    },
    "executionInfo": {
     "elapsed": 27,
     "status": "ok",
     "timestamp": 1743309079648,
     "user": {
      "displayName": "_biz catherine",
      "userId": "04404804885371645787"
     },
     "user_tz": -540
    },
    "id": "5Sn1pmPVUS7k",
    "outputId": "f1f432b0-7420-4a07-f649-9efc08ef4578"
   },
   "outputs": [
    {
     "name": "stdout",
     "output_type": "stream",
     "text": [
      "<class 'dict'>\n"
     ]
    }
   ],
   "source": [
    "# 084 비어있는 딕셔너리\n",
    "# temp 이름의 비어있는 딕셔너리를 만들라.\n",
    "\n",
    "temp = {}\n",
    "print(type(temp))"
   ]
  },
  {
   "cell_type": "code",
   "execution_count": null,
   "metadata": {
    "colab": {
     "base_uri": "https://localhost:8080/"
    },
    "executionInfo": {
     "elapsed": 41,
     "status": "ok",
     "timestamp": 1743309191556,
     "user": {
      "displayName": "_biz catherine",
      "userId": "04404804885371645787"
     },
     "user_tz": -540
    },
    "id": "t7nZaTzxUezi",
    "outputId": "9165cd42-cbb4-49e9-e4dc-eab35b9a6927"
   },
   "outputs": [
    {
     "name": "stdout",
     "output_type": "stream",
     "text": [
      "{'메로나': 1000, '폴라포': 1200, '빵빠레': 1800}\n"
     ]
    }
   ],
   "source": [
    "# 085\n",
    "# 다음 아이스크림 이름과 희망 가격을 딕셔너리로 구성하라.\n",
    "\n",
    "# 이름\t희망 가격\n",
    "# 메로나\t1000\n",
    "# 폴라포\t1200\n",
    "# 빵빠레\t1800\n",
    "\n",
    "ice_cream = {\"메로나\" : 1000, \"폴라포\" : 1200, \"빵빠레\" : 1800}\n",
    "print(ice_cream)"
   ]
  },
  {
   "cell_type": "markdown",
   "metadata": {
    "id": "XNkgvgN4VQS5"
   },
   "source": [
    "## 사전에 요소 추가 : 키워드를 인덱스처럼 []로 감싸야 한다."
   ]
  },
  {
   "cell_type": "code",
   "execution_count": null,
   "metadata": {
    "colab": {
     "base_uri": "https://localhost:8080/"
    },
    "executionInfo": {
     "elapsed": 14,
     "status": "ok",
     "timestamp": 1743309305693,
     "user": {
      "displayName": "_biz catherine",
      "userId": "04404804885371645787"
     },
     "user_tz": -540
    },
    "id": "fpRNHXiSU0og",
    "outputId": "ae0a3ee7-09c5-4673-95b5-e9d813770667"
   },
   "outputs": [
    {
     "name": "stdout",
     "output_type": "stream",
     "text": [
      "{'메로나': 1000, '폴라포': 1200, '빵빠레': 1800, '죠스바': 1200, '월드콘': 1500}\n"
     ]
    }
   ],
   "source": [
    "# 086\n",
    "# 085 번의 딕셔너리에 아래 아이스크림 가격정보를 추가하라.\n",
    "ice_cream = {\"메로나\" : 1000, \"폴라포\" : 1200, \"빵빠레\" : 1800}\n",
    "ice_cream[\"죠스바\"] = 1200\n",
    "ice_cream[\"월드콘\"] = 1500\n",
    "print(ice_cream)"
   ]
  },
  {
   "cell_type": "code",
   "execution_count": null,
   "metadata": {
    "colab": {
     "base_uri": "https://localhost:8080/"
    },
    "executionInfo": {
     "elapsed": 28,
     "status": "ok",
     "timestamp": 1743309426298,
     "user": {
      "displayName": "_biz catherine",
      "userId": "04404804885371645787"
     },
     "user_tz": -540
    },
    "id": "DhdGGgH4VY4Y",
    "outputId": "7534f32c-c079-44b6-d558-0c5421d1404b"
   },
   "outputs": [
    {
     "name": "stdout",
     "output_type": "stream",
     "text": [
      "메로나 가격 : 1000\n"
     ]
    }
   ],
   "source": [
    "# 087\n",
    "# 다음 딕셔너리를 사용하여 메로나 가격을 출력하라.\n",
    "\n",
    "ice = {'메로나': 1000,\n",
    "       '폴로포': 1200,\n",
    "       '빵빠레': 1800,\n",
    "       '죠스바': 1200,\n",
    "       '월드콘': 1500}\n",
    "\n",
    "print(f\"메로나 가격 : {ice['메로나']}\")"
   ]
  },
  {
   "cell_type": "code",
   "execution_count": null,
   "metadata": {
    "colab": {
     "base_uri": "https://localhost:8080/"
    },
    "executionInfo": {
     "elapsed": 22,
     "status": "ok",
     "timestamp": 1743309473938,
     "user": {
      "displayName": "_biz catherine",
      "userId": "04404804885371645787"
     },
     "user_tz": -540
    },
    "id": "R_SZhzStVva_",
    "outputId": "c3767ff8-566c-43f7-d814-c1a7b72638d4"
   },
   "outputs": [
    {
     "name": "stdout",
     "output_type": "stream",
     "text": [
      "{'메로나': 1300, '폴로포': 1200, '빵빠레': 1800, '죠스바': 1200, '월드콘': 1500}\n"
     ]
    }
   ],
   "source": [
    "# 088\n",
    "# 다음 딕셔너리에서 메로나의 가격을 1300으로 수정하라.\n",
    "ice = {'메로나': 1000,\n",
    "       '폴로포': 1200,\n",
    "       '빵빠레': 1800,\n",
    "       '죠스바': 1200,\n",
    "       '월드콘': 1500}\n",
    "\n",
    "ice['메로나'] = 1300\n",
    "print(ice)"
   ]
  },
  {
   "cell_type": "markdown",
   "metadata": {
    "id": "bPWRiMEeV-Vv"
   },
   "source": [
    "## 사전 요소 삭제 : del"
   ]
  },
  {
   "cell_type": "code",
   "execution_count": null,
   "metadata": {
    "colab": {
     "base_uri": "https://localhost:8080/"
    },
    "executionInfo": {
     "elapsed": 49,
     "status": "ok",
     "timestamp": 1743309638204,
     "user": {
      "displayName": "_biz catherine",
      "userId": "04404804885371645787"
     },
     "user_tz": -540
    },
    "id": "-Pa_cw-WV6HU",
    "outputId": "085acf9a-d1e0-4605-bc3e-a73956d93077"
   },
   "outputs": [
    {
     "name": "stdout",
     "output_type": "stream",
     "text": [
      "{'폴로포': 1200, '빵빠레': 1800, '죠스바': 1200, '월드콘': 1500}\n"
     ]
    }
   ],
   "source": [
    "# 089\n",
    "# 다음 딕셔너리에서 메로나를 삭제하라.\n",
    "ice = {'메로나': 1000,\n",
    "       '폴로포': 1200,\n",
    "       '빵빠레': 1800,\n",
    "       '죠스바': 1200,\n",
    "       '월드콘': 1500}\n",
    "\n",
    "del ice['메로나']\n",
    "print(ice)"
   ]
  },
  {
   "cell_type": "code",
   "execution_count": null,
   "metadata": {
    "id": "NrEO2rz0Wg-k"
   },
   "outputs": [],
   "source": [
    "# 090\n",
    "# 다음 코드에서 에러가 발생한 원인을 설명하라.\n",
    "# >> icecream = {'폴라포': 1200, '빵빠레': 1800, '월드콘': 1500, '메로나': 1000}\n",
    "# >> icecream['누가바']\n",
    "# Traceback (most recent call last):\n",
    "#   File \"<pyshell#69>\", line 1, in <module>\n",
    "#     icecream['누가바']\n",
    "# KeyError: '누가바'\n"
   ]
  },
  {
   "cell_type": "code",
   "execution_count": null,
   "metadata": {
    "colab": {
     "base_uri": "https://localhost:8080/"
    },
    "executionInfo": {
     "elapsed": 17,
     "status": "ok",
     "timestamp": 1743310080917,
     "user": {
      "displayName": "_biz catherine",
      "userId": "04404804885371645787"
     },
     "user_tz": -540
    },
    "id": "I-MoTvnoXB3w",
    "outputId": "f7e2530f-6215-43dd-8841-01f6854b5be6"
   },
   "outputs": [
    {
     "name": "stdout",
     "output_type": "stream",
     "text": [
      "{'메로나': [300, 20], '비비빅': [400, 3], '죠스바': [250, 100]}\n"
     ]
    }
   ],
   "source": [
    "# 091 딕셔너리 생성\n",
    "# 아래의 표에서, 아이스크림 이름을 키값으로, (가격, 재고) 리스트를 딕셔너리의 값으로 저장하라.\n",
    "# 딕셔너리의 이름은 inventory로 한다.\n",
    "\n",
    "# 이름\t가격\t재고\n",
    "# 메로나\t300\t20\n",
    "# 비비빅\t400\t3\n",
    "# 죠스바\t250\t100\n",
    "\n",
    "inventory = {\"메로나\": [300, 20],\n",
    "             \"비비빅\": [400, 3],\n",
    "             \"죠스바\": [250, 100]}\n",
    "print(inventory)\n"
   ]
  },
  {
   "cell_type": "code",
   "execution_count": null,
   "metadata": {
    "colab": {
     "base_uri": "https://localhost:8080/"
    },
    "executionInfo": {
     "elapsed": 67,
     "status": "ok",
     "timestamp": 1743310133639,
     "user": {
      "displayName": "_biz catherine",
      "userId": "04404804885371645787"
     },
     "user_tz": -540
    },
    "id": "0XT0xtaZYOC0",
    "outputId": "5e76d843-da18-45c6-e580-07878da554d6"
   },
   "outputs": [
    {
     "name": "stdout",
     "output_type": "stream",
     "text": [
      "300\n"
     ]
    }
   ],
   "source": [
    "# 092 딕셔너리 인덱싱\n",
    "# inventory 딕셔너리에서 메로나의 가격을 화면에 출력하라.\n",
    "\n",
    "inventory = {\"메로나\": [300, 20],\n",
    "              \"비비빅\": [400, 3],\n",
    "              \"죠스바\": [250, 100]}\n",
    "\n",
    "print(inventory[\"메로나\"][0])"
   ]
  },
  {
   "cell_type": "code",
   "execution_count": null,
   "metadata": {
    "colab": {
     "base_uri": "https://localhost:8080/"
    },
    "executionInfo": {
     "elapsed": 77,
     "status": "ok",
     "timestamp": 1743310177461,
     "user": {
      "displayName": "_biz catherine",
      "userId": "04404804885371645787"
     },
     "user_tz": -540
    },
    "id": "6aZl4umSYcR7",
    "outputId": "94f21e9b-e895-42df-80d4-55acade22db7"
   },
   "outputs": [
    {
     "name": "stdout",
     "output_type": "stream",
     "text": [
      "20\n"
     ]
    }
   ],
   "source": [
    "# 093 딕셔너리 인덱싱\n",
    "# inventory 딕셔너리에서 메로나의 재고를 화면에 출력하라.\n",
    "inventory = {\"메로나\": [300, 20],\n",
    "              \"비비빅\": [400, 3],\n",
    "              \"죠스바\": [250, 100]}\n",
    "\n",
    "print(inventory[\"메로나\"][1])"
   ]
  },
  {
   "cell_type": "code",
   "execution_count": null,
   "metadata": {
    "colab": {
     "base_uri": "https://localhost:8080/"
    },
    "executionInfo": {
     "elapsed": 30,
     "status": "ok",
     "timestamp": 1743310240695,
     "user": {
      "displayName": "_biz catherine",
      "userId": "04404804885371645787"
     },
     "user_tz": -540
    },
    "id": "tqF53jjuYfE4",
    "outputId": "ef1dbfc1-3432-4c71-d8da-240c66dcd657"
   },
   "outputs": [
    {
     "name": "stdout",
     "output_type": "stream",
     "text": [
      "{'메로나': [300, 20], '비비빅': [400, 3], '죠스바': [250, 100], '월드콘': [500, 7]}\n"
     ]
    }
   ],
   "source": [
    "# 094 딕셔너리 추가\n",
    "# inventory 딕셔너리에 아래 데이터를 추가하라.\n",
    "\n",
    "inventory = {\"메로나\": [300, 20],\n",
    "              \"비비빅\": [400, 3],\n",
    "              \"죠스바\": [250, 100]}\n",
    "\n",
    "inventory[\"월드콘\"] = [500,7]\n",
    "print(inventory)"
   ]
  },
  {
   "cell_type": "markdown",
   "metadata": {
    "id": "48sEujQNZEOR"
   },
   "source": [
    "## keys() 메서드\n",
    "\n",
    "keys()메서드를 쓰면 그 값들은 dict_keys라는 타입이 된다."
   ]
  },
  {
   "cell_type": "code",
   "execution_count": null,
   "metadata": {
    "colab": {
     "base_uri": "https://localhost:8080/"
    },
    "executionInfo": {
     "elapsed": 13,
     "status": "ok",
     "timestamp": 1743310354171,
     "user": {
      "displayName": "_biz catherine",
      "userId": "04404804885371645787"
     },
     "user_tz": -540
    },
    "id": "CI6aisGfY1Io",
    "outputId": "901b014d-e965-4ea9-d5a2-c7d3742fa202"
   },
   "outputs": [
    {
     "name": "stdout",
     "output_type": "stream",
     "text": [
      "['탱크보이', '폴라포', '빵빠레', '월드콘', '메로나'] <class 'list'>\n"
     ]
    }
   ],
   "source": [
    "# 095 딕셔너리 keys() 메서드\n",
    "# 다음의 딕셔너리로부터 key 값으로만 구성된 리스트를 생성하라.\n",
    "icecream = {'탱크보이': 1200, '폴라포': 1200, '빵빠레': 1800, '월드콘': 1500, '메로나': 1000}\n",
    "lst = list(icecream.keys())\n",
    "print(lst,type(lst))"
   ]
  },
  {
   "cell_type": "markdown",
   "metadata": {
    "id": "aSfa04X8ZTFI"
   },
   "source": [
    "## values() 메서드"
   ]
  },
  {
   "cell_type": "code",
   "execution_count": null,
   "metadata": {
    "colab": {
     "base_uri": "https://localhost:8080/"
    },
    "executionInfo": {
     "elapsed": 26,
     "status": "ok",
     "timestamp": 1743310427752,
     "user": {
      "displayName": "_biz catherine",
      "userId": "04404804885371645787"
     },
     "user_tz": -540
    },
    "id": "zORnPG0-ZRJh",
    "outputId": "13bb9090-b72d-49aa-e54d-036a252e5042"
   },
   "outputs": [
    {
     "name": "stdout",
     "output_type": "stream",
     "text": [
      "[1200, 1200, 1800, 1500, 1000]\n"
     ]
    }
   ],
   "source": [
    "# 096 딕셔너리 values() 메서드\n",
    "# 다음의 딕셔너리에서 values 값으로만 구성된 리스트를 생성하라.\n",
    "icecream = {'탱크보이': 1200, '폴라포': 1200, '빵빠레': 1800, '월드콘': 1500, '메로나': 1000}\n",
    "lst = list(icecream.values())\n",
    "print(lst)"
   ]
  },
  {
   "cell_type": "code",
   "execution_count": null,
   "metadata": {
    "colab": {
     "base_uri": "https://localhost:8080/"
    },
    "executionInfo": {
     "elapsed": 24,
     "status": "ok",
     "timestamp": 1743310514195,
     "user": {
      "displayName": "_biz catherine",
      "userId": "04404804885371645787"
     },
     "user_tz": -540
    },
    "id": "ZA4WmrMjZo_3",
    "outputId": "bda90141-bbd2-4f64-9650-1c32243b8f76"
   },
   "outputs": [
    {
     "name": "stdout",
     "output_type": "stream",
     "text": [
      "6700\n"
     ]
    }
   ],
   "source": [
    "# 097 딕셔너리 values() 메서드\n",
    "# icecream 딕셔너리에서 아이스크림 판매 금액의 총합을 출력하라.\n",
    "\n",
    "icecream = {'탱크보이': 1200, '폴라포': 1200, '빵빠레': 1800, '월드콘': 1500, '메로나': 1000}\n",
    "print(sum(icecream.values()))"
   ]
  },
  {
   "cell_type": "markdown",
   "metadata": {
    "id": "8W3ee5xZaBZo"
   },
   "source": [
    "## update() : 사전 + 사전을 하고 싶을 때"
   ]
  },
  {
   "cell_type": "code",
   "execution_count": null,
   "metadata": {
    "colab": {
     "base_uri": "https://localhost:8080/"
    },
    "executionInfo": {
     "elapsed": 52,
     "status": "ok",
     "timestamp": 1743310602440,
     "user": {
      "displayName": "_biz catherine",
      "userId": "04404804885371645787"
     },
     "user_tz": -540
    },
    "id": "OIFG9VREZ31V",
    "outputId": "8ec8b9e8-d2eb-45ca-e237-ccfd36a0b7d9"
   },
   "outputs": [
    {
     "name": "stdout",
     "output_type": "stream",
     "text": [
      "{'탱크보이': 1200, '폴라포': 1200, '빵빠레': 1800, '월드콘': 1500, '메로나': 1000, '팥빙수': 2700, '아맛나': 1000}\n"
     ]
    }
   ],
   "source": [
    "# 098 딕셔너리 update 메서드\n",
    "# 아래의 new_product 딕셔너리를 다음 icecream 딕셔너리에 추가하라.\n",
    "\n",
    "icecream = {'탱크보이': 1200, '폴라포': 1200, '빵빠레': 1800, '월드콘': 1500, '메로나': 1000}\n",
    "new_product = {'팥빙수':2700, '아맛나':1000}\n",
    "\n",
    "icecream.update(new_product)\n",
    "print(icecream)"
   ]
  },
  {
   "cell_type": "markdown",
   "metadata": {
    "id": "LP7c6LWHah_8"
   },
   "source": [
    "## zip(), dict()\n",
    "\n",
    "zip() : 튜플의 각 요소들을 같은 인덱스끼리 짝짓는 것\n",
    "\n",
    "dict() : 타입을 딕셔너리로 바꾸는 함수"
   ]
  },
  {
   "cell_type": "code",
   "execution_count": null,
   "metadata": {
    "colab": {
     "base_uri": "https://localhost:8080/"
    },
    "executionInfo": {
     "elapsed": 71,
     "status": "ok",
     "timestamp": 1743310689528,
     "user": {
      "displayName": "_biz catherine",
      "userId": "04404804885371645787"
     },
     "user_tz": -540
    },
    "id": "VhT7MtMHaNxB",
    "outputId": "896590aa-f076-4278-fddb-0b40f534a073"
   },
   "outputs": [
    {
     "name": "stdout",
     "output_type": "stream",
     "text": [
      "{'apple': 300, 'pear': 250, 'peach': 400}\n"
     ]
    }
   ],
   "source": [
    "# 099 zip과 dict\n",
    "# 아래 두 개의 튜플을 하나의 딕셔너리로 변환하라. keys를 키로, vals를 값으로 result 이름의 딕셔너리로 저장한다.\n",
    "keys = (\"apple\", \"pear\", \"peach\")\n",
    "vals = (300, 250, 400)\n",
    "\n",
    "result = dict(zip(keys, vals))\n",
    "print(result)"
   ]
  },
  {
   "cell_type": "code",
   "execution_count": null,
   "metadata": {
    "colab": {
     "base_uri": "https://localhost:8080/"
    },
    "executionInfo": {
     "elapsed": 42,
     "status": "ok",
     "timestamp": 1743310811888,
     "user": {
      "displayName": "_biz catherine",
      "userId": "04404804885371645787"
     },
     "user_tz": -540
    },
    "id": "9a0xwik1axGD",
    "outputId": "d0f0b49a-497a-488e-8503-83b5e266edab"
   },
   "outputs": [
    {
     "name": "stdout",
     "output_type": "stream",
     "text": [
      "{'09/05': 10500, '09/06': 10300, '09/07': 10100, '09/08': 10800, '09/09': 11000}\n"
     ]
    }
   ],
   "source": [
    "# 100 zip과 dict\n",
    "# date와 close_price 두 개의 리스트를 close_table 이름의 딕셔너리로 생성하라.\n",
    "\n",
    "date = ['09/05', '09/06', '09/07', '09/08', '09/09']\n",
    "close_price = [10500, 10300, 10100, 10800, 11000]\n",
    "\n",
    "close_table = dict(zip(date,close_price))\n",
    "print(close_table)"
   ]
  },
  {
   "cell_type": "markdown",
   "metadata": {
    "id": "UfhBmi2ubEZa"
   },
   "source": [
    "# 07. 파이썬 분기문"
   ]
  },
  {
   "cell_type": "code",
   "execution_count": null,
   "metadata": {
    "id": "_akSPuaobJE5"
   },
   "outputs": [],
   "source": [
    "# 101\n",
    "# 파이썬에서 True 혹은 False를 갖는 데이터 타입은 무엇인가?\n",
    "\n",
    "# bool 타입"
   ]
  },
  {
   "cell_type": "code",
   "execution_count": null,
   "metadata": {
    "colab": {
     "base_uri": "https://localhost:8080/"
    },
    "executionInfo": {
     "elapsed": 68,
     "status": "ok",
     "timestamp": 1743310935961,
     "user": {
      "displayName": "_biz catherine",
      "userId": "04404804885371645787"
     },
     "user_tz": -540
    },
    "id": "g9AhDlPVbZ7Y",
    "outputId": "6c6d0a11-4846-4278-b0ec-068a3a0f495c"
   },
   "outputs": [
    {
     "name": "stdout",
     "output_type": "stream",
     "text": [
      "False\n"
     ]
    }
   ],
   "source": [
    "# 102\n",
    "# 아래 코드의 출력 결과를 예상하라\n",
    "print(3 == 5)\n"
   ]
  },
  {
   "cell_type": "code",
   "execution_count": null,
   "metadata": {
    "colab": {
     "base_uri": "https://localhost:8080/"
    },
    "executionInfo": {
     "elapsed": 59,
     "status": "ok",
     "timestamp": 1743310956875,
     "user": {
      "displayName": "_biz catherine",
      "userId": "04404804885371645787"
     },
     "user_tz": -540
    },
    "id": "a9qWpCCLbe7p",
    "outputId": "a40d0c15-e210-436f-c0d7-e92804312ca4"
   },
   "outputs": [
    {
     "name": "stdout",
     "output_type": "stream",
     "text": [
      "True\n"
     ]
    }
   ],
   "source": [
    "# 103\n",
    "# 아래 코드의 출력 결과를 예상하라\n",
    "print(3 < 5)\n"
   ]
  },
  {
   "cell_type": "code",
   "execution_count": null,
   "metadata": {
    "colab": {
     "base_uri": "https://localhost:8080/"
    },
    "executionInfo": {
     "elapsed": 21,
     "status": "ok",
     "timestamp": 1743310969140,
     "user": {
      "displayName": "_biz catherine",
      "userId": "04404804885371645787"
     },
     "user_tz": -540
    },
    "id": "cG7jhZS4bj_-",
    "outputId": "73c01b4d-aa44-40bf-dd7f-fdf94d39c0a5"
   },
   "outputs": [
    {
     "name": "stdout",
     "output_type": "stream",
     "text": [
      "True\n"
     ]
    }
   ],
   "source": [
    "# 104\n",
    "# 아래 코드의 결과를 예상하라.\n",
    "\n",
    "x = 4\n",
    "print(1 < x < 5)"
   ]
  },
  {
   "cell_type": "code",
   "execution_count": null,
   "metadata": {
    "colab": {
     "base_uri": "https://localhost:8080/"
    },
    "executionInfo": {
     "elapsed": 20,
     "status": "ok",
     "timestamp": 1743310986363,
     "user": {
      "displayName": "_biz catherine",
      "userId": "04404804885371645787"
     },
     "user_tz": -540
    },
    "id": "KZKexSipbofO",
    "outputId": "e24c02f8-e7db-4066-cbb5-29c129a422e2"
   },
   "outputs": [
    {
     "name": "stdout",
     "output_type": "stream",
     "text": [
      "True\n"
     ]
    }
   ],
   "source": [
    "# 105\n",
    "# 아래 코드의 결과를 예상하라.\n",
    "\n",
    "print ((3 == 3) and (4 != 3))"
   ]
  },
  {
   "cell_type": "code",
   "execution_count": null,
   "metadata": {
    "colab": {
     "base_uri": "https://localhost:8080/"
    },
    "executionInfo": {
     "elapsed": 31,
     "status": "ok",
     "timestamp": 1743311031624,
     "user": {
      "displayName": "_biz catherine",
      "userId": "04404804885371645787"
     },
     "user_tz": -540
    },
    "id": "NQqZ8e1GbsEJ",
    "outputId": "ff6bbe18-a2a6-4fe8-d1fd-de658885aedd"
   },
   "outputs": [
    {
     "name": "stdout",
     "output_type": "stream",
     "text": [
      "False\n"
     ]
    }
   ],
   "source": [
    "# 106\n",
    "# 아래 코드에서 에러가 발생하는 원인에 대해 설명하라.\n",
    "\n",
    "# print(3 => 4)\n",
    "print(3 >= 4)"
   ]
  },
  {
   "cell_type": "code",
   "execution_count": null,
   "metadata": {
    "id": "dOtS6DWViNHo"
   },
   "outputs": [],
   "source": [
    "# 107\n",
    "# 아래 코드의 출력 결과를 예상하라\n",
    "\n",
    "if 4 < 3:\n",
    "    print(\"Hello World\")"
   ]
  },
  {
   "cell_type": "code",
   "execution_count": null,
   "metadata": {
    "colab": {
     "base_uri": "https://localhost:8080/"
    },
    "executionInfo": {
     "elapsed": 53,
     "status": "ok",
     "timestamp": 1743315759941,
     "user": {
      "displayName": "_biz catherine",
      "userId": "04404804885371645787"
     },
     "user_tz": -540
    },
    "id": "KUyllRRIiS0X",
    "outputId": "42810030-0673-4f8c-e144-d6cdffedf6ab"
   },
   "outputs": [
    {
     "name": "stdout",
     "output_type": "stream",
     "text": [
      "Hi, there.\n"
     ]
    }
   ],
   "source": [
    "# 108\n",
    "# 아래 코드의 출력 결과를 예상하라\n",
    "\n",
    "if 4 < 3:\n",
    "    print(\"Hello World.\")\n",
    "else:\n",
    "    print(\"Hi, there.\")"
   ]
  },
  {
   "cell_type": "code",
   "execution_count": null,
   "metadata": {
    "colab": {
     "base_uri": "https://localhost:8080/"
    },
    "executionInfo": {
     "elapsed": 33,
     "status": "ok",
     "timestamp": 1743315787411,
     "user": {
      "displayName": "_biz catherine",
      "userId": "04404804885371645787"
     },
     "user_tz": -540
    },
    "id": "qobL5bbLt5ls",
    "outputId": "0edf73c4-68cd-4fd5-98f7-5c3d6736aec9"
   },
   "outputs": [
    {
     "name": "stdout",
     "output_type": "stream",
     "text": [
      "1\n",
      "2\n",
      "4\n"
     ]
    }
   ],
   "source": [
    "# 109\n",
    "# 아래 코드의 출력 결과를 예상하라\n",
    "\n",
    "if True :\n",
    "    print (\"1\")\n",
    "    print (\"2\")\n",
    "else :\n",
    "    print(\"3\")\n",
    "print(\"4\")"
   ]
  },
  {
   "cell_type": "code",
   "execution_count": null,
   "metadata": {
    "colab": {
     "base_uri": "https://localhost:8080/"
    },
    "executionInfo": {
     "elapsed": 27,
     "status": "ok",
     "timestamp": 1743315808201,
     "user": {
      "displayName": "_biz catherine",
      "userId": "04404804885371645787"
     },
     "user_tz": -540
    },
    "id": "CyslbwhbuAGF",
    "outputId": "c9cfcf7d-4b0f-4395-d50c-9ee6ace8f800"
   },
   "outputs": [
    {
     "name": "stdout",
     "output_type": "stream",
     "text": [
      "3\n",
      "5\n"
     ]
    }
   ],
   "source": [
    "# 110\n",
    "# 아래 코드의 출력 결과를 예상하라\n",
    "\n",
    "if True :\n",
    "    if False:\n",
    "        print(\"1\")\n",
    "        print(\"2\")\n",
    "    else:\n",
    "        print(\"3\")\n",
    "else :\n",
    "    print(\"4\")\n",
    "print(\"5\")"
   ]
  },
  {
   "cell_type": "markdown",
   "metadata": {
    "id": "XYX3iHwKulV5"
   },
   "source": [
    "## input()"
   ]
  },
  {
   "cell_type": "code",
   "execution_count": null,
   "metadata": {
    "colab": {
     "base_uri": "https://localhost:8080/"
    },
    "executionInfo": {
     "elapsed": 5656,
     "status": "ok",
     "timestamp": 1743316964094,
     "user": {
      "displayName": "_biz catherine",
      "userId": "04404804885371645787"
     },
     "user_tz": -540
    },
    "id": "JDhGcMsGuHfE",
    "outputId": "57b2db07-18cf-4f61-fada-1b2d9cc2b239"
   },
   "outputs": [
    {
     "name": "stdout",
     "output_type": "stream",
     "text": [
      "입력 :안녕하세요\n",
      "안녕하세요안녕하세요\n"
     ]
    }
   ],
   "source": [
    "# 111\n",
    "# 사용자로부터 입력받은 문자열을 두 번 출력하라.\n",
    "# 아래는 사용자가 \"안녕하세요\"를 입력한 경우의 출력 결과이다.\n",
    "a = input(\"입력 :\")\n",
    "print(a*2)"
   ]
  },
  {
   "cell_type": "code",
   "execution_count": null,
   "metadata": {
    "colab": {
     "base_uri": "https://localhost:8080/"
    },
    "executionInfo": {
     "elapsed": 2140,
     "status": "ok",
     "timestamp": 1743317029628,
     "user": {
      "displayName": "_biz catherine",
      "userId": "04404804885371645787"
     },
     "user_tz": -540
    },
    "id": "Dq04VwN_yf1I",
    "outputId": "cc24d44c-8809-4a85-bae4-02d8021b2b4e"
   },
   "outputs": [
    {
     "name": "stdout",
     "output_type": "stream",
     "text": [
      "숫자 입력 : 30\n",
      "40\n"
     ]
    }
   ],
   "source": [
    "# 112\n",
    "# 사용자로부터 하나의 숫자를 입력받고, 입력 받은 숫자에 10을 더해 출력하라.\n",
    "\n",
    "a = int(input(\"숫자 입력 : \"))\n",
    "print(a+10)"
   ]
  },
  {
   "cell_type": "code",
   "execution_count": null,
   "metadata": {
    "colab": {
     "base_uri": "https://localhost:8080/"
    },
    "executionInfo": {
     "elapsed": 3050,
     "status": "ok",
     "timestamp": 1743317161769,
     "user": {
      "displayName": "_biz catherine",
      "userId": "04404804885371645787"
     },
     "user_tz": -540
    },
    "id": "EkfDZ_oZyvPF",
    "outputId": "6f19c838-5740-4e3e-f034-47dd37e9632f"
   },
   "outputs": [
    {
     "name": "stdout",
     "output_type": "stream",
     "text": [
      "write number : 30\n",
      "even\n"
     ]
    }
   ],
   "source": [
    "# 113\n",
    "# 사용자로부터 하나의 숫자를 입력 받고 짝수/홀수를 판별하라.\n",
    "\n",
    "a = int(input(\"write number : \"))\n",
    "\n",
    "if a % 2 == 0:\n",
    "    print(\"even\")\n",
    "else :\n",
    "    print(\"odds\")"
   ]
  },
  {
   "cell_type": "code",
   "execution_count": null,
   "metadata": {
    "colab": {
     "base_uri": "https://localhost:8080/"
    },
    "executionInfo": {
     "elapsed": 2178,
     "status": "ok",
     "timestamp": 1743317373824,
     "user": {
      "displayName": "_biz catherine",
      "userId": "04404804885371645787"
     },
     "user_tz": -540
    },
    "id": "Eg0an5eezOZj",
    "outputId": "7151e215-e735-44b3-b102-dc2943fd5615"
   },
   "outputs": [
    {
     "name": "stdout",
     "output_type": "stream",
     "text": [
      "write number : 15\n",
      "0\n"
     ]
    }
   ],
   "source": [
    "# 114,115\n",
    "# 사용자로부터 값을 입력받은 후 해당 값에 20을 더한 값을 출력하라.\n",
    "# 단 사용자가 입력한 값과 20을 더한 계산 값이 255를 초과하는 경우 255를 출력해야 한다.\n",
    "\n",
    "a = int(input(\"write number : \"))\n",
    "a = a - 20\n",
    "if 0 <= a <= 255 :\n",
    "    print(a)\n",
    "elif a < 0 :\n",
    "    print(0)\n",
    "else:\n",
    "    print(255)"
   ]
  },
  {
   "cell_type": "code",
   "execution_count": null,
   "metadata": {
    "colab": {
     "base_uri": "https://localhost:8080/"
    },
    "executionInfo": {
     "elapsed": 4705,
     "status": "ok",
     "timestamp": 1743317576542,
     "user": {
      "displayName": "_biz catherine",
      "userId": "04404804885371645787"
     },
     "user_tz": -540
    },
    "id": "mNkBtlx80GXV",
    "outputId": "3856df87-a3bf-476e-cb32-d52feaaf2d20"
   },
   "outputs": [
    {
     "name": "stdout",
     "output_type": "stream",
     "text": [
      "현재시간 : 03:10\n",
      "정각이 아닙니다.\n"
     ]
    }
   ],
   "source": [
    "# 116\n",
    "# 사용자로부터 입력 받은 시간이 정각인지 판별하라.\n",
    "\n",
    "time = input(\"현재시간 : \")\n",
    "\n",
    "if time.endswith(\"00\"):\n",
    "    print(\"정각입니다.\")\n",
    "else:\n",
    "    print(\"정각이 아닙니다.\")\n",
    "\n"
   ]
  },
  {
   "cell_type": "code",
   "execution_count": null,
   "metadata": {
    "colab": {
     "base_uri": "https://localhost:8080/"
    },
    "executionInfo": {
     "elapsed": 7274,
     "status": "ok",
     "timestamp": 1743317686844,
     "user": {
      "displayName": "_biz catherine",
      "userId": "04404804885371645787"
     },
     "user_tz": -540
    },
    "id": "9ijRMY3R00Ex",
    "outputId": "bcfbc9f4-1a3a-42c5-c10b-829e73e641d8"
   },
   "outputs": [
    {
     "name": "stdout",
     "output_type": "stream",
     "text": [
      "과일 이름을 입력하세요 : 사과\n",
      "정답입니다.\n"
     ]
    }
   ],
   "source": [
    "# 117\n",
    "# 사용자로 입력받은 단어가 아래 fruit 리스트에 포함되어 있는지를 확인하라.\n",
    "# 포함되었다면 \"정답입니다\"를 아닐 경우 \"오답입니다\" 출력하라.\n",
    "\n",
    "fruit = [\"사과\", \"포도\", \"홍시\"]\n",
    "\n",
    "a = input(\"과일 이름을 입력하세요 : \")\n",
    "\n",
    "if a in fruit:\n",
    "    print(\"정답입니다.\")\n",
    "else:\n",
    "    print(\"오답입니다.\")"
   ]
  },
  {
   "cell_type": "code",
   "execution_count": null,
   "metadata": {
    "colab": {
     "base_uri": "https://localhost:8080/"
    },
    "executionInfo": {
     "elapsed": 8586,
     "status": "ok",
     "timestamp": 1743317806996,
     "user": {
      "displayName": "_biz catherine",
      "userId": "04404804885371645787"
     },
     "user_tz": -540
    },
    "id": "Y3jWbY911PiR",
    "outputId": "04fb7eab-3d98-41ac-d794-1bda057a8d9c"
   },
   "outputs": [
    {
     "name": "stdout",
     "output_type": "stream",
     "text": [
      "투자할 종목명을 입력 : Google\n",
      "투자 경고 종목입니다.\n"
     ]
    }
   ],
   "source": [
    "# 118\n",
    "# 투자 경고 종목 리스트가 있을 때 사용자로부터 종목명을 입력 받은 후\n",
    "# 해당 종목이 투자 경고 종목이라면 '투자 경고 종목입니다'를\n",
    "# 아니면 \"투자 경고 종목이 아닙니다.\"를 출력하는 프로그램을 작성하라.\n",
    "\n",
    "warn_investment_list = [\"Microsoft\", \"Google\", \"Naver\", \"Kakao\", \"SAMSUNG\", \"LG\"]\n",
    "\n",
    "a = input(\"투자할 종목명을 입력 : \")\n",
    "\n",
    "if a in warn_investment_list:\n",
    "    print(\"투자 경고 종목입니다.\")\n",
    "else:\n",
    "    print(\"투자 경고 종목이 아닙니다.\")\n"
   ]
  },
  {
   "cell_type": "code",
   "execution_count": null,
   "metadata": {
    "colab": {
     "base_uri": "https://localhost:8080/"
    },
    "executionInfo": {
     "elapsed": 3865,
     "status": "ok",
     "timestamp": 1743317997417,
     "user": {
      "displayName": "_biz catherine",
      "userId": "04404804885371645787"
     },
     "user_tz": -540
    },
    "id": "flfAspnf1uIz",
    "outputId": "0d94d45e-436a-48eb-a546-2cda75d9fa0a"
   },
   "outputs": [
    {
     "name": "stdout",
     "output_type": "stream",
     "text": [
      "제가 좋아하는 계절은 : 봄\n",
      "정답입니다.\n"
     ]
    }
   ],
   "source": [
    "# 119\n",
    "# 아래와 같이 fruit 딕셔너리가 정의되어 있다.\n",
    "# 사용자가 입력한 값이 딕셔너리 키 (key) 값에 포함되었다면 \"정답입니다\"를 아닐 경우 \"오답입니다\" 출력하라.\n",
    "\n",
    "fruit = {\"봄\" : \"딸기\", \"여름\" : \"토마토\", \"가을\" : \"사과\"}\n",
    "\n",
    "a = input(\"제가 좋아하는 계절은 : \")\n",
    "\n",
    "if a in fruit:\n",
    "    print(\"정답입니다.\")\n",
    "else:\n",
    "    print(\"오답입니다.\")"
   ]
  },
  {
   "cell_type": "code",
   "execution_count": null,
   "metadata": {
    "colab": {
     "base_uri": "https://localhost:8080/"
    },
    "executionInfo": {
     "elapsed": 4921,
     "status": "ok",
     "timestamp": 1743318103440,
     "user": {
      "displayName": "_biz catherine",
      "userId": "04404804885371645787"
     },
     "user_tz": -540
    },
    "id": "C6MC6QxU2cmu",
    "outputId": "bc78bbe5-021a-4169-f1a7-e3504e43cb39"
   },
   "outputs": [
    {
     "name": "stdout",
     "output_type": "stream",
     "text": [
      "좋아하는 과일은 ? : 한라봉\n",
      "오답입니다.\n"
     ]
    }
   ],
   "source": [
    "# 120\n",
    "# 아래와 같이 fruit 딕셔너리가 정의되어 있다.\n",
    "#사용자가 입력한 값이 딕셔너리 값 (value)에 포함되었다면 \"정답입니다\"를 아닐 경우 \"오답입니다\" 출력하라.\n",
    "\n",
    "fruit = {\"봄\" : \"딸기\", \"여름\" : \"토마토\", \"가을\" : \"사과\"}\n",
    "\n",
    "a = input(\"좋아하는 과일은 ? : \")\n",
    "\n",
    "if a in fruit.values():\n",
    "    print(\"정답입니다.\")\n",
    "else:\n",
    "    print(\"오답입니다.\")"
   ]
  },
  {
   "cell_type": "markdown",
   "metadata": {
    "id": "9_FGL0AQ3aQ0"
   },
   "source": [
    "## islower() : 소문자 여부를 판별"
   ]
  },
  {
   "cell_type": "code",
   "execution_count": null,
   "metadata": {
    "colab": {
     "base_uri": "https://localhost:8080/"
    },
    "executionInfo": {
     "elapsed": 1905,
     "status": "ok",
     "timestamp": 1743318337708,
     "user": {
      "displayName": "_biz catherine",
      "userId": "04404804885371645787"
     },
     "user_tz": -540
    },
    "id": "CSve_GHE24Jj",
    "outputId": "712de926-5d41-4d6c-daee-caa8f1c26e8f"
   },
   "outputs": [
    {
     "name": "stdout",
     "output_type": "stream",
     "text": [
      "문자를 입력하세요 : A\n",
      "a\n"
     ]
    }
   ],
   "source": [
    "# 121\n",
    "# 사용자로부터 문자 한 개를 입력 받고, 소문자일 경우 대문자로, 대문자 일 경우, 소문자로 변경해서 출력하라.\n",
    "\n",
    "string = input(\"문자를 입력하세요 : \")\n",
    "\n",
    "if string.islower() == True:\n",
    "    print(string.upper())\n",
    "else:\n",
    "    print(string.lower())\n"
   ]
  },
  {
   "cell_type": "code",
   "execution_count": null,
   "metadata": {
    "colab": {
     "base_uri": "https://localhost:8080/"
    },
    "executionInfo": {
     "elapsed": 2182,
     "status": "ok",
     "timestamp": 1743327424628,
     "user": {
      "displayName": "_biz catherine",
      "userId": "04404804885371645787"
     },
     "user_tz": -540
    },
    "id": "tJXSWUXQ3tXK",
    "outputId": "793da868-815e-48d1-aeda-7af883f09b5c"
   },
   "outputs": [
    {
     "name": "stdout",
     "output_type": "stream",
     "text": [
      "점수를 입력하세요 : 50\n",
      "C\n"
     ]
    }
   ],
   "source": [
    "# 122\n",
    "# 점수 구간에 해당하는 학점이 아래와 같이 정의되어 있다. 사용자로부터 score를 입력받아 학점을 출력하라.\n",
    "# 점수\t학점\n",
    "# 81~100\tA\n",
    "# 61~80\tB\n",
    "# 41~60\tC\n",
    "# 21~40\tD\n",
    "# 0~20\tE\n",
    "\n",
    "score = float(input(\"점수를 입력하세요 : \"))\n",
    "\n",
    "if 80 < score <= 100 :\n",
    "    print(\"A\")\n",
    "elif 60 < score :\n",
    "    print(\"B\")\n",
    "elif 40 < score:\n",
    "    print(\"C\")\n",
    "elif 20 < score:\n",
    "    print(\"B\")\n",
    "else:\n",
    "    print(\"E\")\n"
   ]
  },
  {
   "cell_type": "code",
   "execution_count": null,
   "metadata": {
    "colab": {
     "base_uri": "https://localhost:8080/"
    },
    "executionInfo": {
     "elapsed": 3536,
     "status": "ok",
     "timestamp": 1743328087930,
     "user": {
      "displayName": "_biz catherine",
      "userId": "04404804885371645787"
     },
     "user_tz": -540
    },
    "id": "mIDqSJdiaYmx",
    "outputId": "982aa7d7-d60d-4c77-a1c4-2a8f9ebae7c4"
   },
   "outputs": [
    {
     "name": "stdout",
     "output_type": "stream",
     "text": [
      "금액을 입력하시오 : 100 달러\n",
      "116700.0원\n"
     ]
    }
   ],
   "source": [
    "# 123\n",
    "# 사용자로부터 달러, 엔, 유로, 또는 위안 금액을 입력받은 후\n",
    "# 이를 원으로 변환하는 프로그램을 작성하라.\n",
    "#각 통화별 환율은 다음과 같다.\n",
    "#사용자는 100 달러, 1000 엔, 13 유로, 100 위안과 같이\n",
    "#금액과 통화명 사이에 공백을 넣어 입력한다고 가정한다.\n",
    "\n",
    "money = {\"달러\" : 1167, \"엔\" : 1.096, \"유로\" : 1268, \"위안\" : 171}\n",
    "\n",
    "user = input(\"금액을 입력하시오 : \")\n",
    "\n",
    "a,b = user.split()\n",
    "won = money[b] * float(a)\n",
    "print(f\"{won}원\")"
   ]
  },
  {
   "cell_type": "code",
   "execution_count": null,
   "metadata": {
    "colab": {
     "base_uri": "https://localhost:8080/"
    },
    "executionInfo": {
     "elapsed": 8534,
     "status": "ok",
     "timestamp": 1743328236899,
     "user": {
      "displayName": "_biz catherine",
      "userId": "04404804885371645787"
     },
     "user_tz": -540
    },
    "id": "T7VA_pGTc9bz",
    "outputId": "8564af51-6614-41fa-8b20-20756655c241"
   },
   "outputs": [
    {
     "name": "stdout",
     "output_type": "stream",
     "text": [
      "숫자 1 : 10\n",
      "숫자 2 : 9\n",
      "숫자 3 : 20\n",
      "20.0\n"
     ]
    }
   ],
   "source": [
    "# 124\n",
    "# 사용자로부터 세 개의 숫자를 입력 받은 후 가장 큰 숫자를 출력하라.\n",
    "\n",
    "# >> input number1: 10\n",
    "# >> input number2: 9\n",
    "# >> input number3: 20\n",
    "# 20\n",
    "\n",
    "a = float(input(\"숫자 1 : \"))\n",
    "b = float(input(\"숫자 2 : \"))\n",
    "c = float(input(\"숫자 3 : \"))\n",
    "\n",
    "lst = [a,b,c]\n",
    "print(max(lst))"
   ]
  },
  {
   "cell_type": "code",
   "execution_count": null,
   "metadata": {
    "colab": {
     "base_uri": "https://localhost:8080/"
    },
    "executionInfo": {
     "elapsed": 12353,
     "status": "ok",
     "timestamp": 1743402661606,
     "user": {
      "displayName": "_biz catherine",
      "userId": "04404804885371645787"
     },
     "user_tz": -540
    },
    "id": "YZrbu9MJdfb1",
    "outputId": "b66d17f8-ddaa-4767-d329-5c6e4ea4f3dc"
   },
   "outputs": [
    {
     "name": "stdout",
     "output_type": "stream",
     "text": [
      "휴대전화 번호 입력 : 011-345-1922\n",
      "당신은 SKT 사용자입니다.\n"
     ]
    }
   ],
   "source": [
    "# 125\n",
    "# 휴대폰 번호 앞자리에 따라 통신사는 아래와 같이 구분된다.\n",
    "# 사용자로부터 휴대전화 번호를 입력 받고, 통신사를 출력하는 프로그램을 작성하라.\n",
    "\n",
    "# 번호\t통신사\n",
    "# 011\tSKT\n",
    "# 016\tKT\n",
    "# 019\tLGU\n",
    "# 010\t알수없음\n",
    "# >> 휴대전화 번호 입력: 011-345-1922\n",
    "# 당신은 SKT 사용자입니다.\n",
    "\n",
    "phone = {\"011\" : \"SKT\",\n",
    "          \"016\" : \"KT\" ,\n",
    "          \"019\" : \"LGU\" ,\n",
    "          \"010\" : \"알수없음\"}\n",
    "\n",
    "num = input(\"휴대전화 번호 입력 : \")\n",
    "print(f\"당신은 {phone[num[:3]]} 사용자입니다.\")"
   ]
  },
  {
   "cell_type": "code",
   "execution_count": null,
   "metadata": {
    "colab": {
     "base_uri": "https://localhost:8080/"
    },
    "executionInfo": {
     "elapsed": 2952,
     "status": "ok",
     "timestamp": 1743403532433,
     "user": {
      "displayName": "_biz catherine",
      "userId": "04404804885371645787"
     },
     "user_tz": -540
    },
    "id": "IuBJr-5I4w_R",
    "outputId": "78af104f-7b3b-434a-8637-8056c288bdb1"
   },
   "outputs": [
    {
     "name": "stdout",
     "output_type": "stream",
     "text": [
      "우편번호 : 01400\n",
      "도봉구\n"
     ]
    }
   ],
   "source": [
    "# 126\n",
    "# 우편번호는 5자리로 구성되는데, 앞의 세자리는 구를 나타낸다.\n",
    "# 예를들어, 강북구의 경우 010, 011, 012 세 자리로 시작한다.\n",
    "local = {\"강북구\" : [\"0\",\"1\",\"2\"],\n",
    "         \"도봉구\" : [\"3\",\"4\",\"5\"],\n",
    "         \"노원구\" : [\"6\",\"7\",\"8\",\"9\"]}\n",
    "\n",
    "num = input(\"우편번호 : \")\n",
    "\n",
    "for k,v in local.items():\n",
    "    if num[2] in v:\n",
    "        print(k)\n"
   ]
  },
  {
   "cell_type": "code",
   "execution_count": null,
   "metadata": {
    "colab": {
     "base_uri": "https://localhost:8080/"
    },
    "executionInfo": {
     "elapsed": 3303,
     "status": "ok",
     "timestamp": 1743403839030,
     "user": {
      "displayName": "_biz catherine",
      "userId": "04404804885371645787"
     },
     "user_tz": -540
    },
    "id": "8VQIvUZj8xcz",
    "outputId": "838aba5f-baf0-4d25-ff8c-61a67fc8ffb3"
   },
   "outputs": [
    {
     "name": "stdout",
     "output_type": "stream",
     "text": [
      "주민등록번호 : 821010-1635210\n",
      "남자\n"
     ]
    }
   ],
   "source": [
    "# 127\n",
    "# 주민등록번호 뒷 자리 7자리 중 첫째 자리는 성별을 나타내는데,\n",
    "# 1, 3은 남자 2, 4는 여자를 의미한다.\n",
    "# 사용자로부터 13자리의 주민등록번호를 입력 받은 후 성별 (남자, 여자)를 출력하는 프로그램을 작성하라.\n",
    "\n",
    "num = input(\"주민등록번호 : \")\n",
    "\n",
    "\n",
    "if int(num[-7]) % 2 == 0 :\n",
    "    print(\"여자\")\n",
    "else:\n",
    "    print(\"남자\")"
   ]
  },
  {
   "cell_type": "code",
   "execution_count": null,
   "metadata": {
    "colab": {
     "base_uri": "https://localhost:8080/"
    },
    "executionInfo": {
     "elapsed": 2460,
     "status": "ok",
     "timestamp": 1743408171475,
     "user": {
      "displayName": "_biz catherine",
      "userId": "04404804885371645787"
     },
     "user_tz": -540
    },
    "id": "JjfymrGq9nfq",
    "outputId": "4d7ebe48-ae9e-48e5-f4ed-3a620c6d7b0b"
   },
   "outputs": [
    {
     "name": "stdout",
     "output_type": "stream",
     "text": [
      "주민등록번호 : 861010-1015210\n",
      "서울입니다.\n"
     ]
    }
   ],
   "source": [
    "# 128\n",
    "# 주민등록번호의 뒷 자리 7자리 중 두번째와 세번째는 지역코드를 의미한다.\n",
    "# 주민 등록 번호를 입력 받은 후 출생지가 서울인지 아닌지 판단하는 코드를 작성하라\n",
    "num = input(\"주민등록번호 : \")\n",
    "\n",
    "\n",
    "if 0 <= int(num[-6:-4]) <= 8:\n",
    "    print(\"서울입니다.\")\n",
    "else:\n",
    "    print(\"서울이 아닙니다.\")"
   ]
  },
  {
   "cell_type": "code",
   "execution_count": null,
   "metadata": {
    "colab": {
     "base_uri": "https://localhost:8080/"
    },
    "executionInfo": {
     "elapsed": 2652,
     "status": "ok",
     "timestamp": 1743409022487,
     "user": {
      "displayName": "_biz catherine",
      "userId": "04404804885371645787"
     },
     "user_tz": -540
    },
    "id": "B3bQ_h-_OZu1",
    "outputId": "25da9617-129d-4e55-9b58-564b42964021"
   },
   "outputs": [
    {
     "name": "stdout",
     "output_type": "stream",
     "text": [
      "주민등록번호 : 821010-1635210\n",
      "8210101635210\n",
      "유효하지 않은 주민등록번호입니다.\n"
     ]
    }
   ],
   "source": [
    "# 129\n",
    "num = input(\"주민등록번호 : \")\n",
    "num = num.replace(\"-\",\"\")\n",
    "print(num)\n",
    "\n",
    "\n"
   ]
  },
  {
   "cell_type": "code",
   "execution_count": null,
   "metadata": {
    "colab": {
     "base_uri": "https://localhost:8080/"
    },
    "executionInfo": {
     "elapsed": 363,
     "status": "ok",
     "timestamp": 1743416293214,
     "user": {
      "displayName": "_biz catherine",
      "userId": "04404804885371645787"
     },
     "user_tz": -540
    },
    "id": "UwAfykzksogo",
    "outputId": "658130fe-8ae3-47de-a512-5b0da4874d04"
   },
   "outputs": [
    {
     "name": "stdout",
     "output_type": "stream",
     "text": [
      "상승장\n"
     ]
    }
   ],
   "source": [
    "# 130\n",
    "# 아래 코드는 비트코인의 가격 정보를 딕셔너리로 가져오는 코드이다.\n",
    "import requests\n",
    "btc = requests.get(\"https://api.bithumb.com/public/ticker/\").json()['data']\n",
    "\n",
    "변동폭 = float(btc['max_price']) - float(btc['min_price'])\n",
    "시가 = float(btc['opening_price'])\n",
    "최고가 = float(btc['max_price'])\n",
    "\n",
    "if (시가+변동폭) > 최고가:\n",
    "    print(\"상승장\")\n",
    "else:\n",
    "    print(\"하락장\")"
   ]
  },
  {
   "cell_type": "markdown",
   "metadata": {
    "id": "IVkAZskFtmOH"
   },
   "source": [
    "# 08. 파이썬 반복문"
   ]
  },
  {
   "cell_type": "code",
   "execution_count": null,
   "metadata": {
    "colab": {
     "base_uri": "https://localhost:8080/"
    },
    "executionInfo": {
     "elapsed": 46,
     "status": "ok",
     "timestamp": 1743416566918,
     "user": {
      "displayName": "_biz catherine",
      "userId": "04404804885371645787"
     },
     "user_tz": -540
    },
    "id": "ViHnpe_QttkG",
    "outputId": "ed07d47a-f9b9-4c4c-ea67-5685d8072858"
   },
   "outputs": [
    {
     "name": "stdout",
     "output_type": "stream",
     "text": [
      "사과\n",
      "귤\n",
      "수박\n"
     ]
    }
   ],
   "source": [
    "# 131\n",
    "# for문의 실행결과를 예측하라.\n",
    "\n",
    "과일 = [\"사과\", \"귤\", \"수박\"]\n",
    "for 변수 in 과일:\n",
    "    print(변수)\n",
    "\n"
   ]
  },
  {
   "cell_type": "code",
   "execution_count": null,
   "metadata": {
    "colab": {
     "base_uri": "https://localhost:8080/"
    },
    "executionInfo": {
     "elapsed": 62,
     "status": "ok",
     "timestamp": 1743416598187,
     "user": {
      "displayName": "_biz catherine",
      "userId": "04404804885371645787"
     },
     "user_tz": -540
    },
    "id": "BM-lfSrUubuo",
    "outputId": "48843224-c047-48cb-c3d9-548bedfab1aa"
   },
   "outputs": [
    {
     "name": "stdout",
     "output_type": "stream",
     "text": [
      "#####\n",
      "#####\n",
      "#####\n"
     ]
    }
   ],
   "source": [
    "# 132\n",
    "# for문의 실행결과를 예측하라.\n",
    "\n",
    "과일 = [\"사과\", \"귤\", \"수박\"]\n",
    "for 변수 in 과일:\n",
    "  print(\"#####\")"
   ]
  },
  {
   "cell_type": "code",
   "execution_count": null,
   "metadata": {
    "id": "N8Y0rh32ujVI"
   },
   "outputs": [],
   "source": [
    "# 133\n",
    "# 다음 for 문과 동일한 기능을 수행하는 코드를 작성하세요.\n",
    "\n",
    "# for 변수 in [\"A\", \"B\", \"C\"]:\n",
    "#   print(변수)\n",
    "\n",
    "# print(\"A\")\n"
   ]
  },
  {
   "cell_type": "code",
   "execution_count": null,
   "metadata": {
    "id": "8PvIzCMS0wYs"
   },
   "outputs": [],
   "source": [
    "# 134~135 pass : 133번이랑 같은 유형"
   ]
  },
  {
   "cell_type": "code",
   "execution_count": 1,
   "metadata": {
    "colab": {
     "base_uri": "https://localhost:8080/"
    },
    "executionInfo": {
     "elapsed": 18,
     "status": "ok",
     "timestamp": 1743468998735,
     "user": {
      "displayName": "_biz catherine",
      "userId": "04404804885371645787"
     },
     "user_tz": -540
    },
    "id": "cl4gHy4x1FZ8",
    "outputId": "404f15f1-98a7-42e1-e511-d4e3b62b45d9"
   },
   "outputs": [
    {
     "name": "stdout",
     "output_type": "stream",
     "text": [
      "10\n",
      "20\n",
      "30\n"
     ]
    }
   ],
   "source": [
    "#136\n",
    "for i in [10,20,30]:\n",
    "    print(i)"
   ]
  },
  {
   "cell_type": "code",
   "execution_count": 5,
   "metadata": {
    "colab": {
     "base_uri": "https://localhost:8080/"
    },
    "executionInfo": {
     "elapsed": 11,
     "status": "ok",
     "timestamp": 1743469517966,
     "user": {
      "displayName": "_biz catherine",
      "userId": "04404804885371645787"
     },
     "user_tz": -540
    },
    "id": "RAGDR9GZ2bgl",
    "outputId": "1b0e3661-c8eb-4bb9-c96d-a435c412709d"
   },
   "outputs": [
    {
     "name": "stdout",
     "output_type": "stream",
     "text": [
      "hello\n",
      "ex01\n",
      "intro\n"
     ]
    }
   ],
   "source": [
    "#158\n",
    "리스트 = ['hello.py', 'ex01.py', 'intro.hwp']\n",
    "for i in 리스트:\n",
    "    if i.endswith((\".py\", \".hwp\")) :\n",
    "        lst = i.split(\".\")\n",
    "        print(lst[0])"
   ]
  },
  {
   "cell_type": "code",
   "execution_count": 6,
   "metadata": {
    "colab": {
     "base_uri": "https://localhost:8080/"
    },
    "executionInfo": {
     "elapsed": 12,
     "status": "ok",
     "timestamp": 1743469770081,
     "user": {
      "displayName": "_biz catherine",
      "userId": "04404804885371645787"
     },
     "user_tz": -540
    },
    "id": "R0QntOuG4bMM",
    "outputId": "9f1595f2-59c3-4347-a481-abd214d5a294"
   },
   "outputs": [
    {
     "name": "stdout",
     "output_type": "stream",
     "text": [
      "intra.h\n",
      "define.h\n"
     ]
    }
   ],
   "source": [
    "# 159\n",
    "리스트 = ['intra.h', 'intra.c', 'define.h', 'run.py']\n",
    "\n",
    "for i in 리스트:\n",
    "    if i.endswith(\".h\"):\n",
    "        print(i)"
   ]
  },
  {
   "cell_type": "code",
   "execution_count": 7,
   "metadata": {
    "colab": {
     "base_uri": "https://localhost:8080/"
    },
    "executionInfo": {
     "elapsed": 10,
     "status": "ok",
     "timestamp": 1743470034021,
     "user": {
      "displayName": "_biz catherine",
      "userId": "04404804885371645787"
     },
     "user_tz": -540
    },
    "id": "-qjISo3J5cKb",
    "outputId": "623d5865-dd26-4ddf-e6ac-b7cf0be27cd0"
   },
   "outputs": [
    {
     "name": "stdout",
     "output_type": "stream",
     "text": [
      "intra.h\n",
      "intra.c\n",
      "define.h\n"
     ]
    }
   ],
   "source": [
    "#160\n",
    "리스트 = ['intra.h', 'intra.c', 'define.h', 'run.py']\n",
    "for i in 리스트:\n",
    "    if i.endswith((\".h\",\".c\")):\n",
    "        print(i)"
   ]
  },
  {
   "cell_type": "code",
   "execution_count": 8,
   "metadata": {
    "colab": {
     "base_uri": "https://localhost:8080/"
    },
    "executionInfo": {
     "elapsed": 4,
     "status": "ok",
     "timestamp": 1743470557980,
     "user": {
      "displayName": "_biz catherine",
      "userId": "04404804885371645787"
     },
     "user_tz": -540
    },
    "id": "oZmLy88j6vmL",
    "outputId": "de4a21d1-d624-4368-c18d-6b31664689cd"
   },
   "outputs": [
    {
     "name": "stdout",
     "output_type": "stream",
     "text": [
      "0\n",
      "1\n",
      "2\n",
      "3\n",
      "4\n",
      "5\n",
      "6\n",
      "7\n",
      "8\n",
      "9\n",
      "10\n",
      "11\n",
      "12\n",
      "13\n",
      "14\n",
      "15\n",
      "16\n",
      "17\n",
      "18\n",
      "19\n",
      "20\n",
      "21\n",
      "22\n",
      "23\n",
      "24\n",
      "25\n",
      "26\n",
      "27\n",
      "28\n",
      "29\n",
      "30\n",
      "31\n",
      "32\n",
      "33\n",
      "34\n",
      "35\n",
      "36\n",
      "37\n",
      "38\n",
      "39\n",
      "40\n",
      "41\n",
      "42\n",
      "43\n",
      "44\n",
      "45\n",
      "46\n",
      "47\n",
      "48\n",
      "49\n",
      "50\n",
      "51\n",
      "52\n",
      "53\n",
      "54\n",
      "55\n",
      "56\n",
      "57\n",
      "58\n",
      "59\n",
      "60\n",
      "61\n",
      "62\n",
      "63\n",
      "64\n",
      "65\n",
      "66\n",
      "67\n",
      "68\n",
      "69\n",
      "70\n",
      "71\n",
      "72\n",
      "73\n",
      "74\n",
      "75\n",
      "76\n",
      "77\n",
      "78\n",
      "79\n",
      "80\n",
      "81\n",
      "82\n",
      "83\n",
      "84\n",
      "85\n",
      "86\n",
      "87\n",
      "88\n",
      "89\n",
      "90\n",
      "91\n",
      "92\n",
      "93\n",
      "94\n",
      "95\n",
      "96\n",
      "97\n",
      "98\n",
      "99\n"
     ]
    }
   ],
   "source": [
    "#161\n",
    "for i in range(100):\n",
    "    print(i)"
   ]
  },
  {
   "cell_type": "code",
   "execution_count": 9,
   "metadata": {
    "colab": {
     "base_uri": "https://localhost:8080/"
    },
    "executionInfo": {
     "elapsed": 15,
     "status": "ok",
     "timestamp": 1743470706622,
     "user": {
      "displayName": "_biz catherine",
      "userId": "04404804885371645787"
     },
     "user_tz": -540
    },
    "id": "HIjAmIa78ZZb",
    "outputId": "aae8ad2b-23f9-433c-b12f-2346f389d163"
   },
   "outputs": [
    {
     "name": "stdout",
     "output_type": "stream",
     "text": [
      "2002\n",
      "2006\n",
      "2010\n",
      "2014\n",
      "2018\n",
      "2022\n",
      "2026\n",
      "2030\n",
      "2034\n",
      "2038\n",
      "2042\n",
      "2046\n",
      "2050\n"
     ]
    }
   ],
   "source": [
    "#162\n",
    "for i in range(2002,2051,4):\n",
    "    print(i)"
   ]
  },
  {
   "cell_type": "code",
   "execution_count": 18,
   "metadata": {
    "colab": {
     "base_uri": "https://localhost:8080/"
    },
    "executionInfo": {
     "elapsed": 3,
     "status": "ok",
     "timestamp": 1743473054006,
     "user": {
      "displayName": "_biz catherine",
      "userId": "04404804885371645787"
     },
     "user_tz": -540
    },
    "id": "QjZZvCCf88_C",
    "outputId": "74214266-a016-4f2e-e925-9d2267d1fe49"
   },
   "outputs": [
    {
     "name": "stdout",
     "output_type": "stream",
     "text": [
      "99\n",
      "98\n",
      "97\n",
      "96\n",
      "95\n",
      "94\n",
      "93\n",
      "92\n",
      "91\n",
      "90\n",
      "89\n",
      "88\n",
      "87\n",
      "86\n",
      "85\n",
      "84\n",
      "83\n",
      "82\n",
      "81\n",
      "80\n",
      "79\n",
      "78\n",
      "77\n",
      "76\n",
      "75\n",
      "74\n",
      "73\n",
      "72\n",
      "71\n",
      "70\n",
      "69\n",
      "68\n",
      "67\n",
      "66\n",
      "65\n",
      "64\n",
      "63\n",
      "62\n",
      "61\n",
      "60\n",
      "59\n",
      "58\n",
      "57\n",
      "56\n",
      "55\n",
      "54\n",
      "53\n",
      "52\n",
      "51\n",
      "50\n",
      "49\n",
      "48\n",
      "47\n",
      "46\n",
      "45\n",
      "44\n",
      "43\n",
      "42\n",
      "41\n",
      "40\n",
      "39\n",
      "38\n",
      "37\n",
      "36\n",
      "35\n",
      "34\n",
      "33\n",
      "32\n",
      "31\n",
      "30\n",
      "29\n",
      "28\n",
      "27\n",
      "26\n",
      "25\n",
      "24\n",
      "23\n",
      "22\n",
      "21\n",
      "20\n",
      "19\n",
      "18\n",
      "17\n",
      "16\n",
      "15\n",
      "14\n",
      "13\n",
      "12\n",
      "11\n",
      "10\n",
      "9\n",
      "8\n",
      "7\n",
      "6\n",
      "5\n",
      "4\n",
      "3\n",
      "2\n",
      "1\n",
      "0\n"
     ]
    }
   ],
   "source": [
    "#164\n",
    "for i in range(99,-1,-1):\n",
    "    print(i)\n"
   ]
  },
  {
   "cell_type": "code",
   "execution_count": 20,
   "metadata": {
    "colab": {
     "base_uri": "https://localhost:8080/"
    },
    "executionInfo": {
     "elapsed": 8,
     "status": "ok",
     "timestamp": 1743473118950,
     "user": {
      "displayName": "_biz catherine",
      "userId": "04404804885371645787"
     },
     "user_tz": -540
    },
    "id": "RUssn2h_F56x",
    "outputId": "2b1db0e9-87ab-4d50-91ee-1362f17c42dc"
   },
   "outputs": [
    {
     "name": "stdout",
     "output_type": "stream",
     "text": [
      "0.0\n",
      "0.1\n",
      "0.2\n",
      "0.3\n",
      "0.4\n",
      "0.5\n",
      "0.6\n",
      "0.7\n",
      "0.8\n",
      "0.9\n"
     ]
    }
   ],
   "source": [
    "#165\n",
    "for i in range(10):\n",
    "    print(i/10)"
   ]
  },
  {
   "cell_type": "code",
   "execution_count": 21,
   "metadata": {
    "colab": {
     "base_uri": "https://localhost:8080/"
    },
    "executionInfo": {
     "elapsed": 3,
     "status": "ok",
     "timestamp": 1743473183525,
     "user": {
      "displayName": "_biz catherine",
      "userId": "04404804885371645787"
     },
     "user_tz": -540
    },
    "id": "93YKP1ohGKdA",
    "outputId": "72d49086-15b6-445b-d921-aa41acf07cab"
   },
   "outputs": [
    {
     "name": "stdout",
     "output_type": "stream",
     "text": [
      "3*1 = 3\n",
      "3*2 = 6\n",
      "3*3 = 9\n",
      "3*4 = 12\n",
      "3*5 = 15\n",
      "3*6 = 18\n",
      "3*7 = 21\n",
      "3*8 = 24\n",
      "3*9 = 27\n"
     ]
    }
   ],
   "source": [
    "#166\n",
    "for i in range(1,10):\n",
    "    print(f\"3*{i} = {3*i}\")\n"
   ]
  },
  {
   "cell_type": "code",
   "execution_count": 22,
   "metadata": {
    "colab": {
     "base_uri": "https://localhost:8080/"
    },
    "executionInfo": {
     "elapsed": 10,
     "status": "ok",
     "timestamp": 1743473246954,
     "user": {
      "displayName": "_biz catherine",
      "userId": "04404804885371645787"
     },
     "user_tz": -540
    },
    "id": "MODfYSd-GbGI",
    "outputId": "7b0d9128-c534-4a98-c1f1-a58e0c373359"
   },
   "outputs": [
    {
     "name": "stdout",
     "output_type": "stream",
     "text": [
      "3*1 = 3\n",
      "3*3 = 9\n",
      "3*5 = 15\n",
      "3*7 = 21\n",
      "3*9 = 27\n"
     ]
    }
   ],
   "source": [
    "#167\n",
    "for i in range(1,10):\n",
    "    if i % 2 != 0 :\n",
    "        print(f\"3*{i} = {3*i}\")\n"
   ]
  },
  {
   "cell_type": "code",
   "execution_count": 5,
   "metadata": {
    "id": "8Aj38kUvGtEw"
   },
   "outputs": [
    {
     "name": "stdout",
     "output_type": "stream",
     "text": [
      "1\n",
      "2\n",
      "3\n",
      "4\n",
      "5\n",
      "6\n",
      "7\n",
      "8\n",
      "9\n",
      "10\n",
      "55\n"
     ]
    }
   ],
   "source": [
    "#168\n",
    "total = 0\n",
    "for i in range(1,11):\n",
    "    total  += i\n",
    "    print(i)\n",
    "    \n",
    "print(total)"
   ]
  },
  {
   "cell_type": "code",
   "execution_count": 7,
   "metadata": {},
   "outputs": [
    {
     "name": "stdout",
     "output_type": "stream",
     "text": [
      "25\n"
     ]
    }
   ],
   "source": [
    "# 169\n",
    "total = 0\n",
    "for i in range(1,11,2):\n",
    "    total += i\n",
    "print(total)"
   ]
  },
  {
   "cell_type": "code",
   "execution_count": 9,
   "metadata": {},
   "outputs": [
    {
     "name": "stdout",
     "output_type": "stream",
     "text": [
      "3628800\n"
     ]
    }
   ],
   "source": [
    "# 170\n",
    "total = 1\n",
    "for i in range(1,11):\n",
    "    total *= i\n",
    "\n",
    "print(total)"
   ]
  },
  {
   "cell_type": "code",
   "execution_count": 11,
   "metadata": {},
   "outputs": [
    {
     "name": "stdout",
     "output_type": "stream",
     "text": [
      "32100\n",
      "32150\n",
      "32000\n",
      "32500\n"
     ]
    }
   ],
   "source": [
    "#171\n",
    "price_list = [32100, 32150, 32000, 32500]\n",
    "for i in range(len(price_list)):\n",
    "    print(price_list[i])"
   ]
  },
  {
   "cell_type": "code",
   "execution_count": 13,
   "metadata": {},
   "outputs": [
    {
     "name": "stdout",
     "output_type": "stream",
     "text": [
      "0 32100\n",
      "1 32150\n",
      "2 32000\n",
      "3 32500\n"
     ]
    }
   ],
   "source": [
    "#172\n",
    "price_list = [32100, 32150, 32000, 32500]\n",
    "\n",
    "for i, data in enumerate(price_list):\n",
    "    print(i, data)"
   ]
  },
  {
   "cell_type": "code",
   "execution_count": 15,
   "metadata": {},
   "outputs": [
    {
     "name": "stdout",
     "output_type": "stream",
     "text": [
      "3 32100\n",
      "2 32150\n",
      "1 32000\n",
      "0 32500\n"
     ]
    }
   ],
   "source": [
    "#173\n",
    "price_list = [32100, 32150, 32000, 32500]\n",
    "\n",
    "for i, data in enumerate(price_list):\n",
    "    print((len(price_list)-1)-i, data)"
   ]
  },
  {
   "cell_type": "code",
   "execution_count": 17,
   "metadata": {},
   "outputs": [
    {
     "name": "stdout",
     "output_type": "stream",
     "text": [
      "100 32150\n",
      "110 32000\n",
      "120 32500\n"
     ]
    }
   ],
   "source": [
    "#174\n",
    "price_list = [32100, 32150, 32000, 32500]\n",
    "\n",
    "for i in range(1,4):\n",
    "    print(90+10*i, price_list[i])"
   ]
  },
  {
   "cell_type": "code",
   "execution_count": 20,
   "metadata": {},
   "outputs": [
    {
     "name": "stdout",
     "output_type": "stream",
     "text": [
      "가 나\n",
      "나 다\n",
      "다 라\n"
     ]
    }
   ],
   "source": [
    "#175\n",
    "my_list = [\"가\", \"나\", \"다\", \"라\"]\n",
    "\n",
    "for i in range(3):\n",
    "    print(my_list[i], my_list[i+1])"
   ]
  },
  {
   "cell_type": "code",
   "execution_count": 21,
   "metadata": {},
   "outputs": [
    {
     "name": "stdout",
     "output_type": "stream",
     "text": [
      "가 나 다\n",
      "나 다 라\n",
      "다 라 마\n"
     ]
    }
   ],
   "source": [
    "#176\n",
    "my_list = [\"가\", \"나\", \"다\", \"라\", \"마\"]\n",
    "\n",
    "for i in range(3):\n",
    "    print(my_list[i], my_list[i+1], my_list[i+2])\n"
   ]
  },
  {
   "cell_type": "code",
   "execution_count": 27,
   "metadata": {},
   "outputs": [
    {
     "name": "stdout",
     "output_type": "stream",
     "text": [
      "라 다\n",
      "다 나\n",
      "나 가\n",
      "가 라\n"
     ]
    }
   ],
   "source": [
    "#177\n",
    "my_list = [\"가\", \"나\", \"다\", \"라\"]\n",
    "for i in range(len(my_list)):\n",
    "    print(my_list[len(my_list)-1-i],my_list[len(my_list)-2-i])\n",
    "    "
   ]
  },
  {
   "cell_type": "code",
   "execution_count": 29,
   "metadata": {},
   "outputs": [
    {
     "name": "stdout",
     "output_type": "stream",
     "text": [
      "100\n",
      "200\n",
      "400\n"
     ]
    }
   ],
   "source": [
    "#178\n",
    "my_list = [100, 200, 400, 800]\n",
    "\n",
    "for i in range(len(my_list)-1):\n",
    "    print(my_list[i+1] - my_list[i])"
   ]
  },
  {
   "cell_type": "code",
   "execution_count": 30,
   "metadata": {},
   "outputs": [
    {
     "name": "stdout",
     "output_type": "stream",
     "text": [
      "233.33333333333334\n",
      "466.6666666666667\n",
      "733.3333333333334\n",
      "1033.3333333333333\n"
     ]
    }
   ],
   "source": [
    "#179\n",
    "my_list = [100, 200, 400, 800, 1000, 1300]\n",
    "total = 0\n",
    "for i in range(len(my_list)-2):\n",
    "    total = sum(my_list[i:i+3])\n",
    "    \n",
    "\n",
    "    print(total/3)"
   ]
  },
  {
   "cell_type": "code",
   "execution_count": 31,
   "metadata": {},
   "outputs": [
    {
     "name": "stdout",
     "output_type": "stream",
     "text": [
      "[50, 100, 30, 80, 0]\n"
     ]
    }
   ],
   "source": [
    "#180\n",
    "low_prices  = [100, 200, 400, 800, 1000]\n",
    "high_prices = [150, 300, 430, 880, 1000]\n",
    "volatility = []\n",
    "for i in range(len(low_prices)):\n",
    "    volatility.append(high_prices[i] - low_prices[i])\n",
    "\n",
    "print(volatility)\n"
   ]
  },
  {
   "cell_type": "code",
   "execution_count": 32,
   "metadata": {},
   "outputs": [],
   "source": [
    "#181\n",
    "lst = [['101호','102호'],\n",
    "       ['201호','202호'],\n",
    "       ['301호','302호']]"
   ]
  },
  {
   "cell_type": "code",
   "execution_count": 38,
   "metadata": {},
   "outputs": [
    {
     "name": "stdout",
     "output_type": "stream",
     "text": [
      "101 호\n",
      "102 호\n",
      "201 호\n",
      "202 호\n",
      "301 호\n",
      "302 호\n"
     ]
    }
   ],
   "source": [
    "#185\n",
    "apart = [ [101, 102], [201, 202], [301, 302] ]\n",
    "\n",
    "for i in apart:\n",
    "    for j in i:\n",
    "        print(f\"{j} 호\")"
   ]
  },
  {
   "cell_type": "code",
   "execution_count": 1,
   "metadata": {},
   "outputs": [
    {
     "name": "stdout",
     "output_type": "stream",
     "text": [
      "301 호\n",
      "302 호\n",
      "201 호\n",
      "202 호\n",
      "101 호\n",
      "102 호\n"
     ]
    }
   ],
   "source": [
    "#186\n",
    "apart = [ [101, 102], [201, 202], [301, 302] ]\n",
    "for i in reversed(apart):\n",
    "    for j in i:\n",
    "        print(f\"{j} 호\")"
   ]
  },
  {
   "cell_type": "code",
   "execution_count": 3,
   "metadata": {},
   "outputs": [
    {
     "name": "stdout",
     "output_type": "stream",
     "text": [
      "302 호\n",
      "301 호\n",
      "202 호\n",
      "201 호\n",
      "102 호\n",
      "101 호\n"
     ]
    }
   ],
   "source": [
    "#187\n",
    "apart = [ [101, 102], [201, 202], [301, 302] ]\n",
    "for i in reversed(apart):\n",
    "    for j in reversed(i):\n",
    "        print(f\"{j} 호\")"
   ]
  },
  {
   "cell_type": "code",
   "execution_count": 4,
   "metadata": {},
   "outputs": [
    {
     "name": "stdout",
     "output_type": "stream",
     "text": [
      "101 호\n",
      "-----\n",
      "102 호\n",
      "-----\n",
      "201 호\n",
      "-----\n",
      "202 호\n",
      "-----\n",
      "301 호\n",
      "-----\n",
      "302 호\n",
      "-----\n"
     ]
    }
   ],
   "source": [
    "#188\n",
    "apart = [ [101, 102], [201, 202], [301, 302] ]\n",
    "for i in apart:\n",
    "    for j in i:\n",
    "        print(f\"{j} 호\")\n",
    "        print(\"-\"*5)"
   ]
  },
  {
   "cell_type": "code",
   "execution_count": 5,
   "metadata": {},
   "outputs": [
    {
     "name": "stdout",
     "output_type": "stream",
     "text": [
      "101 호\n",
      "102 호\n",
      "-----\n",
      "201 호\n",
      "202 호\n",
      "-----\n",
      "301 호\n",
      "302 호\n",
      "-----\n"
     ]
    }
   ],
   "source": [
    "#189\n",
    "apart = [ [101, 102], [201, 202], [301, 302] ]\n",
    "for i in apart:\n",
    "    for j in i:\n",
    "        print(f\"{j} 호\")\n",
    "    print(\"-\"*5)"
   ]
  },
  {
   "cell_type": "code",
   "execution_count": 6,
   "metadata": {},
   "outputs": [
    {
     "name": "stdout",
     "output_type": "stream",
     "text": [
      "101 호\n",
      "102 호\n",
      "201 호\n",
      "202 호\n",
      "301 호\n",
      "302 호\n",
      "-----\n"
     ]
    }
   ],
   "source": [
    "# 190\n",
    "apart = [ [101, 102], [201, 202], [301, 302] ]\n",
    "for i in apart:\n",
    "    for j in i:\n",
    "        print(f\"{j} 호\")\n",
    "print(\"-\"*5)"
   ]
  },
  {
   "cell_type": "code",
   "execution_count": 7,
   "metadata": {},
   "outputs": [
    {
     "name": "stdout",
     "output_type": "stream",
     "text": [
      "2000.28\n",
      "3050.427\n",
      "2050.2870000000003\n",
      "1980.2772\n",
      "7501.05\n",
      "2050.2870000000003\n",
      "2050.2870000000003\n",
      "1980.2772\n",
      "15452.163\n",
      "15052.107\n",
      "15552.177\n",
      "14902.086000000001\n"
     ]
    }
   ],
   "source": [
    "#191\n",
    "data = [\n",
    "    [ 2000,  3050,  2050,  1980],\n",
    "    [ 7500,  2050,  2050,  1980],\n",
    "    [15450, 15050, 15550, 14900]\n",
    "]\n",
    "\n",
    "for i in data:\n",
    "    for j in i:\n",
    "        print(j*(1.00014))\n"
   ]
  },
  {
   "cell_type": "code",
   "execution_count": 8,
   "metadata": {},
   "outputs": [
    {
     "name": "stdout",
     "output_type": "stream",
     "text": [
      "2000.28\n",
      "3050.427\n",
      "2050.2870000000003\n",
      "1980.2772\n",
      "----\n",
      "7501.05\n",
      "2050.2870000000003\n",
      "2050.2870000000003\n",
      "1980.2772\n",
      "----\n",
      "15452.163\n",
      "15052.107\n",
      "15552.177\n",
      "14902.086000000001\n",
      "----\n"
     ]
    }
   ],
   "source": [
    "#192\n",
    "data = [\n",
    "    [ 2000,  3050,  2050,  1980],\n",
    "    [ 7500,  2050,  2050,  1980],\n",
    "    [15450, 15050, 15550, 14900]\n",
    "]\n",
    "\n",
    "for i in data:\n",
    "    for j in i:\n",
    "        print(j*(1.00014))\n",
    "    print(\"-\"*4) "
   ]
  },
  {
   "cell_type": "code",
   "execution_count": 9,
   "metadata": {},
   "outputs": [
    {
     "name": "stdout",
     "output_type": "stream",
     "text": [
      "[2000.28, 3050.427, 2050.2870000000003, 1980.2772, 7501.05, 2050.2870000000003, 2050.2870000000003, 1980.2772, 15452.163, 15052.107, 15552.177, 14902.086000000001]\n"
     ]
    }
   ],
   "source": [
    "#193\n",
    "data = [\n",
    "    [ 2000,  3050,  2050,  1980],\n",
    "    [ 7500,  2050,  2050,  1980],\n",
    "    [15450, 15050, 15550, 14900]\n",
    "]\n",
    "result = []\n",
    "\n",
    "for i in data:\n",
    "    for j in i:\n",
    "        result.append(j*1.00014)\n",
    "\n",
    "print(result)"
   ]
  },
  {
   "cell_type": "code",
   "execution_count": 10,
   "metadata": {},
   "outputs": [
    {
     "name": "stdout",
     "output_type": "stream",
     "text": [
      "[[2000.28, 3050.427, 2050.2870000000003, 1980.2772], [7501.05, 2050.2870000000003, 2050.2870000000003, 1980.2772], [15452.163, 15052.107, 15552.177, 14902.086000000001]]\n"
     ]
    }
   ],
   "source": [
    "#194\n",
    "data = [\n",
    "    [ 2000,  3050,  2050,  1980],\n",
    "    [ 7500,  2050,  2050,  1980],\n",
    "    [15450, 15050, 15550, 14900]\n",
    "]\n",
    "result = []\n",
    "\n",
    "for i in data:\n",
    "    lst = []\n",
    "    for j in i:\n",
    "        lst.append(j*(1.00014))\n",
    "    result.append(lst)\n",
    "\n",
    "print(result)"
   ]
  },
  {
   "cell_type": "code",
   "execution_count": 12,
   "metadata": {},
   "outputs": [
    {
     "name": "stdout",
     "output_type": "stream",
     "text": [
      "100\n",
      "190\n",
      "310\n"
     ]
    }
   ],
   "source": [
    "#195\n",
    "ohlc = [[\"open\", \"high\", \"low\", \"close\"],\n",
    "        [100, 110, 70, 100],\n",
    "        [200, 210, 180, 190],\n",
    "        [300, 310, 300, 310]]\n",
    "\n",
    "for i in ohlc[1:]:\n",
    "    print(i[3])\n"
   ]
  },
  {
   "cell_type": "code",
   "execution_count": 13,
   "metadata": {},
   "outputs": [
    {
     "name": "stdout",
     "output_type": "stream",
     "text": [
      "190\n",
      "310\n"
     ]
    }
   ],
   "source": [
    "#196\n",
    "ohlc = [[\"open\", \"high\", \"low\", \"close\"],\n",
    "        [100, 110, 70, 100],\n",
    "        [200, 210, 180, 190],\n",
    "        [300, 310, 300, 310]]\n",
    "\n",
    "for col in ohlc[1:]:\n",
    "    if col[3] > 150 :\n",
    "        print(col[3])"
   ]
  },
  {
   "cell_type": "code",
   "execution_count": 14,
   "metadata": {},
   "outputs": [
    {
     "name": "stdout",
     "output_type": "stream",
     "text": [
      "100\n",
      "310\n"
     ]
    }
   ],
   "source": [
    "#197\n",
    "ohlc = [[\"open\", \"high\", \"low\", \"close\"],\n",
    "        [100, 110, 70, 100],\n",
    "        [200, 210, 180, 190],\n",
    "        [300, 310, 300, 310]]\n",
    "\n",
    "for col in ohlc[1:]:\n",
    "    if col[0] <= col[3]:\n",
    "        print(col[3])"
   ]
  },
  {
   "cell_type": "code",
   "execution_count": 15,
   "metadata": {},
   "outputs": [
    {
     "name": "stdout",
     "output_type": "stream",
     "text": [
      "[40, 30, 10]\n"
     ]
    }
   ],
   "source": [
    "#198\n",
    "ohlc = [[\"open\", \"high\", \"low\", \"close\"],\n",
    "        [100, 110, 70, 100],\n",
    "        [200, 210, 180, 190],\n",
    "        [300, 310, 300, 310]]\n",
    "\n",
    "volatility = []\n",
    "\n",
    "for col in ohlc[1:]:\n",
    "    volatility.append(col[1]-col[2])\n",
    "\n",
    "print(volatility)"
   ]
  },
  {
   "cell_type": "code",
   "execution_count": 16,
   "metadata": {},
   "outputs": [
    {
     "name": "stdout",
     "output_type": "stream",
     "text": [
      "10\n"
     ]
    }
   ],
   "source": [
    "#199\n",
    "ohlc = [[\"open\", \"high\", \"low\", \"close\"],\n",
    "        [100, 110, 70, 100],\n",
    "        [200, 210, 180, 190],\n",
    "        [300, 310, 300, 310]]\n",
    "\n",
    "for i in ohlc[1:]:\n",
    "    if i[3] > i[0]:\n",
    "        print(i[1]-i[2])"
   ]
  },
  {
   "cell_type": "code",
   "execution_count": 19,
   "metadata": {},
   "outputs": [
    {
     "name": "stdout",
     "output_type": "stream",
     "text": [
      "0\n"
     ]
    }
   ],
   "source": [
    "#200\n",
    "ohlc = [[\"open\", \"high\", \"low\", \"close\"],\n",
    "        [100, 110, 70, 100],\n",
    "        [200, 210, 180, 190],\n",
    "        [300, 310, 300, 310]]\n",
    "total = 0\n",
    "for i in ohlc[1:]:\n",
    "    total += i[3]-i[0]\n",
    "\n",
    "print(total)\n",
    "    "
   ]
  },
  {
   "cell_type": "code",
   "execution_count": null,
   "metadata": {},
   "outputs": [
    {
     "name": "stdout",
     "output_type": "stream",
     "text": [
      "비트코인\n"
     ]
    }
   ],
   "source": [
    "#201,202\n",
    "def print_coin():\n",
    "    print(\"비트코인\")\n",
    "\n",
    "print_coin()"
   ]
  },
  {
   "cell_type": "code",
   "execution_count": 21,
   "metadata": {},
   "outputs": [
    {
     "name": "stdout",
     "output_type": "stream",
     "text": [
      "비트코인\n",
      "비트코인\n",
      "비트코인\n",
      "비트코인\n",
      "비트코인\n",
      "비트코인\n",
      "비트코인\n",
      "비트코인\n",
      "비트코인\n",
      "비트코인\n",
      "비트코인\n",
      "비트코인\n",
      "비트코인\n",
      "비트코인\n",
      "비트코인\n",
      "비트코인\n",
      "비트코인\n",
      "비트코인\n",
      "비트코인\n",
      "비트코인\n",
      "비트코인\n",
      "비트코인\n",
      "비트코인\n",
      "비트코인\n",
      "비트코인\n",
      "비트코인\n",
      "비트코인\n",
      "비트코인\n",
      "비트코인\n",
      "비트코인\n",
      "비트코인\n",
      "비트코인\n",
      "비트코인\n",
      "비트코인\n",
      "비트코인\n",
      "비트코인\n",
      "비트코인\n",
      "비트코인\n",
      "비트코인\n",
      "비트코인\n",
      "비트코인\n",
      "비트코인\n",
      "비트코인\n",
      "비트코인\n",
      "비트코인\n",
      "비트코인\n",
      "비트코인\n",
      "비트코인\n",
      "비트코인\n",
      "비트코인\n",
      "비트코인\n",
      "비트코인\n",
      "비트코인\n",
      "비트코인\n",
      "비트코인\n",
      "비트코인\n",
      "비트코인\n",
      "비트코인\n",
      "비트코인\n",
      "비트코인\n",
      "비트코인\n",
      "비트코인\n",
      "비트코인\n",
      "비트코인\n",
      "비트코인\n",
      "비트코인\n",
      "비트코인\n",
      "비트코인\n",
      "비트코인\n",
      "비트코인\n",
      "비트코인\n",
      "비트코인\n",
      "비트코인\n",
      "비트코인\n",
      "비트코인\n",
      "비트코인\n",
      "비트코인\n",
      "비트코인\n",
      "비트코인\n",
      "비트코인\n",
      "비트코인\n",
      "비트코인\n",
      "비트코인\n",
      "비트코인\n",
      "비트코인\n",
      "비트코인\n",
      "비트코인\n",
      "비트코인\n",
      "비트코인\n",
      "비트코인\n",
      "비트코인\n",
      "비트코인\n",
      "비트코인\n",
      "비트코인\n",
      "비트코인\n",
      "비트코인\n",
      "비트코인\n",
      "비트코인\n",
      "비트코인\n",
      "비트코인\n"
     ]
    }
   ],
   "source": [
    "#203\n",
    "def print_coin():\n",
    "    print(\"비트코인\")\n",
    "\n",
    "for i in range(100):\n",
    "    print_coin()"
   ]
  },
  {
   "cell_type": "code",
   "execution_count": 22,
   "metadata": {},
   "outputs": [
    {
     "name": "stdout",
     "output_type": "stream",
     "text": [
      "비트코인\n",
      "비트코인\n",
      "비트코인\n",
      "비트코인\n",
      "비트코인\n",
      "비트코인\n",
      "비트코인\n",
      "비트코인\n",
      "비트코인\n",
      "비트코인\n",
      "비트코인\n",
      "비트코인\n",
      "비트코인\n",
      "비트코인\n",
      "비트코인\n",
      "비트코인\n",
      "비트코인\n",
      "비트코인\n",
      "비트코인\n",
      "비트코인\n",
      "비트코인\n",
      "비트코인\n",
      "비트코인\n",
      "비트코인\n",
      "비트코인\n",
      "비트코인\n",
      "비트코인\n",
      "비트코인\n",
      "비트코인\n",
      "비트코인\n",
      "비트코인\n",
      "비트코인\n",
      "비트코인\n",
      "비트코인\n",
      "비트코인\n",
      "비트코인\n",
      "비트코인\n",
      "비트코인\n",
      "비트코인\n",
      "비트코인\n",
      "비트코인\n",
      "비트코인\n",
      "비트코인\n",
      "비트코인\n",
      "비트코인\n",
      "비트코인\n",
      "비트코인\n",
      "비트코인\n",
      "비트코인\n",
      "비트코인\n",
      "비트코인\n",
      "비트코인\n",
      "비트코인\n",
      "비트코인\n",
      "비트코인\n",
      "비트코인\n",
      "비트코인\n",
      "비트코인\n",
      "비트코인\n",
      "비트코인\n",
      "비트코인\n",
      "비트코인\n",
      "비트코인\n",
      "비트코인\n",
      "비트코인\n",
      "비트코인\n",
      "비트코인\n",
      "비트코인\n",
      "비트코인\n",
      "비트코인\n",
      "비트코인\n",
      "비트코인\n",
      "비트코인\n",
      "비트코인\n",
      "비트코인\n",
      "비트코인\n",
      "비트코인\n",
      "비트코인\n",
      "비트코인\n",
      "비트코인\n",
      "비트코인\n",
      "비트코인\n",
      "비트코인\n",
      "비트코인\n",
      "비트코인\n",
      "비트코인\n",
      "비트코인\n",
      "비트코인\n",
      "비트코인\n",
      "비트코인\n",
      "비트코인\n",
      "비트코인\n",
      "비트코인\n",
      "비트코인\n",
      "비트코인\n",
      "비트코인\n",
      "비트코인\n",
      "비트코인\n",
      "비트코인\n",
      "비트코인\n"
     ]
    }
   ],
   "source": [
    "#204\n",
    "def print_coins():\n",
    "    for i in range(100):\n",
    "        print(\"비트코인\")\n",
    "\n",
    "print_coins()"
   ]
  },
  {
   "cell_type": "code",
   "execution_count": 23,
   "metadata": {},
   "outputs": [
    {
     "name": "stdout",
     "output_type": "stream",
     "text": [
      "안녕\n",
      "Hi\n"
     ]
    }
   ],
   "source": [
    "#211\n",
    "def function(string):\n",
    "    print(string)\n",
    "\n",
    "function(\"안녕\")\n",
    "function(\"Hi\")"
   ]
  },
  {
   "cell_type": "code",
   "execution_count": 25,
   "metadata": {},
   "outputs": [
    {
     "name": "stdout",
     "output_type": "stream",
     "text": [
      "안녕!:D\n"
     ]
    }
   ],
   "source": [
    "#215\n",
    "def print_with_smile(string):\n",
    "    print(string + \":D\")\n",
    "\n",
    "s = input(\"input message : \")\n",
    "print_with_smile(s)\n"
   ]
  },
  {
   "cell_type": "code",
   "execution_count": 26,
   "metadata": {},
   "outputs": [
    {
     "name": "stdout",
     "output_type": "stream",
     "text": [
      "13000.0\n"
     ]
    }
   ],
   "source": [
    "#217\n",
    "\n",
    "def print_upper_price(price):\n",
    "    print(price*1.3)\n",
    "\n",
    "price = float(input(\"current price : \"))\n",
    "print_upper_price(price)"
   ]
  },
  {
   "cell_type": "code",
   "execution_count": 27,
   "metadata": {},
   "outputs": [
    {
     "name": "stdout",
     "output_type": "stream",
     "text": [
      "30.0\n"
     ]
    }
   ],
   "source": [
    "#218\n",
    "\n",
    "def print_sum(a,b):\n",
    "    print(a+b)\n",
    "    \n",
    "num1= float(input(\"num1 : \"))\n",
    "num2 = float(input(\"num2 : \"))\n",
    "print_sum(num1,num2)"
   ]
  },
  {
   "cell_type": "code",
   "execution_count": null,
   "metadata": {},
   "outputs": [
    {
     "name": "stdout",
     "output_type": "stream",
     "text": [
      "3 + 4 = 7\n",
      "3 - 4 = -1\n",
      "3 * 4 = 12\n",
      "3 / 4 = 0.75\n"
     ]
    }
   ],
   "source": [
    "#219\n",
    "def print_arthmetic_operation(a,b):\n",
    "    print(f\"{a} + {b} = {a+b}\")\n",
    "    print(f\"{a} - {b} = {a-b}\")\n",
    "    print(f\"{a} * {b} = {a*b}\")\n",
    "    print(f\"{a} / {b} = {a/b}\")\n",
    "\n",
    "print_arthmetic_operation(3,4)"
   ]
  },
  {
   "cell_type": "code",
   "execution_count": 32,
   "metadata": {},
   "outputs": [
    {
     "name": "stdout",
     "output_type": "stream",
     "text": [
      "3\n"
     ]
    }
   ],
   "source": [
    "#220\n",
    "\n",
    "def print_max(a,b,c):\n",
    "    lst = []\n",
    "    for i in (a,b,c):\n",
    "        lst.append(i)\n",
    "    print(max(lst))\n",
    "\n",
    "print_max(1,2,3)"
   ]
  },
  {
   "cell_type": "code",
   "execution_count": 34,
   "metadata": {},
   "outputs": [
    {
     "name": "stdout",
     "output_type": "stream",
     "text": [
      "nohtyp\n"
     ]
    }
   ],
   "source": [
    "#221\n",
    "def print_reverse(string):\n",
    "    print(string[::-1])\n",
    "\n",
    "print_reverse(\"python\")"
   ]
  },
  {
   "cell_type": "code",
   "execution_count": 36,
   "metadata": {},
   "outputs": [
    {
     "name": "stdout",
     "output_type": "stream",
     "text": [
      "이름\n",
      "나이\n",
      "성별\n"
     ]
    }
   ],
   "source": [
    "#224\n",
    "def print_keys (dictionary):\n",
    "    for keys in dictionary.keys():\n",
    "        print(keys)\n",
    "\n",
    "print_keys({\"이름\":\"김말똥\", \"나이\":30, \"성별\":0})"
   ]
  },
  {
   "cell_type": "code",
   "execution_count": 37,
   "metadata": {},
   "outputs": [
    {
     "name": "stdout",
     "output_type": "stream",
     "text": [
      "[100, 130, 100, 100]\n"
     ]
    }
   ],
   "source": [
    "#225\n",
    "my_dict = {\"10/26\" : [100, 130, 100, 100],\n",
    "           \"10/27\" : [10, 12, 10, 11]}\n",
    "\n",
    "\n",
    "def print_value_by_key  (my_dict, key):\n",
    "    if key in my_dict.keys():\n",
    "        print(my_dict[key])\n",
    "\n",
    "\n",
    "print_value_by_key  (my_dict, \"10/26\")\n"
   ]
  },
  {
   "cell_type": "code",
   "execution_count": 39,
   "metadata": {},
   "outputs": [
    {
     "name": "stdout",
     "output_type": "stream",
     "text": [
      "아이엠어보\n",
      "이유알어걸\n"
     ]
    }
   ],
   "source": [
    "#226\n",
    "def print_5xn(string):\n",
    "    print(string[:5])\n",
    "    print(string[5:])\n",
    "\n",
    "print_5xn(\"아이엠어보이유알어걸\")\n"
   ]
  },
  {
   "cell_type": "code",
   "execution_count": 42,
   "metadata": {},
   "outputs": [
    {
     "name": "stdout",
     "output_type": "stream",
     "text": [
      "아이엠\n",
      "어보이\n",
      "유알어\n",
      "걸\n"
     ]
    }
   ],
   "source": [
    "#227\n",
    "def print_mxn(string,num):\n",
    "    for i in range(0,len(string),num):\n",
    "        print(string[i:i+num])\n",
    "    \n",
    "print_mxn(\"아이엠어보이유알어걸\", 3)\n"
   ]
  },
  {
   "cell_type": "code",
   "execution_count": 43,
   "metadata": {},
   "outputs": [
    {
     "name": "stdout",
     "output_type": "stream",
     "text": [
      "1000000\n"
     ]
    }
   ],
   "source": [
    "#228\n",
    "def calc_monthly_salary(annual_salary):\n",
    "    month = float(annual_salary)/12\n",
    "    print(int(month))\n",
    "\n",
    "calc_monthly_salary(12000000)\n"
   ]
  },
  {
   "cell_type": "code",
   "execution_count": 49,
   "metadata": {},
   "outputs": [
    {
     "data": {
      "text/plain": [
       "['a', 'b', 'c', 'd']"
      ]
     },
     "execution_count": 49,
     "metadata": {},
     "output_type": "execute_result"
    }
   ],
   "source": [
    "#233\n",
    "def make_list(string):\n",
    "    return list(string)\n",
    "\n",
    "make_list(\"abcd\")"
   ]
  },
  {
   "cell_type": "code",
   "execution_count": 50,
   "metadata": {},
   "outputs": [
    {
     "data": {
      "text/plain": [
       "[4, 6, 8]"
      ]
     },
     "execution_count": 50,
     "metadata": {},
     "output_type": "execute_result"
    }
   ],
   "source": [
    "# 234\n",
    "def pickup_even(lst):\n",
    "    l = []\n",
    "    for i in lst:\n",
    "        if i % 2 == 0:\n",
    "            l.append(i)\n",
    "    \n",
    "    return l\n",
    "            \n",
    "pickup_even([3, 4, 5, 6, 7, 8])\n"
   ]
  },
  {
   "cell_type": "code",
   "execution_count": 51,
   "metadata": {},
   "outputs": [
    {
     "data": {
      "text/plain": [
       "1234567"
      ]
     },
     "execution_count": 51,
     "metadata": {},
     "output_type": "execute_result"
    }
   ],
   "source": [
    "#235\n",
    "def convert_int(num):\n",
    "    num = int(num.replace(\",\",\"\"))\n",
    "    return num\n",
    "\n",
    "convert_int(\"1,234,567\")\n"
   ]
  },
  {
   "cell_type": "code",
   "execution_count": 53,
   "metadata": {},
   "outputs": [
    {
     "name": "stdout",
     "output_type": "stream",
     "text": [
      "2025-04-04 00:56:43.227318\n"
     ]
    }
   ],
   "source": [
    "#241\n",
    "import datetime\n",
    "\n",
    "now = datetime.datetime.now()\n",
    "print(now)"
   ]
  },
  {
   "cell_type": "code",
   "execution_count": 54,
   "metadata": {},
   "outputs": [
    {
     "name": "stdout",
     "output_type": "stream",
     "text": [
      "2025-04-04 00:57:32.297217 <class 'datetime.datetime'>\n"
     ]
    }
   ],
   "source": [
    "#242\n",
    "import datetime\n",
    "now = datetime.datetime.now()\n",
    "print(now,type(now))"
   ]
  },
  {
   "cell_type": "code",
   "execution_count": 55,
   "metadata": {},
   "outputs": [
    {
     "name": "stdout",
     "output_type": "stream",
     "text": [
      "2025-03-30 00:59:34.044305\n",
      "2025-03-31 00:59:34.044305\n",
      "2025-04-01 00:59:34.044305\n",
      "2025-04-02 00:59:34.044305\n",
      "2025-04-03 00:59:34.044305\n"
     ]
    }
   ],
   "source": [
    "#243\n",
    "import datetime\n",
    "\n",
    "now = datetime.datetime.now()\n",
    "\n",
    "for day in range(5, 0, -1):\n",
    "    delta = datetime.timedelta(days = day)\n",
    "    date = now - delta\n",
    "    print(date)"
   ]
  },
  {
   "cell_type": "code",
   "execution_count": 56,
   "metadata": {},
   "outputs": [
    {
     "name": "stdout",
     "output_type": "stream",
     "text": [
      "01 : 01 : 16\n"
     ]
    }
   ],
   "source": [
    "#244\n",
    "import datetime\n",
    "\n",
    "now = datetime.datetime.now()\n",
    "print(now.strftime(\"%H : %M : %S\"))"
   ]
  },
  {
   "cell_type": "code",
   "execution_count": null,
   "metadata": {},
   "outputs": [
    {
     "name": "stdout",
     "output_type": "stream",
     "text": [
      "2020-05-04 00:00:00 <class 'datetime.datetime'>\n"
     ]
    }
   ],
   "source": [
    "# 245\n",
    "import datetime\n",
    "\n",
    "day = \"2020-05-04\"\n",
    "ret = datetime.datetime.strptime(day, \"%Y-%m-%d\")\n",
    "print(ret, type(ret))\n"
   ]
  },
  {
   "cell_type": "code",
   "execution_count": null,
   "metadata": {},
   "outputs": [],
   "source": []
  }
 ],
 "metadata": {
  "colab": {
   "authorship_tag": "ABX9TyPZgV0cRbF5vwS67rd78ztl",
   "collapsed_sections": [
    "_QVGGOa9h-Bj",
    "sj7Go_1oiMVr",
    "miFNXtDMWrkf",
    "1Zm9h1GHYUvx",
    "O3dc-QytbYtT",
    "nNQWyb2RnzsB",
    "GWCSlSEbFehB",
    "ySLvq9pqMUoY",
    "OqhUA29GPZGm",
    "UfhBmi2ubEZa"
   ],
   "provenance": [],
   "toc_visible": true
  },
  "kernelspec": {
   "display_name": "Python 3",
   "name": "python3"
  },
  "language_info": {
   "codemirror_mode": {
    "name": "ipython",
    "version": 3
   },
   "file_extension": ".py",
   "mimetype": "text/x-python",
   "name": "python",
   "nbconvert_exporter": "python",
   "pygments_lexer": "ipython3",
   "version": "3.13.2"
  }
 },
 "nbformat": 4,
 "nbformat_minor": 0
}
