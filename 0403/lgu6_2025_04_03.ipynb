{
 "cells": [
  {
   "cell_type": "code",
   "execution_count": 1,
   "id": "30344a6c-ed49-461d-baa0-085166e212b7",
   "metadata": {},
   "outputs": [
    {
     "data": {
      "text/html": [
       "<div>\n",
       "<style scoped>\n",
       "    .dataframe tbody tr th:only-of-type {\n",
       "        vertical-align: middle;\n",
       "    }\n",
       "\n",
       "    .dataframe tbody tr th {\n",
       "        vertical-align: top;\n",
       "    }\n",
       "\n",
       "    .dataframe thead th {\n",
       "        text-align: right;\n",
       "    }\n",
       "</style>\n",
       "<table border=\"1\" class=\"dataframe\">\n",
       "  <thead>\n",
       "    <tr style=\"text-align: right;\">\n",
       "      <th></th>\n",
       "      <th>sepal_length</th>\n",
       "      <th>species</th>\n",
       "    </tr>\n",
       "  </thead>\n",
       "  <tbody>\n",
       "    <tr>\n",
       "      <th>0</th>\n",
       "      <td>5.1</td>\n",
       "      <td>setosa</td>\n",
       "    </tr>\n",
       "  </tbody>\n",
       "</table>\n",
       "</div>"
      ],
      "text/plain": [
       "   sepal_length species\n",
       "0           5.1  setosa"
      ]
     },
     "execution_count": 1,
     "metadata": {},
     "output_type": "execute_result"
    }
   ],
   "source": [
    "import seaborn as sns \n",
    "import pandas as pd \n",
    "\n",
    "iris = sns.load_dataset(\"iris\")\n",
    "result = iris.loc[:, ['sepal_length', 'species']]\n",
    "result.head(1)"
   ]
  },
  {
   "cell_type": "code",
   "execution_count": 5,
   "id": "752a9bae-f8d5-444c-a58c-854bec63f026",
   "metadata": {},
   "outputs": [],
   "source": [
    "result.to_excel(\"dataset/iris_excel_file.xlsx\",\n",
    "             sheet_name='Sheet_name_1',\n",
    "             index=False) "
   ]
  },
  {
   "cell_type": "code",
   "execution_count": null,
   "id": "e19bf381-3472-451a-9eea-752831ed67a7",
   "metadata": {},
   "outputs": [],
   "source": [
    "#Group by 연산\n",
    "- 집계함수 같이 활용\n",
    "- 분석의 목적 : 그룹별로 비교하고 싶을 때 사용"
   ]
  }
 ],
 "metadata": {
  "kernelspec": {
   "display_name": "Python 3 (ipykernel)",
   "language": "python",
   "name": "python3"
  },
  "language_info": {
   "codemirror_mode": {
    "name": "ipython",
    "version": 3
   },
   "file_extension": ".py",
   "mimetype": "text/x-python",
   "name": "python",
   "nbconvert_exporter": "python",
   "pygments_lexer": "ipython3",
   "version": "3.13.2"
  }
 },
 "nbformat": 4,
 "nbformat_minor": 5
}
