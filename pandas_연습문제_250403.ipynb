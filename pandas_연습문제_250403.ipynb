{
 "cells": [
  {
   "cell_type": "markdown",
   "metadata": {},
   "source": [
    "# Tips 데이터셋 연습문제\n",
    "- 다음 문제들을 풀어보세요. 각 문제는 tips 데이터셋을 사용합니다."
   ]
  },
  {
   "cell_type": "code",
   "execution_count": 7,
   "metadata": {},
   "outputs": [
    {
     "ename": "ModuleNotFoundError",
     "evalue": "No module named 'seaborn'",
     "output_type": "error",
     "traceback": [
      "\u001b[31m---------------------------------------------------------------------------\u001b[39m",
      "\u001b[31mModuleNotFoundError\u001b[39m                       Traceback (most recent call last)",
      "\u001b[36mCell\u001b[39m\u001b[36m \u001b[39m\u001b[32mIn[7]\u001b[39m\u001b[32m, line 2\u001b[39m\n\u001b[32m      1\u001b[39m \u001b[38;5;28;01mimport\u001b[39;00m\u001b[38;5;250m \u001b[39m\u001b[34;01mpandas\u001b[39;00m\u001b[38;5;250m \u001b[39m\u001b[38;5;28;01mas\u001b[39;00m\u001b[38;5;250m \u001b[39m\u001b[34;01mpd\u001b[39;00m\n\u001b[32m----> \u001b[39m\u001b[32m2\u001b[39m \u001b[38;5;28;01mimport\u001b[39;00m\u001b[38;5;250m \u001b[39m\u001b[34;01mseaborn\u001b[39;00m\u001b[38;5;250m \u001b[39m\u001b[38;5;28;01mas\u001b[39;00m\u001b[38;5;250m \u001b[39m\u001b[34;01msns\u001b[39;00m\n\u001b[32m      4\u001b[39m \u001b[38;5;66;03m# tips 데이터셋 불러오기 (seavorn의 내장 데이터셋인 tips 데이터셋 불러오기)\u001b[39;00m\n\u001b[32m      5\u001b[39m tips = sns.load_dataset(\u001b[33m'\u001b[39m\u001b[33mtips\u001b[39m\u001b[33m'\u001b[39m) \u001b[38;5;66;03m#laod_dataset('')\u001b[39;00m\n",
      "\u001b[31mModuleNotFoundError\u001b[39m: No module named 'seaborn'"
     ]
    }
   ],
   "source": [
    "import pandas as pd\n",
    "import seaborn as sns\n",
    "\n",
    "# tips 데이터셋 불러오기 (seavorn의 내장 데이터셋인 tips 데이터셋 불러오기)\n",
    "tips = sns.load_dataset('tips') #laod_dataset('')\n",
    "print(\"데이터 미리보기:\")\n",
    "print(tips.head()) # .head() : 상위 5개 행 미리 보기\n",
    "print(\"\\n\")"
   ]
  },
  {
   "cell_type": "markdown",
   "metadata": {},
   "source": [
    "## 문제 1: 기본 통계\n",
    "tips 데이터셋의 기본 통계 정보를 출력하세요. (describe() 메서드 사용)"
   ]
  },
  {
   "cell_type": "code",
   "execution_count": null,
   "metadata": {},
   "outputs": [
    {
     "name": "stdout",
     "output_type": "stream",
     "text": [
      "       total_bill         tip        size\n",
      "count  244.000000  244.000000  244.000000\n",
      "mean    19.785943    2.998279    2.569672\n",
      "std      8.902412    1.383638    0.951100\n",
      "min      3.070000    1.000000    1.000000\n",
      "25%     13.347500    2.000000    2.000000\n",
      "50%     17.795000    2.900000    2.000000\n",
      "75%     24.127500    3.562500    3.000000\n",
      "max     50.810000   10.000000    6.000000\n",
      "\n",
      "\n"
     ]
    }
   ],
   "source": [
    "# 코드 describe() : 기본 통계 정보 출력하고 싶을 때\n",
    "tips.describe()"
   ]
  },
  {
   "cell_type": "markdown",
   "metadata": {},
   "source": []
  },
  {
   "cell_type": "markdown",
   "metadata": {},
   "source": [
    "## 문제 2: 요일별 주문 수\n",
    "요일(day)별 주문 수를 계산하고, 가장 많은 주문이 들어온 요일을 찾으세요."
   ]
  },
  {
   "cell_type": "code",
   "execution_count": null,
   "metadata": {},
   "outputs": [
    {
     "name": "stdout",
     "output_type": "stream",
     "text": [
      "day\n",
      "Sat     87\n",
      "Sun     76\n",
      "Thur    62\n",
      "Fri     19\n",
      "Name: count, dtype: int64\n",
      "\n",
      "\n"
     ]
    }
   ],
   "source": [
    "# 코드 value_counts()는 해당 칼럼에 있느 각 값의 개수를 세어준다.\n",
    "tips['day'].value_counts().index[0]"
   ]
  },
  {
   "cell_type": "markdown",
   "metadata": {},
   "source": [
    "## 문제 3: 그룹 분석\n",
    "인원(size)이 4명 이상인 그룹의 평균 총액과 평균 팁을 계산하세요."
   ]
  },
  {
   "cell_type": "code",
   "execution_count": null,
   "metadata": {},
   "outputs": [
    {
     "name": "stdout",
     "output_type": "stream",
     "text": [
      "total_bill    29.312174\n",
      "tip            4.218478\n",
      "dtype: float64\n",
      "\n",
      "\n"
     ]
    }
   ],
   "source": [
    "# 코드\n",
    "size4_groups = tips.loc[tips['size'] >= 4, :]\n",
    "size4_groups.loc[ : , ['total_bill' 'tip']].mean()"
   ]
  },
  {
   "cell_type": "markdown",
   "metadata": {},
   "source": [
    "## 문제 4: 고액 주문 분석\n",
    "- 총액(total_bill)이 50달러 이상인 주문들의 평균 팁과 팁 비율을 계산하세요."
   ]
  },
  {
   "cell_type": "code",
   "execution_count": null,
   "metadata": {},
   "outputs": [
    {
     "ename": "NameError",
     "evalue": "name 'tip' is not defined",
     "output_type": "error",
     "traceback": [
      "\u001b[31m---------------------------------------------------------------------------\u001b[39m",
      "\u001b[31mNameError\u001b[39m                                 Traceback (most recent call last)",
      "\u001b[36mCell\u001b[39m\u001b[36m \u001b[39m\u001b[32mIn[3]\u001b[39m\u001b[32m, line 2\u001b[39m\n\u001b[32m      1\u001b[39m \u001b[38;5;66;03m# 코드 tips.loc[:,:]\u001b[39;00m\n\u001b[32m----> \u001b[39m\u001b[32m2\u001b[39m high_total = \u001b[43mtip\u001b[49m.loc[:,:]\n\u001b[32m      3\u001b[39m hith_total\n\u001b[32m      5\u001b[39m \u001b[38;5;66;03m# high_total = tips.loc[tips['total_bill'] > = 50]\u001b[39;00m\n\u001b[32m      6\u001b[39m \n\u001b[32m      7\u001b[39m \u001b[38;5;66;03m# # 평균 팁\u001b[39;00m\n\u001b[32m   (...)\u001b[39m\u001b[32m     13\u001b[39m \u001b[38;5;66;03m# print(\"고액 주문 평균 팁:\", avg_tip)\u001b[39;00m\n\u001b[32m     14\u001b[39m \u001b[38;5;66;03m# print(\"고액 주문 평균 팁 비율:\", avg_tip_ratio)\u001b[39;00m\n",
      "\u001b[31mNameError\u001b[39m: name 'tip' is not defined"
     ]
    }
   ],
   "source": [
    "# 코드 tips.loc[:,:]\n",
    "high_total = tips.loc[:,:]\n",
    "hith_total\n",
    "\n",
    "# high_total = tips.loc[tips['total_bill'] > = 50]\n",
    "\n",
    "# # 평균 팁\n",
    "# avg_tip = high_total['tip'].mean()\n",
    "\n",
    "# # 평균 팁 비율\n",
    "# avg_tip_ratio = (high_total.loc['tip'] / high_total.loc['total_bill']).mean()\n",
    "\n",
    "# print(\"고액 주문 평균 팁:\", avg_tip)\n",
    "# print(\"고액 주문 평균 팁 비율:\", avg_tip_ratio)\n"
   ]
  },
  {
   "cell_type": "code",
   "execution_count": null,
   "metadata": {},
   "outputs": [],
   "source": [
    "# 고액 주문 평균 팁: 10.0\n",
    "# 고액 주문 평균 팁 비율: 0.19681165124975397"
   ]
  },
  {
   "cell_type": "markdown",
   "metadata": {},
   "source": [
    "## 문제 5\n",
    "- numpy + pandas 데이터프레임\n",
    "- 이름, 키와 몸무게 데이터셋 5개 생성\n",
    "- numpy로 bmi 함수 구현\n",
    "- pandas 데이터프레임에 열 추가 (bmi)"
   ]
  },
  {
   "cell_type": "code",
   "execution_count": null,
   "metadata": {},
   "outputs": [
    {
     "data": {
      "text/html": [
       "<div>\n",
       "<style scoped>\n",
       "    .dataframe tbody tr th:only-of-type {\n",
       "        vertical-align: middle;\n",
       "    }\n",
       "\n",
       "    .dataframe tbody tr th {\n",
       "        vertical-align: top;\n",
       "    }\n",
       "\n",
       "    .dataframe thead th {\n",
       "        text-align: right;\n",
       "    }\n",
       "</style>\n",
       "<table border=\"1\" class=\"dataframe\">\n",
       "  <thead>\n",
       "    <tr style=\"text-align: right;\">\n",
       "      <th></th>\n",
       "      <th>이름</th>\n",
       "      <th>키</th>\n",
       "      <th>몸무게</th>\n",
       "    </tr>\n",
       "  </thead>\n",
       "  <tbody>\n",
       "    <tr>\n",
       "      <th>0</th>\n",
       "      <td>김철수</td>\n",
       "      <td>175</td>\n",
       "      <td>75</td>\n",
       "    </tr>\n",
       "    <tr>\n",
       "      <th>1</th>\n",
       "      <td>이영희</td>\n",
       "      <td>162</td>\n",
       "      <td>52</td>\n",
       "    </tr>\n",
       "    <tr>\n",
       "      <th>2</th>\n",
       "      <td>박민수</td>\n",
       "      <td>180</td>\n",
       "      <td>85</td>\n",
       "    </tr>\n",
       "    <tr>\n",
       "      <th>3</th>\n",
       "      <td>정수진</td>\n",
       "      <td>168</td>\n",
       "      <td>57</td>\n",
       "    </tr>\n",
       "    <tr>\n",
       "      <th>4</th>\n",
       "      <td>최동욱</td>\n",
       "      <td>177</td>\n",
       "      <td>76</td>\n",
       "    </tr>\n",
       "  </tbody>\n",
       "</table>\n",
       "</div>"
      ],
      "text/plain": [
       "    이름    키  몸무게\n",
       "0  김철수  175   75\n",
       "1  이영희  162   52\n",
       "2  박민수  180   85\n",
       "3  정수진  168   57\n",
       "4  최동욱  177   76"
      ]
     },
     "execution_count": 9,
     "metadata": {},
     "output_type": "execute_result"
    }
   ],
   "source": [
    "import numpy as np\n",
    "\n",
    "# 데이터 생성\n",
    "data = {\n",
    "    '이름': ['김철수', '이영희', '박민수', '정수진', '최동욱'],\n",
    "    '키': [175, 162, 180, 168, 177],  # cm\n",
    "    '몸무게': [75, 52, 85, 57, 76]    # kg\n",
    "}\n",
    "\n",
    "df = pd.DataFrame(data)\n",
    "# df\n",
    "# numpy로 BMI 계산 함수 (키를 m 단위로 변환)\n",
    "def calculate_bmi(신장, 체중) : \n",
    "    # 단위 변환\n",
    "    height_m = height_cm / 100\n",
    "    bmi = weight_kg / (height_m**2)\n",
    "    return bmi\n",
    "\n",
    "calculate_bmi(182,80)\n",
    "\n"
   ]
  },
  {
   "cell_type": "code",
   "execution_count": null,
   "metadata": {},
   "outputs": [],
   "source": [
    "import numpy as np\n",
    "\n",
    "df. pd.DataFrame(data)\n",
    "df['BMI'] = calculate_bmi(df['키'], df['몸무게'])\n",
    "df"
   ]
  }
 ],
 "metadata": {
  "kernelspec": {
   "display_name": "Python 3",
   "language": "python",
   "name": "python3"
  },
  "language_info": {
   "codemirror_mode": {
    "name": "ipython",
    "version": 3
   },
   "file_extension": ".py",
   "mimetype": "text/x-python",
   "name": "python",
   "nbconvert_exporter": "python",
   "pygments_lexer": "ipython3",
   "version": "3.13.2"
  }
 },
 "nbformat": 4,
 "nbformat_minor": 2
}
